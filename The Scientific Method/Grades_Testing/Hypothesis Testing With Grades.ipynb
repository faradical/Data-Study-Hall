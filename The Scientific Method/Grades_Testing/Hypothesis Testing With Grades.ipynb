{
 "cells": [
  {
   "cell_type": "markdown",
   "metadata": {},
   "source": [
    "# Hypothesis Testing with grades\n",
    "This notebook will walk through the steps of analyzing students grades to determine if not studying has a negative impact on a student's grade."
   ]
  },
  {
   "cell_type": "markdown",
   "metadata": {},
   "source": [
    "## Import Dependencies"
   ]
  },
  {
   "cell_type": "code",
   "execution_count": 3,
   "metadata": {},
   "outputs": [],
   "source": [
    "import matplotlib.pyplot as plt\n",
    "import numpy as np\n",
    "import scipy.stats as stats\n",
    "import math\n",
    "import pandas as pd"
   ]
  },
  {
   "cell_type": "markdown",
   "metadata": {},
   "source": [
    "## Generate stats for grades population"
   ]
  },
  {
   "cell_type": "code",
   "execution_count": 4,
   "metadata": {},
   "outputs": [
    {
     "data": {
      "text/html": [
       "<div>\n",
       "<style scoped>\n",
       "    .dataframe tbody tr th:only-of-type {\n",
       "        vertical-align: middle;\n",
       "    }\n",
       "\n",
       "    .dataframe tbody tr th {\n",
       "        vertical-align: top;\n",
       "    }\n",
       "\n",
       "    .dataframe thead th {\n",
       "        text-align: right;\n",
       "    }\n",
       "</style>\n",
       "<table border=\"1\" class=\"dataframe\">\n",
       "  <thead>\n",
       "    <tr style=\"text-align: right;\">\n",
       "      <th></th>\n",
       "      <th>Grades</th>\n",
       "    </tr>\n",
       "  </thead>\n",
       "  <tbody>\n",
       "    <tr>\n",
       "      <th>0</th>\n",
       "      <td>75.14</td>\n",
       "    </tr>\n",
       "    <tr>\n",
       "      <th>1</th>\n",
       "      <td>87.68</td>\n",
       "    </tr>\n",
       "    <tr>\n",
       "      <th>2</th>\n",
       "      <td>65.46</td>\n",
       "    </tr>\n",
       "    <tr>\n",
       "      <th>3</th>\n",
       "      <td>69.22</td>\n",
       "    </tr>\n",
       "    <tr>\n",
       "      <th>4</th>\n",
       "      <td>68.72</td>\n",
       "    </tr>\n",
       "  </tbody>\n",
       "</table>\n",
       "</div>"
      ],
      "text/plain": [
       "   Grades\n",
       "0   75.14\n",
       "1   87.68\n",
       "2   65.46\n",
       "3   69.22\n",
       "4   68.72"
      ]
     },
     "execution_count": 4,
     "metadata": {},
     "output_type": "execute_result"
    }
   ],
   "source": [
    "gradesDF = pd.read_csv(\"Grades_Data.csv\")\n",
    "gradesDF.head()"
   ]
  },
  {
   "cell_type": "code",
   "execution_count": 5,
   "metadata": {},
   "outputs": [
    {
     "data": {
      "text/plain": [
       "count    1100.000000\n",
       "mean       79.736309\n",
       "std         5.897389\n",
       "min        59.410000\n",
       "25%        76.052500\n",
       "50%        79.965000\n",
       "75%        83.762500\n",
       "max        99.610000\n",
       "Name: Grades, dtype: float64"
      ]
     },
     "execution_count": 5,
     "metadata": {},
     "output_type": "execute_result"
    }
   ],
   "source": [
    "gradesDF['Grades'].describe()"
   ]
  },
  {
   "cell_type": "code",
   "execution_count": 6,
   "metadata": {},
   "outputs": [
    {
     "data": {
      "text/plain": [
       "[75.0, 88.0, 65.0, 69.0, 69.0]"
      ]
     },
     "execution_count": 6,
     "metadata": {},
     "output_type": "execute_result"
    }
   ],
   "source": [
    "grades = list(gradesDF.round()['Grades'])\n",
    "grades[:5]"
   ]
  },
  {
   "cell_type": "code",
   "execution_count": 7,
   "metadata": {},
   "outputs": [
    {
     "name": "stdout",
     "output_type": "stream",
     "text": [
      "Average: 79.71090909090908\n",
      "Variance: 35.11824462809918\n",
      "Standard Deviation: 5.926064851830359\n"
     ]
    }
   ],
   "source": [
    "mu = np.average(grades)\n",
    "variance = np.var(grades)\n",
    "sigma = math.sqrt(variance)\n",
    "print(f\"Average: {mu}\\nVariance: {variance}\\nStandard Deviation: {sigma}\")"
   ]
  },
  {
   "cell_type": "code",
   "execution_count": 8,
   "metadata": {},
   "outputs": [
    {
     "data": {
      "image/png": "[encoded data removed]",
      "text/plain": [
       "<Figure size 432x288 with 1 Axes>"
      ]
     },
     "metadata": {},
     "output_type": "display_data"
    }
   ],
   "source": [
    "plt.style.use('fivethirtyeight')\n",
    "\n",
    "x_axis = list(set(grades))\n",
    "y_axis = [grades.count(grade) for grade in x_axis]\n",
    "\n",
    "plt.bar(x_axis, y_axis, color=\"b\", label=\"Real Distribution\")\n",
    "plt.title(\"Distribution of grades\")\n",
    "plt.xlabel(\"Grade\")\n",
    "plt.ylabel(\"Frequency\")\n",
    "plt.show()"
   ]
  },
  {
   "cell_type": "markdown",
   "metadata": {},
   "source": [
    "## Generate stats for sample who did not study"
   ]
  },
  {
   "cell_type": "code",
   "execution_count": 9,
   "metadata": {},
   "outputs": [
    {
     "data": {
      "text/html": [
       "<div>\n",
       "<style scoped>\n",
       "    .dataframe tbody tr th:only-of-type {\n",
       "        vertical-align: middle;\n",
       "    }\n",
       "\n",
       "    .dataframe tbody tr th {\n",
       "        vertical-align: top;\n",
       "    }\n",
       "\n",
       "    .dataframe thead th {\n",
       "        text-align: right;\n",
       "    }\n",
       "</style>\n",
       "<table border=\"1\" class=\"dataframe\">\n",
       "  <thead>\n",
       "    <tr style=\"text-align: right;\">\n",
       "      <th></th>\n",
       "      <th>Grades</th>\n",
       "    </tr>\n",
       "  </thead>\n",
       "  <tbody>\n",
       "    <tr>\n",
       "      <th>0</th>\n",
       "      <td>71.70</td>\n",
       "    </tr>\n",
       "    <tr>\n",
       "      <th>1</th>\n",
       "      <td>57.61</td>\n",
       "    </tr>\n",
       "    <tr>\n",
       "      <th>2</th>\n",
       "      <td>60.17</td>\n",
       "    </tr>\n",
       "    <tr>\n",
       "      <th>3</th>\n",
       "      <td>69.27</td>\n",
       "    </tr>\n",
       "    <tr>\n",
       "      <th>4</th>\n",
       "      <td>75.36</td>\n",
       "    </tr>\n",
       "  </tbody>\n",
       "</table>\n",
       "</div>"
      ],
      "text/plain": [
       "   Grades\n",
       "0   71.70\n",
       "1   57.61\n",
       "2   60.17\n",
       "3   69.27\n",
       "4   75.36"
      ]
     },
     "execution_count": 9,
     "metadata": {},
     "output_type": "execute_result"
    }
   ],
   "source": [
    "grades_DNS_DF = pd.read_csv(\"Grades_Data_Did_Not_Study.csv\")\n",
    "grades_DNS_DF.head()"
   ]
  },
  {
   "cell_type": "code",
   "execution_count": 10,
   "metadata": {},
   "outputs": [
    {
     "data": {
      "text/plain": [
       "count    100.00000\n",
       "mean      68.26270\n",
       "std        5.47611\n",
       "min       56.51000\n",
       "25%       63.95000\n",
       "50%       68.13000\n",
       "75%       72.99000\n",
       "max       79.10000\n",
       "Name: Grades, dtype: float64"
      ]
     },
     "execution_count": 10,
     "metadata": {},
     "output_type": "execute_result"
    }
   ],
   "source": [
    "grades_DNS_DF['Grades'].describe()"
   ]
  },
  {
   "cell_type": "code",
   "execution_count": 11,
   "metadata": {},
   "outputs": [
    {
     "data": {
      "text/plain": [
       "[72.0, 58.0, 60.0, 69.0, 75.0]"
      ]
     },
     "execution_count": 11,
     "metadata": {},
     "output_type": "execute_result"
    }
   ],
   "source": [
    "grades_DNS = list(grades_DNS_DF.round()['Grades'])\n",
    "grades_DNS[:5]"
   ]
  },
  {
   "cell_type": "code",
   "execution_count": 12,
   "metadata": {},
   "outputs": [
    {
     "name": "stdout",
     "output_type": "stream",
     "text": [
      "Average: 68.26270000000001\n",
      "Variance: 29.417100000000005\n",
      "Standard Deviation: 5.476110072419337\n"
     ]
    }
   ],
   "source": [
    "mu = grades_DNS_DF['Grades'].describe()[1]\n",
    "variance = np.var(grades_DNS)\n",
    "sigma = grades_DNS_DF['Grades'].describe()[2]\n",
    "print(f\"Average: {mu}\\nVariance: {variance}\\nStandard Deviation: {sigma}\")"
   ]
  },
  {
   "cell_type": "code",
   "execution_count": 13,
   "metadata": {},
   "outputs": [
    {
     "data": {
      "image/png": "[encoded data removed]",
      "text/plain": [
       "<Figure size 432x288 with 1 Axes>"
      ]
     },
     "metadata": {},
     "output_type": "display_data"
    }
   ],
   "source": [
    "plt.clf\n",
    "plt.style.use('fivethirtyeight')\n",
    "\n",
    "x_axis = list(set(grades_DNS))\n",
    "y_axis = [grades_DNS.count(grade) for grade in x_axis]\n",
    "\n",
    "plt.bar(x_axis, y_axis, color=\"b\", label=\"Real Distribution\")\n",
    "plt.title(\"Distribution of grades (students did not study)\")\n",
    "plt.xlabel(\"Grade\")\n",
    "plt.ylabel(\"Frquency\")\n",
    "plt.show()"
   ]
  },
  {
   "cell_type": "markdown",
   "metadata": {},
   "source": [
    "## Define Hypotheses and statistical significance to look for"
   ]
  },
  {
   "cell_type": "markdown",
   "metadata": {},
   "source": [
    "### H<sub>0</sub>: Mu<sub>dns</sub> = Mu<sub>pop</sub>\n",
    "### H<sub>A</sub>: Mu<sub>dns</sub> < Mu<sub>pop</sub>"
   ]
  },
  {
   "cell_type": "markdown",
   "metadata": {},
   "source": [
    "## Define function for Calculating p-value"
   ]
  },
  {
   "cell_type": "code",
   "execution_count": 14,
   "metadata": {},
   "outputs": [],
   "source": [
    "def p_value(sample_mean, population_array, tails=2):\n",
    "    # We already know this\n",
    "    mu = np.average(population_array)\n",
    "    variance = np.var(population_array)\n",
    "    sigma = math.sqrt(variance)\n",
    "    \n",
    "    z_score = (sample_mean - mu) / sigma\n",
    "    \n",
    "    psr = [mu - (abs(z_score) * sigma), mu + (abs(z_score) * sigma)]\n",
    "    \n",
    "    pop_score = 0\n",
    "    \n",
    "    for item in population_array:\n",
    "        if item > psr[0] and item < psr[1]:\n",
    "            pop_score += 1\n",
    "    pop_percent = pop_score/len(population_array)\n",
    "    \n",
    "    pvalue = 1 - pop_percent\n",
    "    \n",
    "    if tails == 1:\n",
    "        pvalue = pvalue / 2\n",
    "    return {\"p-value\": pvalue, \"z-score\": z_score}"
   ]
  },
  {
   "cell_type": "code",
   "execution_count": 15,
   "metadata": {},
   "outputs": [
    {
     "data": {
      "text/plain": [
       "{'p-value': 0.06090909090909091, 'z-score': -1.9761695802724777}"
      ]
     },
     "execution_count": 15,
     "metadata": {},
     "output_type": "execute_result"
    }
   ],
   "source": [
    "p_value(68, grades)"
   ]
  },
  {
   "cell_type": "code",
   "execution_count": 16,
   "metadata": {},
   "outputs": [
    {
     "data": {
      "text/plain": [
       "{'p-value': 0.030454545454545456, 'z-score': -1.9761695802724777}"
      ]
     },
     "execution_count": 16,
     "metadata": {},
     "output_type": "execute_result"
    }
   ],
   "source": [
    "p_value(68, grades, 1)"
   ]
  },
  {
   "cell_type": "markdown",
   "metadata": {},
   "source": [
    "### Null hypothesis assumes that isolating any particualr variable to test for an effect on out data will not yield any results different from the data for the control group."
   ]
  },
  {
   "cell_type": "code",
   "execution_count": null,
   "metadata": {},
   "outputs": [],
   "source": []
  }
 ],
 "metadata": {
  "kernelspec": {
   "display_name": "Python 3",
   "language": "python",
   "name": "python3"
  },
  "language_info": {
   "codemirror_mode": {
    "name": "ipython",
    "version": 3
   },
   "file_extension": ".py",
   "mimetype": "text/x-python",
   "name": "python",
   "nbconvert_exporter": "python",
   "pygments_lexer": "ipython3",
   "version": "3.7.3"
  }
 },
 "nbformat": 4,
 "nbformat_minor": 4
}
