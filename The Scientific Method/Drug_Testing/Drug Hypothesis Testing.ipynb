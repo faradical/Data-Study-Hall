{
 "cells": [
  {
   "cell_type": "markdown",
   "metadata": {},
   "source": [
    "# Hypothesis Testing with Mice Drug Regimen\n",
    "The objective of this notebook is to use Hypothesis Testing with p-values to determine the effectiveness of the drug Ramicane at reducing tumor size in mice.\n",
    "\n",
    "\n"
   ]
  },
  {
   "cell_type": "markdown",
   "metadata": {},
   "source": [
    "## Import Dependencies"
   ]
  },
  {
   "cell_type": "code",
   "execution_count": 4,
   "metadata": {},
   "outputs": [],
   "source": [
    "import matplotlib.pyplot as plt\n",
    "import numpy as np\n",
    "import scipy.stats as stats\n",
    "import math\n",
    "import pandas as pd"
   ]
  },
  {
   "cell_type": "markdown",
   "metadata": {},
   "source": [
    "## Defining a function to generate p-values from the arrays being tested"
   ]
  },
  {
   "cell_type": "code",
   "execution_count": 27,
   "metadata": {},
   "outputs": [],
   "source": [
    "def p_value(sample_array, population_array, tails=2):\n",
    "    \n",
    "    sample_mean = np.average(sample_array)\n",
    "    mu = np.average(population_array)\n",
    "    variance = np.var(population_array)\n",
    "    sigma = math.sqrt(variance)\n",
    "    \n",
    "    z_score = (sample_mean - mu) / sigma\n",
    "    \n",
    "    psr = [mu - (abs(z_score) * sigma), mu + (abs(z_score) * sigma)]\n",
    "    \n",
    "    pop_score = 0\n",
    "    \n",
    "    for item in population_array:\n",
    "        if item > psr[0] and item < psr[1]:\n",
    "            pop_score += 1\n",
    "    pop_percent = pop_score/len(population_array)\n",
    "    \n",
    "    pvalue = 1 - pop_percent\n",
    "    \n",
    "    if tails == 1:\n",
    "        pvalue = pvalue / 2\n",
    "    return {\"p-value\": pvalue, \"z-score\": z_score}"
   ]
  },
  {
   "cell_type": "markdown",
   "metadata": {},
   "source": [
    "## Importing the Drug Study CSV"
   ]
  },
  {
   "cell_type": "code",
   "execution_count": 6,
   "metadata": {},
   "outputs": [
    {
     "data": {
      "text/html": [
       "<div>\n",
       "<style scoped>\n",
       "    .dataframe tbody tr th:only-of-type {\n",
       "        vertical-align: middle;\n",
       "    }\n",
       "\n",
       "    .dataframe tbody tr th {\n",
       "        vertical-align: top;\n",
       "    }\n",
       "\n",
       "    .dataframe thead th {\n",
       "        text-align: right;\n",
       "    }\n",
       "</style>\n",
       "<table border=\"1\" class=\"dataframe\">\n",
       "  <thead>\n",
       "    <tr style=\"text-align: right;\">\n",
       "      <th></th>\n",
       "      <th>Mouse ID</th>\n",
       "      <th>Drug Regimen</th>\n",
       "      <th>Sex</th>\n",
       "      <th>Age_months</th>\n",
       "      <th>Weight (g)</th>\n",
       "      <th>Timepoint</th>\n",
       "      <th>Tumor Volume (mm3)</th>\n",
       "      <th>Metastatic Sites</th>\n",
       "    </tr>\n",
       "  </thead>\n",
       "  <tbody>\n",
       "    <tr>\n",
       "      <th>0</th>\n",
       "      <td>k403</td>\n",
       "      <td>Ramicane</td>\n",
       "      <td>Male</td>\n",
       "      <td>21</td>\n",
       "      <td>16</td>\n",
       "      <td>0</td>\n",
       "      <td>45.000000</td>\n",
       "      <td>0</td>\n",
       "    </tr>\n",
       "    <tr>\n",
       "      <th>1</th>\n",
       "      <td>k403</td>\n",
       "      <td>Ramicane</td>\n",
       "      <td>Male</td>\n",
       "      <td>21</td>\n",
       "      <td>16</td>\n",
       "      <td>5</td>\n",
       "      <td>38.825898</td>\n",
       "      <td>0</td>\n",
       "    </tr>\n",
       "    <tr>\n",
       "      <th>2</th>\n",
       "      <td>k403</td>\n",
       "      <td>Ramicane</td>\n",
       "      <td>Male</td>\n",
       "      <td>21</td>\n",
       "      <td>16</td>\n",
       "      <td>10</td>\n",
       "      <td>35.014271</td>\n",
       "      <td>1</td>\n",
       "    </tr>\n",
       "    <tr>\n",
       "      <th>3</th>\n",
       "      <td>k403</td>\n",
       "      <td>Ramicane</td>\n",
       "      <td>Male</td>\n",
       "      <td>21</td>\n",
       "      <td>16</td>\n",
       "      <td>15</td>\n",
       "      <td>34.223992</td>\n",
       "      <td>1</td>\n",
       "    </tr>\n",
       "    <tr>\n",
       "      <th>4</th>\n",
       "      <td>k403</td>\n",
       "      <td>Ramicane</td>\n",
       "      <td>Male</td>\n",
       "      <td>21</td>\n",
       "      <td>16</td>\n",
       "      <td>20</td>\n",
       "      <td>32.997729</td>\n",
       "      <td>1</td>\n",
       "    </tr>\n",
       "  </tbody>\n",
       "</table>\n",
       "</div>"
      ],
      "text/plain": [
       "  Mouse ID Drug Regimen   Sex  Age_months  Weight (g)  Timepoint  \\\n",
       "0     k403     Ramicane  Male          21          16          0   \n",
       "1     k403     Ramicane  Male          21          16          5   \n",
       "2     k403     Ramicane  Male          21          16         10   \n",
       "3     k403     Ramicane  Male          21          16         15   \n",
       "4     k403     Ramicane  Male          21          16         20   \n",
       "\n",
       "   Tumor Volume (mm3)  Metastatic Sites  \n",
       "0           45.000000                 0  \n",
       "1           38.825898                 0  \n",
       "2           35.014271                 1  \n",
       "3           34.223992                 1  \n",
       "4           32.997729                 1  "
      ]
     },
     "execution_count": 6,
     "metadata": {},
     "output_type": "execute_result"
    }
   ],
   "source": [
    "mouse_metadata_path = \"Mouse_metadata.csv\"\n",
    "study_results_path = \"Study_results.csv\"\n",
    "\n",
    "mouse_metadata = pd.read_csv(mouse_metadata_path)\n",
    "study_results = pd.read_csv(study_results_path)\n",
    "\n",
    "# Combine the data into a single dataset\n",
    "mouseandstudy_df = pd.merge(mouse_metadata, study_results, how=\"outer\", on=\"Mouse ID\")\n",
    "mouseandstudy_df.head()"
   ]
  },
  {
   "cell_type": "code",
   "execution_count": 7,
   "metadata": {},
   "outputs": [
    {
     "data": {
      "text/plain": [
       "Capomulin    230\n",
       "Ramicane     228\n",
       "Ketapril     188\n",
       "Naftisol     186\n",
       "Zoniferol    182\n",
       "Stelasyn     181\n",
       "Placebo      181\n",
       "Infubinol    178\n",
       "Ceftamin     178\n",
       "Propriva     161\n",
       "Name: Drug Regimen, dtype: int64"
      ]
     },
     "execution_count": 7,
     "metadata": {},
     "output_type": "execute_result"
    }
   ],
   "source": [
    "mouseandstudy_df['Drug Regimen'].value_counts()"
   ]
  },
  {
   "cell_type": "markdown",
   "metadata": {},
   "source": [
    "## Generating stats for Mouse Placebo population"
   ]
  },
  {
   "cell_type": "code",
   "execution_count": 8,
   "metadata": {},
   "outputs": [],
   "source": [
    "PlaceboDF = mouseandstudy_df[mouseandstudy_df['Drug Regimen'] == \"Placebo\"].reset_index()"
   ]
  },
  {
   "cell_type": "markdown",
   "metadata": {},
   "source": [
    "### Display change in mean of key values aross time"
   ]
  },
  {
   "cell_type": "code",
   "execution_count": 9,
   "metadata": {},
   "outputs": [
    {
     "data": {
      "text/html": [
       "<div>\n",
       "<style scoped>\n",
       "    .dataframe tbody tr th:only-of-type {\n",
       "        vertical-align: middle;\n",
       "    }\n",
       "\n",
       "    .dataframe tbody tr th {\n",
       "        vertical-align: top;\n",
       "    }\n",
       "\n",
       "    .dataframe thead th {\n",
       "        text-align: right;\n",
       "    }\n",
       "</style>\n",
       "<table border=\"1\" class=\"dataframe\">\n",
       "  <thead>\n",
       "    <tr style=\"text-align: right;\">\n",
       "      <th></th>\n",
       "      <th>index</th>\n",
       "      <th>Age_months</th>\n",
       "      <th>Weight (g)</th>\n",
       "      <th>Tumor Volume (mm3)</th>\n",
       "      <th>Metastatic Sites</th>\n",
       "    </tr>\n",
       "    <tr>\n",
       "      <th>Timepoint</th>\n",
       "      <th></th>\n",
       "      <th></th>\n",
       "      <th></th>\n",
       "      <th></th>\n",
       "      <th></th>\n",
       "    </tr>\n",
       "  </thead>\n",
       "  <tbody>\n",
       "    <tr>\n",
       "      <th>0</th>\n",
       "      <td>1227.560000</td>\n",
       "      <td>10.680000</td>\n",
       "      <td>28.040000</td>\n",
       "      <td>45.000000</td>\n",
       "      <td>0.000000</td>\n",
       "    </tr>\n",
       "    <tr>\n",
       "      <th>5</th>\n",
       "      <td>1231.250000</td>\n",
       "      <td>10.333333</td>\n",
       "      <td>27.958333</td>\n",
       "      <td>47.125589</td>\n",
       "      <td>0.375000</td>\n",
       "    </tr>\n",
       "    <tr>\n",
       "      <th>10</th>\n",
       "      <td>1232.250000</td>\n",
       "      <td>10.333333</td>\n",
       "      <td>27.958333</td>\n",
       "      <td>49.423329</td>\n",
       "      <td>0.833333</td>\n",
       "    </tr>\n",
       "    <tr>\n",
       "      <th>15</th>\n",
       "      <td>1193.700000</td>\n",
       "      <td>10.300000</td>\n",
       "      <td>28.200000</td>\n",
       "      <td>51.359742</td>\n",
       "      <td>1.250000</td>\n",
       "    </tr>\n",
       "    <tr>\n",
       "      <th>20</th>\n",
       "      <td>1179.684211</td>\n",
       "      <td>10.578947</td>\n",
       "      <td>28.105263</td>\n",
       "      <td>54.364417</td>\n",
       "      <td>1.526316</td>\n",
       "    </tr>\n",
       "    <tr>\n",
       "      <th>25</th>\n",
       "      <td>1168.941176</td>\n",
       "      <td>10.647059</td>\n",
       "      <td>27.882353</td>\n",
       "      <td>57.482574</td>\n",
       "      <td>1.941176</td>\n",
       "    </tr>\n",
       "    <tr>\n",
       "      <th>30</th>\n",
       "      <td>1161.400000</td>\n",
       "      <td>10.600000</td>\n",
       "      <td>27.800000</td>\n",
       "      <td>59.809063</td>\n",
       "      <td>2.266667</td>\n",
       "    </tr>\n",
       "    <tr>\n",
       "      <th>35</th>\n",
       "      <td>1154.857143</td>\n",
       "      <td>11.214286</td>\n",
       "      <td>27.714286</td>\n",
       "      <td>62.420615</td>\n",
       "      <td>2.642857</td>\n",
       "    </tr>\n",
       "    <tr>\n",
       "      <th>40</th>\n",
       "      <td>1089.833333</td>\n",
       "      <td>12.166667</td>\n",
       "      <td>27.500000</td>\n",
       "      <td>65.052675</td>\n",
       "      <td>3.166667</td>\n",
       "    </tr>\n",
       "    <tr>\n",
       "      <th>45</th>\n",
       "      <td>1077.454545</td>\n",
       "      <td>11.818182</td>\n",
       "      <td>27.727273</td>\n",
       "      <td>68.084082</td>\n",
       "      <td>3.272727</td>\n",
       "    </tr>\n",
       "  </tbody>\n",
       "</table>\n",
       "</div>"
      ],
      "text/plain": [
       "                 index  Age_months  Weight (g)  Tumor Volume (mm3)  \\\n",
       "Timepoint                                                            \n",
       "0          1227.560000   10.680000   28.040000           45.000000   \n",
       "5          1231.250000   10.333333   27.958333           47.125589   \n",
       "10         1232.250000   10.333333   27.958333           49.423329   \n",
       "15         1193.700000   10.300000   28.200000           51.359742   \n",
       "20         1179.684211   10.578947   28.105263           54.364417   \n",
       "25         1168.941176   10.647059   27.882353           57.482574   \n",
       "30         1161.400000   10.600000   27.800000           59.809063   \n",
       "35         1154.857143   11.214286   27.714286           62.420615   \n",
       "40         1089.833333   12.166667   27.500000           65.052675   \n",
       "45         1077.454545   11.818182   27.727273           68.084082   \n",
       "\n",
       "           Metastatic Sites  \n",
       "Timepoint                    \n",
       "0                  0.000000  \n",
       "5                  0.375000  \n",
       "10                 0.833333  \n",
       "15                 1.250000  \n",
       "20                 1.526316  \n",
       "25                 1.941176  \n",
       "30                 2.266667  \n",
       "35                 2.642857  \n",
       "40                 3.166667  \n",
       "45                 3.272727  "
      ]
     },
     "execution_count": 9,
     "metadata": {},
     "output_type": "execute_result"
    }
   ],
   "source": [
    "placedo_mean_df = PlaceboDF.groupby(\"Timepoint\").mean()\n",
    "placedo_mean_df"
   ]
  },
  {
   "cell_type": "markdown",
   "metadata": {},
   "source": [
    "### Display change in standard deviation of key values aross time"
   ]
  },
  {
   "cell_type": "code",
   "execution_count": 10,
   "metadata": {},
   "outputs": [
    {
     "data": {
      "text/html": [
       "<div>\n",
       "<style scoped>\n",
       "    .dataframe tbody tr th:only-of-type {\n",
       "        vertical-align: middle;\n",
       "    }\n",
       "\n",
       "    .dataframe tbody tr th {\n",
       "        vertical-align: top;\n",
       "    }\n",
       "\n",
       "    .dataframe thead th {\n",
       "        text-align: right;\n",
       "    }\n",
       "</style>\n",
       "<table border=\"1\" class=\"dataframe\">\n",
       "  <thead>\n",
       "    <tr style=\"text-align: right;\">\n",
       "      <th></th>\n",
       "      <th>index</th>\n",
       "      <th>Age_months</th>\n",
       "      <th>Weight (g)</th>\n",
       "      <th>Tumor Volume (mm3)</th>\n",
       "      <th>Metastatic Sites</th>\n",
       "    </tr>\n",
       "    <tr>\n",
       "      <th>Timepoint</th>\n",
       "      <th></th>\n",
       "      <th></th>\n",
       "      <th></th>\n",
       "      <th></th>\n",
       "      <th></th>\n",
       "    </tr>\n",
       "  </thead>\n",
       "  <tbody>\n",
       "    <tr>\n",
       "      <th>0</th>\n",
       "      <td>408.528771</td>\n",
       "      <td>6.587362</td>\n",
       "      <td>1.946792</td>\n",
       "      <td>0.000000</td>\n",
       "      <td>0.000000</td>\n",
       "    </tr>\n",
       "    <tr>\n",
       "      <th>5</th>\n",
       "      <td>417.089110</td>\n",
       "      <td>6.491912</td>\n",
       "      <td>1.944427</td>\n",
       "      <td>1.068422</td>\n",
       "      <td>0.494535</td>\n",
       "    </tr>\n",
       "    <tr>\n",
       "      <th>10</th>\n",
       "      <td>417.089110</td>\n",
       "      <td>6.491912</td>\n",
       "      <td>1.944427</td>\n",
       "      <td>1.969702</td>\n",
       "      <td>0.564660</td>\n",
       "    </tr>\n",
       "    <tr>\n",
       "      <th>15</th>\n",
       "      <td>428.994062</td>\n",
       "      <td>6.358583</td>\n",
       "      <td>1.823819</td>\n",
       "      <td>2.747955</td>\n",
       "      <td>0.850696</td>\n",
       "    </tr>\n",
       "    <tr>\n",
       "      <th>20</th>\n",
       "      <td>435.316112</td>\n",
       "      <td>6.405864</td>\n",
       "      <td>1.822536</td>\n",
       "      <td>3.659772</td>\n",
       "      <td>1.020263</td>\n",
       "    </tr>\n",
       "    <tr>\n",
       "      <th>25</th>\n",
       "      <td>448.114588</td>\n",
       "      <td>6.642112</td>\n",
       "      <td>1.798692</td>\n",
       "      <td>4.266887</td>\n",
       "      <td>1.088037</td>\n",
       "    </tr>\n",
       "    <tr>\n",
       "      <th>30</th>\n",
       "      <td>467.757233</td>\n",
       "      <td>6.587868</td>\n",
       "      <td>1.820518</td>\n",
       "      <td>4.718189</td>\n",
       "      <td>1.162919</td>\n",
       "    </tr>\n",
       "    <tr>\n",
       "      <th>35</th>\n",
       "      <td>484.467012</td>\n",
       "      <td>6.375175</td>\n",
       "      <td>1.857565</td>\n",
       "      <td>4.817311</td>\n",
       "      <td>1.277446</td>\n",
       "    </tr>\n",
       "    <tr>\n",
       "      <th>40</th>\n",
       "      <td>491.082447</td>\n",
       "      <td>6.407855</td>\n",
       "      <td>1.882938</td>\n",
       "      <td>4.748016</td>\n",
       "      <td>1.029857</td>\n",
       "    </tr>\n",
       "    <tr>\n",
       "      <th>45</th>\n",
       "      <td>512.752838</td>\n",
       "      <td>6.600275</td>\n",
       "      <td>1.793929</td>\n",
       "      <td>4.483167</td>\n",
       "      <td>1.009050</td>\n",
       "    </tr>\n",
       "  </tbody>\n",
       "</table>\n",
       "</div>"
      ],
      "text/plain": [
       "                index  Age_months  Weight (g)  Tumor Volume (mm3)  \\\n",
       "Timepoint                                                           \n",
       "0          408.528771    6.587362    1.946792            0.000000   \n",
       "5          417.089110    6.491912    1.944427            1.068422   \n",
       "10         417.089110    6.491912    1.944427            1.969702   \n",
       "15         428.994062    6.358583    1.823819            2.747955   \n",
       "20         435.316112    6.405864    1.822536            3.659772   \n",
       "25         448.114588    6.642112    1.798692            4.266887   \n",
       "30         467.757233    6.587868    1.820518            4.718189   \n",
       "35         484.467012    6.375175    1.857565            4.817311   \n",
       "40         491.082447    6.407855    1.882938            4.748016   \n",
       "45         512.752838    6.600275    1.793929            4.483167   \n",
       "\n",
       "           Metastatic Sites  \n",
       "Timepoint                    \n",
       "0                  0.000000  \n",
       "5                  0.494535  \n",
       "10                 0.564660  \n",
       "15                 0.850696  \n",
       "20                 1.020263  \n",
       "25                 1.088037  \n",
       "30                 1.162919  \n",
       "35                 1.277446  \n",
       "40                 1.029857  \n",
       "45                 1.009050  "
      ]
     },
     "execution_count": 10,
     "metadata": {},
     "output_type": "execute_result"
    }
   ],
   "source": [
    "PlaceboDF.groupby(\"Timepoint\").std()"
   ]
  },
  {
   "cell_type": "code",
   "execution_count": 11,
   "metadata": {},
   "outputs": [],
   "source": [
    "Time_min = PlaceboDF['Timepoint'].min()\n",
    "Time_max = PlaceboDF['Timepoint'].max()\n",
    "\n",
    "# Stats for time=0\n",
    "P_tv_t0 = PlaceboDF[PlaceboDF['Timepoint'] == Time_min]['Tumor Volume (mm3)']\n",
    "P_tv_mean_t0 = P_tv_t0.describe()[1]\n",
    "P_tv_std_t0 = P_tv_t0.describe()[2]\n",
    "P_tv_n_t0 = P_tv_t0.describe()[0]\n",
    "\n",
    "# Stats for time=45\n",
    "P_tv_t45 = PlaceboDF[PlaceboDF['Timepoint'] == Time_max]['Tumor Volume (mm3)']\n",
    "P_tv_mean_t45 = P_tv_t45.describe()[1]\n",
    "P_tv_std_t45 = P_tv_t45.describe()[2]\n",
    "P_tv_n_t45 = P_tv_t45.describe()[0]"
   ]
  },
  {
   "cell_type": "code",
   "execution_count": 12,
   "metadata": {},
   "outputs": [
    {
     "name": "stdout",
     "output_type": "stream",
     "text": [
      "Initial tumor volume mean: 45.0\n",
      "Final tumor volume mean: 68.08408221818182\n",
      "Delta tumor volume mean: 23.08408221818182\n"
     ]
    },
    {
     "data": {
      "image/png": "[encoded data removed]",
      "text/plain": [
       "<Figure size 432x288 with 2 Axes>"
      ]
     },
     "metadata": {},
     "output_type": "display_data"
    }
   ],
   "source": [
    "plt.style.use('fivethirtyeight')\n",
    "\n",
    "x_axis = placedo_mean_df.index\n",
    "y_tum_vol = placedo_mean_df['Tumor Volume (mm3)']\n",
    "y_met_sites = placedo_mean_df['Metastatic Sites']\n",
    "\n",
    "fig, axs = plt.subplots(2)\n",
    "fig.suptitle('Control Group Tumor change over time')\n",
    "axs[0].plot(x_axis, y_tum_vol)\n",
    "axs[0].set(ylabel=\"Tumor \\nVolume\")\n",
    "axs[1].plot(x_axis, y_met_sites)\n",
    "axs[1].set(ylabel=\"Metastatic \\nSites\", xlabel=\"Timepoint\")\n",
    "\n",
    "print(f\"Initial tumor volume mean: {P_tv_mean_t0}\")\n",
    "print(f\"Final tumor volume mean: {P_tv_mean_t45}\")\n",
    "print(f\"Delta tumor volume mean: {P_tv_mean_t45 - P_tv_mean_t0}\")\n",
    "plt.show()"
   ]
  },
  {
   "cell_type": "markdown",
   "metadata": {},
   "source": [
    "## Generate stats for Mice treated with Ramicane"
   ]
  },
  {
   "cell_type": "code",
   "execution_count": 13,
   "metadata": {},
   "outputs": [],
   "source": [
    "RamicaneDF = mouseandstudy_df[mouseandstudy_df['Drug Regimen'] == \"Ramicane\"].reset_index()"
   ]
  },
  {
   "cell_type": "markdown",
   "metadata": {},
   "source": [
    "### Display change in mean of key values aross time"
   ]
  },
  {
   "cell_type": "code",
   "execution_count": 14,
   "metadata": {},
   "outputs": [
    {
     "data": {
      "text/html": [
       "<div>\n",
       "<style scoped>\n",
       "    .dataframe tbody tr th:only-of-type {\n",
       "        vertical-align: middle;\n",
       "    }\n",
       "\n",
       "    .dataframe tbody tr th {\n",
       "        vertical-align: top;\n",
       "    }\n",
       "\n",
       "    .dataframe thead th {\n",
       "        text-align: right;\n",
       "    }\n",
       "</style>\n",
       "<table border=\"1\" class=\"dataframe\">\n",
       "  <thead>\n",
       "    <tr style=\"text-align: right;\">\n",
       "      <th></th>\n",
       "      <th>index</th>\n",
       "      <th>Age_months</th>\n",
       "      <th>Weight (g)</th>\n",
       "      <th>Tumor Volume (mm3)</th>\n",
       "      <th>Metastatic Sites</th>\n",
       "    </tr>\n",
       "    <tr>\n",
       "      <th>Timepoint</th>\n",
       "      <th></th>\n",
       "      <th></th>\n",
       "      <th></th>\n",
       "      <th></th>\n",
       "      <th></th>\n",
       "    </tr>\n",
       "  </thead>\n",
       "  <tbody>\n",
       "    <tr>\n",
       "      <th>0</th>\n",
       "      <td>233.880000</td>\n",
       "      <td>10.840000</td>\n",
       "      <td>20.000000</td>\n",
       "      <td>45.000000</td>\n",
       "      <td>0.000000</td>\n",
       "    </tr>\n",
       "    <tr>\n",
       "      <th>5</th>\n",
       "      <td>234.880000</td>\n",
       "      <td>10.840000</td>\n",
       "      <td>20.000000</td>\n",
       "      <td>43.944859</td>\n",
       "      <td>0.120000</td>\n",
       "    </tr>\n",
       "    <tr>\n",
       "      <th>10</th>\n",
       "      <td>226.958333</td>\n",
       "      <td>11.083333</td>\n",
       "      <td>19.833333</td>\n",
       "      <td>42.531957</td>\n",
       "      <td>0.250000</td>\n",
       "    </tr>\n",
       "    <tr>\n",
       "      <th>15</th>\n",
       "      <td>227.958333</td>\n",
       "      <td>11.083333</td>\n",
       "      <td>19.833333</td>\n",
       "      <td>41.495061</td>\n",
       "      <td>0.333333</td>\n",
       "    </tr>\n",
       "    <tr>\n",
       "      <th>20</th>\n",
       "      <td>219.173913</td>\n",
       "      <td>10.739130</td>\n",
       "      <td>19.652174</td>\n",
       "      <td>40.238325</td>\n",
       "      <td>0.347826</td>\n",
       "    </tr>\n",
       "    <tr>\n",
       "      <th>25</th>\n",
       "      <td>220.173913</td>\n",
       "      <td>10.739130</td>\n",
       "      <td>19.652174</td>\n",
       "      <td>38.974300</td>\n",
       "      <td>0.652174</td>\n",
       "    </tr>\n",
       "    <tr>\n",
       "      <th>30</th>\n",
       "      <td>221.173913</td>\n",
       "      <td>10.739130</td>\n",
       "      <td>19.652174</td>\n",
       "      <td>38.703137</td>\n",
       "      <td>0.782609</td>\n",
       "    </tr>\n",
       "    <tr>\n",
       "      <th>35</th>\n",
       "      <td>208.190476</td>\n",
       "      <td>10.428571</td>\n",
       "      <td>19.380952</td>\n",
       "      <td>37.451996</td>\n",
       "      <td>0.952381</td>\n",
       "    </tr>\n",
       "    <tr>\n",
       "      <th>40</th>\n",
       "      <td>206.500000</td>\n",
       "      <td>10.050000</td>\n",
       "      <td>19.300000</td>\n",
       "      <td>36.574081</td>\n",
       "      <td>1.100000</td>\n",
       "    </tr>\n",
       "    <tr>\n",
       "      <th>45</th>\n",
       "      <td>207.500000</td>\n",
       "      <td>10.050000</td>\n",
       "      <td>19.300000</td>\n",
       "      <td>34.955595</td>\n",
       "      <td>1.250000</td>\n",
       "    </tr>\n",
       "  </tbody>\n",
       "</table>\n",
       "</div>"
      ],
      "text/plain": [
       "                index  Age_months  Weight (g)  Tumor Volume (mm3)  \\\n",
       "Timepoint                                                           \n",
       "0          233.880000   10.840000   20.000000           45.000000   \n",
       "5          234.880000   10.840000   20.000000           43.944859   \n",
       "10         226.958333   11.083333   19.833333           42.531957   \n",
       "15         227.958333   11.083333   19.833333           41.495061   \n",
       "20         219.173913   10.739130   19.652174           40.238325   \n",
       "25         220.173913   10.739130   19.652174           38.974300   \n",
       "30         221.173913   10.739130   19.652174           38.703137   \n",
       "35         208.190476   10.428571   19.380952           37.451996   \n",
       "40         206.500000   10.050000   19.300000           36.574081   \n",
       "45         207.500000   10.050000   19.300000           34.955595   \n",
       "\n",
       "           Metastatic Sites  \n",
       "Timepoint                    \n",
       "0                  0.000000  \n",
       "5                  0.120000  \n",
       "10                 0.250000  \n",
       "15                 0.333333  \n",
       "20                 0.347826  \n",
       "25                 0.652174  \n",
       "30                 0.782609  \n",
       "35                 0.952381  \n",
       "40                 1.100000  \n",
       "45                 1.250000  "
      ]
     },
     "execution_count": 14,
     "metadata": {},
     "output_type": "execute_result"
    }
   ],
   "source": [
    "ramicane_mean_df = RamicaneDF.groupby(\"Timepoint\").mean()\n",
    "ramicane_mean_df"
   ]
  },
  {
   "cell_type": "code",
   "execution_count": 15,
   "metadata": {},
   "outputs": [],
   "source": [
    "Time_min = RamicaneDF['Timepoint'].min()\n",
    "Time_max = RamicaneDF['Timepoint'].max()\n",
    "\n",
    "# Stats for time=0\n",
    "R_tv_t0 = RamicaneDF[RamicaneDF['Timepoint'] == Time_min]['Tumor Volume (mm3)']\n",
    "R_tv_mean_t0 = R_tv_t0.describe()[1]\n",
    "R_tv_std_t0 = R_tv_t0.describe()[2]\n",
    "R_tv_n_t0 = R_tv_t0.describe()[0]\n",
    "\n",
    "# Stats for time=45\n",
    "R_tv_t45 = RamicaneDF[RamicaneDF['Timepoint'] == Time_max]['Tumor Volume (mm3)']\n",
    "R_tv_mean_t45 = R_tv_t45.describe()[1]\n",
    "R_tv_std_t45 = R_tv_t45.describe()[2]\n",
    "R_tv_n_t45 = R_tv_t45.describe()[0]"
   ]
  },
  {
   "cell_type": "code",
   "execution_count": 16,
   "metadata": {},
   "outputs": [
    {
     "name": "stdout",
     "output_type": "stream",
     "text": [
      "Initial tumor volume mean: 45.0\n",
      "Final tumor volume mean: 34.955594792\n",
      "Delta tumor volume mean: -10.044405208\n"
     ]
    },
    {
     "data": {
      "image/png": "[encoded data removed]",
      "text/plain": [
       "<Figure size 432x288 with 2 Axes>"
      ]
     },
     "metadata": {},
     "output_type": "display_data"
    }
   ],
   "source": [
    "plt.style.use('fivethirtyeight')\n",
    "\n",
    "x_axis = ramicane_mean_df.index\n",
    "y_tum_vol = ramicane_mean_df['Tumor Volume (mm3)']\n",
    "y_met_sites = ramicane_mean_df['Metastatic Sites']\n",
    "\n",
    "fig, axs = plt.subplots(2)\n",
    "fig.suptitle('Ramicane Group Tumor change over time')\n",
    "axs[0].plot(x_axis, y_tum_vol)\n",
    "axs[0].set(ylabel=\"Tumor \\nVolume\")\n",
    "axs[1].plot(x_axis, y_met_sites)\n",
    "axs[1].set(ylabel=\"Metastatic \\nSites\", xlabel=\"Timepoint\")\n",
    "\n",
    "print(f\"Initial tumor volume mean: {R_tv_mean_t0}\")\n",
    "print(f\"Final tumor volume mean: {R_tv_mean_t45}\")\n",
    "print(f\"Delta tumor volume mean: {R_tv_mean_t45 - R_tv_mean_t0}\")\n",
    "plt.show()"
   ]
  },
  {
   "cell_type": "markdown",
   "metadata": {},
   "source": [
    "Comparing this chart to the one above displays a clear downward trend in tumor volume for mice treated with Ramicane. However, we cannot know from simply seeing this how significant this result is. It may be able to be accounted for with violating the null hypothesis. To determine this, we will use the p-value to determine the result's level of significance."
   ]
  },
  {
   "cell_type": "markdown",
   "metadata": {},
   "source": [
    "## Use P-value to determine similarity of starting data for both Drug Regimens.\n",
    "Before we can compare the final results for each regimen, we must first ensure "
   ]
  },
  {
   "cell_type": "code",
   "execution_count": 35,
   "metadata": {},
   "outputs": [
    {
     "data": {
      "text/plain": [
       "count    25.0\n",
       "mean     45.0\n",
       "std       0.0\n",
       "min      45.0\n",
       "25%      45.0\n",
       "50%      45.0\n",
       "75%      45.0\n",
       "max      45.0\n",
       "Name: Tumor Volume (mm3), dtype: float64"
      ]
     },
     "execution_count": 35,
     "metadata": {},
     "output_type": "execute_result"
    }
   ],
   "source": [
    "Time_min = RamicaneDF['Timepoint'].min()\n",
    "Time_max = RamicaneDF['Timepoint'].max()\n",
    "Ram_tv_t0 = RamicaneDF[RamicaneDF['Timepoint'] == Time_min]['Tumor Volume (mm3)']\n",
    "Ram_tv_t0.describe()"
   ]
  },
  {
   "cell_type": "code",
   "execution_count": 36,
   "metadata": {},
   "outputs": [
    {
     "name": "stderr",
     "output_type": "stream",
     "text": [
      "C:\\Users\\farad\\Anaconda3\\lib\\site-packages\\ipykernel_launcher.py:8: RuntimeWarning: invalid value encountered in double_scalars\n",
      "  \n"
     ]
    },
    {
     "data": {
      "text/plain": [
       "{'p-value': 1.0, 'z-score': nan}"
      ]
     },
     "execution_count": 36,
     "metadata": {},
     "output_type": "execute_result"
    }
   ],
   "source": [
    "p_value(Ram_tv_t0, P_tv_t0)"
   ]
  },
  {
   "cell_type": "markdown",
   "metadata": {},
   "source": [
    "The p-value is 1.0, meaning the starting tumor size for both Regimens is exactly overlayed."
   ]
  },
  {
   "cell_type": "markdown",
   "metadata": {},
   "source": [
    "## Define Hypotheses and statistical significance to look for\n",
    "\n",
    "X̄<sub>TV</sub> = Ramicane tumor volume\\\n",
    "μ<sub>TV</sub> = Placebo tumor volume\\\n",
    "t = Time"
   ]
  },
  {
   "cell_type": "markdown",
   "metadata": {},
   "source": [
    "### H<sub>0</sub>: X̄<sub>TV at t=45</sub> = μ<sub>TV at t=45</sub>\n",
    "The Null Hypothesis assumes there will be no difference between the Ramicane tumor volume (TV) average and the Placebo average at t=45.\n",
    "\n",
    "### H<sub>A</sub>: X̄<sub>TV at t=45</sub> != μ<sub>TV at t=45</sub>\n",
    "The Alternative Hypothesis assumes there will be a difference between the Ramicane tumor volume (TV) average and the Placebo average at t=45.\n",
    "\n",
    "### Significance Level (sig_lev) is set to 5%."
   ]
  },
  {
   "cell_type": "code",
   "execution_count": 37,
   "metadata": {},
   "outputs": [],
   "source": [
    "sig_lev = 0.05"
   ]
  },
  {
   "cell_type": "markdown",
   "metadata": {},
   "source": [
    "## Analyzing the results"
   ]
  },
  {
   "cell_type": "code",
   "execution_count": 39,
   "metadata": {},
   "outputs": [
    {
     "name": "stdout",
     "output_type": "stream",
     "text": [
      "Ramicane final tumor volume: 34.955594792\n",
      "Placebo final tumor volume: 68.08408221818182\n"
     ]
    }
   ],
   "source": [
    "Ram_tv_t45 = RamicaneDF[RamicaneDF['Timepoint'] == Time_max]['Tumor Volume (mm3)']\n",
    "Ram_tv_mean_t45 = Ram_tv_t45.describe()[1]\n",
    "print(f'Ramicane final tumor volume: {Ram_tv_mean_t45}')\n",
    "print(f'Placebo final tumor volume: {P_tv_mean_t45}')"
   ]
  },
  {
   "cell_type": "code",
   "execution_count": 40,
   "metadata": {},
   "outputs": [
    {
     "data": {
      "text/plain": [
       "{'p-value': 0.0, 'z-score': -7.750202856867518}"
      ]
     },
     "execution_count": 40,
     "metadata": {},
     "output_type": "execute_result"
    }
   ],
   "source": [
    "p_value(Ram_tv_t45, P_tv_t45)"
   ]
  },
  {
   "cell_type": "markdown",
   "metadata": {},
   "source": [
    "-7.750202856867518/2 = -3.875 for 1 talied distribulion for a p-value of less than 0.0001, meaning we would expect to see a result like this in 0.01% of all experiments assuming the null hypothesis."
   ]
  },
  {
   "cell_type": "markdown",
   "metadata": {},
   "source": [
    "Z-score and p-value are extremely low, well below the 5% significance level. We reject the Null Hypothesis that the drug has no effect."
   ]
  }
 ],
 "metadata": {
  "kernelspec": {
   "display_name": "Python 3",
   "language": "python",
   "name": "python3"
  },
  "language_info": {
   "codemirror_mode": {
    "name": "ipython",
    "version": 3
   },
   "file_extension": ".py",
   "mimetype": "text/x-python",
   "name": "python",
   "nbconvert_exporter": "python",
   "pygments_lexer": "ipython3",
   "version": "3.7.3"
  }
 },
 "nbformat": 4,
 "nbformat_minor": 4
}
