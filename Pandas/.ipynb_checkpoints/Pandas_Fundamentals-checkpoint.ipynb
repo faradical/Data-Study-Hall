{
 "cells": [
  {
   "cell_type": "markdown",
   "metadata": {
    "slideshow": {
     "slide_type": "slide"
    }
   },
   "source": [
    "# Pandas\n",
    "Pandas is a data analysis library for python that enables powerful and easy ingress, manipulation, and storage of data."
   ]
  },
  {
   "cell_type": "code",
   "execution_count": 3,
   "metadata": {
    "slideshow": {
     "slide_type": "subslide"
    }
   },
   "outputs": [],
   "source": [
    "# Importing Pandas as a dependency.\n",
    "import pandas as pd"
   ]
  },
  {
   "cell_type": "markdown",
   "metadata": {
    "slideshow": {
     "slide_type": "slide"
    }
   },
   "source": [
    "## Pandas Data Structures\n",
    "Pandas features two major data structures: Series and DataFrames."
   ]
  },
  {
   "cell_type": "markdown",
   "metadata": {
    "slideshow": {
     "slide_type": "slide"
    }
   },
   "source": [
    "### Series\n",
    "Series objects are indexed, one-dimensional arrays that behave similar to native python lists, as well as featuring several methods native to pandas."
   ]
  },
  {
   "cell_type": "code",
   "execution_count": 72,
   "metadata": {
    "slideshow": {
     "slide_type": "slide"
    }
   },
   "outputs": [
    {
     "data": {
      "text/plain": [
       "0    a\n",
       "1    b\n",
       "2    c\n",
       "3    d\n",
       "4    e\n",
       "5    f\n",
       "6    h\n",
       "7    i\n",
       "8    j\n",
       "Name: My Letters, dtype: object"
      ]
     },
     "execution_count": 72,
     "metadata": {},
     "output_type": "execute_result"
    }
   ],
   "source": [
    "# A native python list\n",
    "my_data = [\"a\",\"b\",\"c\",\"d\",\"e\",\"f\",\"h\",\"i\",\"j\"]\n",
    "\n",
    "# Conversion to Pandas Series object\n",
    "my_series = pd.Series(my_data)\n",
    "\n",
    "# OPTIONAL: Naming our series\n",
    "my_series.name = \"My Letters\"\n",
    "\n",
    "# Printing out our Series\n",
    "my_series"
   ]
  },
  {
   "cell_type": "markdown",
   "metadata": {
    "slideshow": {
     "slide_type": "subslide"
    }
   },
   "source": [
    "On the Left, the series index is visible, starting from 0. To the right is the data we created in our list. At the bottom, we can see the optional name we added to the series, as well as the datatype of the data within the series.\n",
    "\n",
    "While this may not seem terribly impressive compared to a normal python list, this allows us to then use special pandas methods with our data. Below, the ```decribe()``` method is used to easily return statistical analysis on a set of data."
   ]
  },
  {
   "cell_type": "code",
   "execution_count": 73,
   "metadata": {
    "slideshow": {
     "slide_type": "slide"
    }
   },
   "outputs": [
    {
     "data": {
      "text/plain": [
       "0    23\n",
       "1    52\n",
       "2    62\n",
       "3    25\n",
       "4    24\n",
       "5    22\n",
       "6    21\n",
       "7    28\n",
       "8    32\n",
       "dtype: int64"
      ]
     },
     "execution_count": 73,
     "metadata": {},
     "output_type": "execute_result"
    }
   ],
   "source": [
    "my_data_2 = [23,52,62,25,24,22,21,28,32]\n",
    "my_series_2 = pd.Series(my_data_2)\n",
    "my_series_2"
   ]
  },
  {
   "cell_type": "code",
   "execution_count": 74,
   "metadata": {
    "slideshow": {
     "slide_type": "slide"
    }
   },
   "outputs": [
    {
     "data": {
      "text/plain": [
       "count     9.000000\n",
       "mean     32.111111\n",
       "std      14.709219\n",
       "min      21.000000\n",
       "25%      23.000000\n",
       "50%      25.000000\n",
       "75%      32.000000\n",
       "max      62.000000\n",
       "dtype: float64"
      ]
     },
     "execution_count": 74,
     "metadata": {},
     "output_type": "execute_result"
    }
   ],
   "source": [
    "my_series_2.describe()"
   ]
  },
  {
   "cell_type": "markdown",
   "metadata": {
    "slideshow": {
     "slide_type": "subslide"
    }
   },
   "source": [
    "Note that the datatype for the \"describe\" result is different -that is because this is Series of it's own!"
   ]
  },
  {
   "cell_type": "markdown",
   "metadata": {
    "slideshow": {
     "slide_type": "slide"
    }
   },
   "source": [
    "### DataFrames\n",
    "The second major Pandas datatype is the DataFrame. A DataFrame is a tabular (table-like), 2-dimensional(i.e., rows and columns) object that is in many ways the central part of the pandas library. DataFrames are both indexed, like Series, and labeled. The index corresponds to the rows of the DataFrame while the labels correspond to the columns."
   ]
  },
  {
   "cell_type": "code",
   "execution_count": 90,
   "metadata": {
    "slideshow": {
     "slide_type": "slide"
    }
   },
   "outputs": [
    {
     "data": {
      "text/html": [
       "<div>\n",
       "<style scoped>\n",
       "    .dataframe tbody tr th:only-of-type {\n",
       "        vertical-align: middle;\n",
       "    }\n",
       "\n",
       "    .dataframe tbody tr th {\n",
       "        vertical-align: top;\n",
       "    }\n",
       "\n",
       "    .dataframe thead th {\n",
       "        text-align: right;\n",
       "    }\n",
       "</style>\n",
       "<table border=\"1\" class=\"dataframe\">\n",
       "  <thead>\n",
       "    <tr style=\"text-align: right;\">\n",
       "      <th></th>\n",
       "      <th>My Letters</th>\n",
       "      <th>My Numbers</th>\n",
       "    </tr>\n",
       "  </thead>\n",
       "  <tbody>\n",
       "    <tr>\n",
       "      <th>0</th>\n",
       "      <td>a</td>\n",
       "      <td>23</td>\n",
       "    </tr>\n",
       "    <tr>\n",
       "      <th>1</th>\n",
       "      <td>b</td>\n",
       "      <td>52</td>\n",
       "    </tr>\n",
       "    <tr>\n",
       "      <th>2</th>\n",
       "      <td>c</td>\n",
       "      <td>62</td>\n",
       "    </tr>\n",
       "    <tr>\n",
       "      <th>3</th>\n",
       "      <td>d</td>\n",
       "      <td>25</td>\n",
       "    </tr>\n",
       "    <tr>\n",
       "      <th>4</th>\n",
       "      <td>e</td>\n",
       "      <td>24</td>\n",
       "    </tr>\n",
       "    <tr>\n",
       "      <th>5</th>\n",
       "      <td>f</td>\n",
       "      <td>22</td>\n",
       "    </tr>\n",
       "    <tr>\n",
       "      <th>6</th>\n",
       "      <td>h</td>\n",
       "      <td>21</td>\n",
       "    </tr>\n",
       "    <tr>\n",
       "      <th>7</th>\n",
       "      <td>i</td>\n",
       "      <td>28</td>\n",
       "    </tr>\n",
       "    <tr>\n",
       "      <th>8</th>\n",
       "      <td>j</td>\n",
       "      <td>32</td>\n",
       "    </tr>\n",
       "  </tbody>\n",
       "</table>\n",
       "</div>"
      ],
      "text/plain": [
       "  My Letters  My Numbers\n",
       "0          a          23\n",
       "1          b          52\n",
       "2          c          62\n",
       "3          d          25\n",
       "4          e          24\n",
       "5          f          22\n",
       "6          h          21\n",
       "7          i          28\n",
       "8          j          32"
      ]
     },
     "execution_count": 90,
     "metadata": {},
     "output_type": "execute_result"
    }
   ],
   "source": [
    "# Iniitalizing a DataFrame using the first Series we created.\n",
    "df = pd.DataFrame(my_series)\n",
    "\n",
    "# Adding the second Series to the DataFrame\n",
    "df[\"My Numbers\"] = my_series_2\n",
    "\n",
    "# Viewing the DataFrame\n",
    "df"
   ]
  },
  {
   "cell_type": "markdown",
   "metadata": {
    "slideshow": {
     "slide_type": "subslide"
    }
   },
   "source": [
    "The DataFrame features the same index as the series used to create it's columns. Within the DataFrame, every row and column that makes it up is in fact its own Pandas Series."
   ]
  },
  {
   "cell_type": "markdown",
   "metadata": {
    "slideshow": {
     "slide_type": "slide"
    }
   },
   "source": [
    "## Creating DataFrames\n",
    "There are numerous ways to create data frames conveniently built into Pandas depending on the structure of our target data. The following are just a few of the most common:"
   ]
  },
  {
   "cell_type": "markdown",
   "metadata": {
    "slideshow": {
     "slide_type": "slide"
    }
   },
   "source": [
    "### A list of dictionaries\n",
    "This method is ideal for creating dictionaries from data generated within a loop, such as iterating over data from an API."
   ]
  },
  {
   "cell_type": "code",
   "execution_count": 107,
   "metadata": {
    "slideshow": {
     "slide_type": "subslide"
    }
   },
   "outputs": [
    {
     "data": {
      "text/html": [
       "<div>\n",
       "<style scoped>\n",
       "    .dataframe tbody tr th:only-of-type {\n",
       "        vertical-align: middle;\n",
       "    }\n",
       "\n",
       "    .dataframe tbody tr th {\n",
       "        vertical-align: top;\n",
       "    }\n",
       "\n",
       "    .dataframe thead th {\n",
       "        text-align: right;\n",
       "    }\n",
       "</style>\n",
       "<table border=\"1\" class=\"dataframe\">\n",
       "  <thead>\n",
       "    <tr style=\"text-align: right;\">\n",
       "      <th></th>\n",
       "      <th>Letters</th>\n",
       "      <th>Num_1</th>\n",
       "      <th>Num_2</th>\n",
       "    </tr>\n",
       "  </thead>\n",
       "  <tbody>\n",
       "    <tr>\n",
       "      <th>0</th>\n",
       "      <td>a</td>\n",
       "      <td>23</td>\n",
       "      <td>2</td>\n",
       "    </tr>\n",
       "    <tr>\n",
       "      <th>1</th>\n",
       "      <td>b</td>\n",
       "      <td>26</td>\n",
       "      <td>3</td>\n",
       "    </tr>\n",
       "    <tr>\n",
       "      <th>2</th>\n",
       "      <td>c</td>\n",
       "      <td>32</td>\n",
       "      <td>2</td>\n",
       "    </tr>\n",
       "    <tr>\n",
       "      <th>3</th>\n",
       "      <td>d</td>\n",
       "      <td>21</td>\n",
       "      <td>4</td>\n",
       "    </tr>\n",
       "  </tbody>\n",
       "</table>\n",
       "</div>"
      ],
      "text/plain": [
       "  Letters  Num_1  Num_2\n",
       "0       a     23      2\n",
       "1       b     26      3\n",
       "2       c     32      2\n",
       "3       d     21      4"
      ]
     },
     "execution_count": 107,
     "metadata": {},
     "output_type": "execute_result"
    }
   ],
   "source": [
    "# Create a series of dictionaries\n",
    "my_dict_1 = {\"Letters\": \"a\", \"Num_1\": 23, \"Num_2\": 2}\n",
    "my_dict_2 = {\"Letters\": \"b\", \"Num_1\": 26, \"Num_2\": 3}\n",
    "my_dict_3 = {\"Letters\": \"c\", \"Num_1\": 32, \"Num_2\": 2}\n",
    "my_dict_4 = {\"Letters\": \"d\", \"Num_1\": 21, \"Num_2\": 4}\n",
    "\n",
    "# Add all of these dictionaries to a list\n",
    "my_list = [my_dict_1, my_dict_2, my_dict_3, my_dict_4]\n",
    "\n",
    "# Then convert that into a DataFrame\n",
    "df = pd.DataFrame(my_list)\n",
    "df"
   ]
  },
  {
   "cell_type": "markdown",
   "metadata": {
    "slideshow": {
     "slide_type": "slide"
    }
   },
   "source": [
    "### A dictionary of lists\n",
    "A dictionary of lists is a quick way to hand-write small data into a DataFrame."
   ]
  },
  {
   "cell_type": "code",
   "execution_count": 43,
   "metadata": {
    "slideshow": {
     "slide_type": "subslide"
    }
   },
   "outputs": [
    {
     "data": {
      "text/html": [
       "<div>\n",
       "<style scoped>\n",
       "    .dataframe tbody tr th:only-of-type {\n",
       "        vertical-align: middle;\n",
       "    }\n",
       "\n",
       "    .dataframe tbody tr th {\n",
       "        vertical-align: top;\n",
       "    }\n",
       "\n",
       "    .dataframe thead th {\n",
       "        text-align: right;\n",
       "    }\n",
       "</style>\n",
       "<table border=\"1\" class=\"dataframe\">\n",
       "  <thead>\n",
       "    <tr style=\"text-align: right;\">\n",
       "      <th></th>\n",
       "      <th>Letters</th>\n",
       "      <th>Num_1</th>\n",
       "      <th>Num_2</th>\n",
       "    </tr>\n",
       "  </thead>\n",
       "  <tbody>\n",
       "    <tr>\n",
       "      <th>0</th>\n",
       "      <td>a</td>\n",
       "      <td>23</td>\n",
       "      <td>2</td>\n",
       "    </tr>\n",
       "    <tr>\n",
       "      <th>1</th>\n",
       "      <td>b</td>\n",
       "      <td>26</td>\n",
       "      <td>3</td>\n",
       "    </tr>\n",
       "    <tr>\n",
       "      <th>2</th>\n",
       "      <td>c</td>\n",
       "      <td>32</td>\n",
       "      <td>2</td>\n",
       "    </tr>\n",
       "    <tr>\n",
       "      <th>3</th>\n",
       "      <td>d</td>\n",
       "      <td>21</td>\n",
       "      <td>4</td>\n",
       "    </tr>\n",
       "  </tbody>\n",
       "</table>\n",
       "</div>"
      ],
      "text/plain": [
       "  Letters  Num_1  Num_2\n",
       "0       a     23      2\n",
       "1       b     26      3\n",
       "2       c     32      2\n",
       "3       d     21      4"
      ]
     },
     "execution_count": 43,
     "metadata": {},
     "output_type": "execute_result"
    }
   ],
   "source": [
    "# Create a series of lists\n",
    "column_a = [\"a\",\"b\",\"c\",\"d\"]\n",
    "column_b = [23,26,32,21]\n",
    "column_c = [2,3,2,4]\n",
    "\n",
    "# Insert them into a dictionary\n",
    "my_dict = {\"Letters\": column_a, \"Num_1\": column_b, \"Num_2\": column_c}\n",
    "\n",
    "# Then convert that into a DataFrame\n",
    "df = pd.DataFrame(my_dict)\n",
    "df"
   ]
  },
  {
   "cell_type": "markdown",
   "metadata": {
    "slideshow": {
     "slide_type": "slide"
    }
   },
   "source": [
    "### Reading from a SQL database\n",
    "Data can be read directly from SQL databases using Pandas. For this example, we will use sqlalchemy to quickly build a SQL database from a SQLite file."
   ]
  },
  {
   "cell_type": "code",
   "execution_count": 5,
   "metadata": {
    "slideshow": {
     "slide_type": "subslide"
    }
   },
   "outputs": [
    {
     "data": {
      "text/html": [
       "<div>\n",
       "<style scoped>\n",
       "    .dataframe tbody tr th:only-of-type {\n",
       "        vertical-align: middle;\n",
       "    }\n",
       "\n",
       "    .dataframe tbody tr th {\n",
       "        vertical-align: top;\n",
       "    }\n",
       "\n",
       "    .dataframe thead th {\n",
       "        text-align: right;\n",
       "    }\n",
       "</style>\n",
       "<table border=\"1\" class=\"dataframe\">\n",
       "  <thead>\n",
       "    <tr style=\"text-align: right;\">\n",
       "      <th></th>\n",
       "      <th>CityState</th>\n",
       "      <th>city</th>\n",
       "      <th>state</th>\n",
       "      <th>Population</th>\n",
       "      <th>White Population</th>\n",
       "      <th>Black Population</th>\n",
       "      <th>Native American Population</th>\n",
       "      <th>Asian Population</th>\n",
       "      <th>Hispanic Population</th>\n",
       "      <th>Education None</th>\n",
       "      <th>...</th>\n",
       "      <th>Employment Female Computer Engineering</th>\n",
       "      <th>Median Age</th>\n",
       "      <th>Median Male Age</th>\n",
       "      <th>Median Female Age</th>\n",
       "      <th>Household Income</th>\n",
       "      <th>Income Per Capita</th>\n",
       "      <th>Median Gross Rent</th>\n",
       "      <th>Median Home Value</th>\n",
       "      <th>lat</th>\n",
       "      <th>lng</th>\n",
       "    </tr>\n",
       "  </thead>\n",
       "  <tbody>\n",
       "    <tr>\n",
       "      <th>0</th>\n",
       "      <td>HOUSTON, TX</td>\n",
       "      <td>HOUSTON</td>\n",
       "      <td>TX</td>\n",
       "      <td>3061887</td>\n",
       "      <td>1775897</td>\n",
       "      <td>684416</td>\n",
       "      <td>11586</td>\n",
       "      <td>230549</td>\n",
       "      <td>1368287</td>\n",
       "      <td>54180</td>\n",
       "      <td>...</td>\n",
       "      <td>22637</td>\n",
       "      <td>33.439583</td>\n",
       "      <td>32.550000</td>\n",
       "      <td>34.363542</td>\n",
       "      <td>56206.50000</td>\n",
       "      <td>32239.52083</td>\n",
       "      <td>956.708333</td>\n",
       "      <td>178233.6842</td>\n",
       "      <td>29.775734</td>\n",
       "      <td>-95.414548</td>\n",
       "    </tr>\n",
       "    <tr>\n",
       "      <th>1</th>\n",
       "      <td>CHICAGO, IL</td>\n",
       "      <td>CHICAGO</td>\n",
       "      <td>IL</td>\n",
       "      <td>2702091</td>\n",
       "      <td>1318869</td>\n",
       "      <td>843633</td>\n",
       "      <td>7554</td>\n",
       "      <td>161478</td>\n",
       "      <td>785374</td>\n",
       "      <td>32800</td>\n",
       "      <td>...</td>\n",
       "      <td>18209</td>\n",
       "      <td>34.526786</td>\n",
       "      <td>33.798214</td>\n",
       "      <td>35.141071</td>\n",
       "      <td>57735.96429</td>\n",
       "      <td>38730.83929</td>\n",
       "      <td>1119.928571</td>\n",
       "      <td>264739.2857</td>\n",
       "      <td>41.867838</td>\n",
       "      <td>-87.673440</td>\n",
       "    </tr>\n",
       "    <tr>\n",
       "      <th>2</th>\n",
       "      <td>BROOKLYN, NY</td>\n",
       "      <td>BROOKLYN</td>\n",
       "      <td>NY</td>\n",
       "      <td>2595259</td>\n",
       "      <td>1126111</td>\n",
       "      <td>870465</td>\n",
       "      <td>8744</td>\n",
       "      <td>297890</td>\n",
       "      <td>509243</td>\n",
       "      <td>48934</td>\n",
       "      <td>...</td>\n",
       "      <td>14845</td>\n",
       "      <td>35.175676</td>\n",
       "      <td>33.367568</td>\n",
       "      <td>36.578378</td>\n",
       "      <td>51469.18919</td>\n",
       "      <td>28309.67568</td>\n",
       "      <td>1261.783784</td>\n",
       "      <td>605743.2432</td>\n",
       "      <td>40.652805</td>\n",
       "      <td>-73.956528</td>\n",
       "    </tr>\n",
       "    <tr>\n",
       "      <th>3</th>\n",
       "      <td>LOS ANGELES, CA</td>\n",
       "      <td>LOS ANGELES</td>\n",
       "      <td>CA</td>\n",
       "      <td>2426413</td>\n",
       "      <td>1068202</td>\n",
       "      <td>324842</td>\n",
       "      <td>15949</td>\n",
       "      <td>273829</td>\n",
       "      <td>1292382</td>\n",
       "      <td>62684</td>\n",
       "      <td>...</td>\n",
       "      <td>12329</td>\n",
       "      <td>35.335484</td>\n",
       "      <td>34.535484</td>\n",
       "      <td>36.061290</td>\n",
       "      <td>47494.58333</td>\n",
       "      <td>30073.19355</td>\n",
       "      <td>1201.766667</td>\n",
       "      <td>557115.0000</td>\n",
       "      <td>34.042209</td>\n",
       "      <td>-118.303468</td>\n",
       "    </tr>\n",
       "    <tr>\n",
       "      <th>4</th>\n",
       "      <td>MIAMI, FL</td>\n",
       "      <td>MIAMI</td>\n",
       "      <td>FL</td>\n",
       "      <td>1820704</td>\n",
       "      <td>1361009</td>\n",
       "      <td>363514</td>\n",
       "      <td>2250</td>\n",
       "      <td>33144</td>\n",
       "      <td>1162711</td>\n",
       "      <td>27137</td>\n",
       "      <td>...</td>\n",
       "      <td>6969</td>\n",
       "      <td>38.740741</td>\n",
       "      <td>37.120370</td>\n",
       "      <td>40.262963</td>\n",
       "      <td>51232.90741</td>\n",
       "      <td>25949.35185</td>\n",
       "      <td>1260.833333</td>\n",
       "      <td>243279.6296</td>\n",
       "      <td>25.760268</td>\n",
       "      <td>-80.298511</td>\n",
       "    </tr>\n",
       "  </tbody>\n",
       "</table>\n",
       "<p>5 rows × 31 columns</p>\n",
       "</div>"
      ],
      "text/plain": [
       "         CityState         city state  Population  White Population  \\\n",
       "0      HOUSTON, TX      HOUSTON    TX     3061887           1775897   \n",
       "1      CHICAGO, IL      CHICAGO    IL     2702091           1318869   \n",
       "2     BROOKLYN, NY     BROOKLYN    NY     2595259           1126111   \n",
       "3  LOS ANGELES, CA  LOS ANGELES    CA     2426413           1068202   \n",
       "4        MIAMI, FL        MIAMI    FL     1820704           1361009   \n",
       "\n",
       "   Black Population  Native American Population  Asian Population  \\\n",
       "0            684416                       11586            230549   \n",
       "1            843633                        7554            161478   \n",
       "2            870465                        8744            297890   \n",
       "3            324842                       15949            273829   \n",
       "4            363514                        2250             33144   \n",
       "\n",
       "   Hispanic Population  Education None  ...  \\\n",
       "0              1368287           54180  ...   \n",
       "1               785374           32800  ...   \n",
       "2               509243           48934  ...   \n",
       "3              1292382           62684  ...   \n",
       "4              1162711           27137  ...   \n",
       "\n",
       "   Employment Female Computer Engineering  Median Age  Median Male Age  \\\n",
       "0                                   22637   33.439583        32.550000   \n",
       "1                                   18209   34.526786        33.798214   \n",
       "2                                   14845   35.175676        33.367568   \n",
       "3                                   12329   35.335484        34.535484   \n",
       "4                                    6969   38.740741        37.120370   \n",
       "\n",
       "   Median Female Age  Household Income  Income Per Capita  Median Gross Rent  \\\n",
       "0          34.363542       56206.50000        32239.52083         956.708333   \n",
       "1          35.141071       57735.96429        38730.83929        1119.928571   \n",
       "2          36.578378       51469.18919        28309.67568        1261.783784   \n",
       "3          36.061290       47494.58333        30073.19355        1201.766667   \n",
       "4          40.262963       51232.90741        25949.35185        1260.833333   \n",
       "\n",
       "   Median Home Value        lat         lng  \n",
       "0        178233.6842  29.775734  -95.414548  \n",
       "1        264739.2857  41.867838  -87.673440  \n",
       "2        605743.2432  40.652805  -73.956528  \n",
       "3        557115.0000  34.042209 -118.303468  \n",
       "4        243279.6296  25.760268  -80.298511  \n",
       "\n",
       "[5 rows x 31 columns]"
      ]
     },
     "execution_count": 5,
     "metadata": {},
     "output_type": "execute_result"
    }
   ],
   "source": [
    "# Importing additional dependencies\n",
    "from sqlalchemy import create_engine\n",
    "\n",
    "# Path to SQLite file\n",
    "database_path = \"data_sources/Census_Data.sqlite\"\n",
    "\n",
    "# Creating the SQL database\n",
    "engine = create_engine(f\"sqlite:///{database_path}\")\n",
    "\n",
    "# Establisting a connection to our database\n",
    "conn = engine.connect()\n",
    "\n",
    "# Using pandas to read data out of SQL\n",
    "census_data = pd.read_sql(\"SELECT * FROM Census_Data\", conn)\n",
    "\n",
    "# Because this DataFrame is so large, we will use the head() method to print out the top 5 entries.\n",
    "census_data.head()"
   ]
  },
  {
   "cell_type": "markdown",
   "metadata": {
    "slideshow": {
     "slide_type": "slide"
    }
   },
   "source": [
    "Don't forget to shutdown the database when we are done with it!"
   ]
  },
  {
   "cell_type": "code",
   "execution_count": 121,
   "metadata": {
    "slideshow": {
     "slide_type": "subslide"
    }
   },
   "outputs": [],
   "source": [
    "engine.dispose()"
   ]
  },
  {
   "cell_type": "markdown",
   "metadata": {
    "slideshow": {
     "slide_type": "slide"
    }
   },
   "source": [
    "### Web Scraping a table\n",
    "You can scrape table elements directly from HTML using Pandas."
   ]
  },
  {
   "cell_type": "code",
   "execution_count": 8,
   "metadata": {
    "slideshow": {
     "slide_type": "subslide"
    }
   },
   "outputs": [],
   "source": [
    "# Defining the URL to scrape from\n",
    "url = \"https://en.wikipedia.org/wiki/List_of_the_highest_major_summits_of_North_America\"\n",
    "\n",
    "# Converting all table elements from the page into DataFrames. This method returns a list of DataFrames from the URL.\n",
    "mountains_table_list = pd.read_html(url)\n",
    "\n",
    "# Parsing through the list to find the table we want\n",
    "mountains_table_list"
   ]
  },
  {
   "cell_type": "code",
   "execution_count": 96,
   "metadata": {
    "slideshow": {
     "slide_type": "subslide"
    }
   },
   "outputs": [
    {
     "data": {
      "text/html": [
       "<div>\n",
       "<style scoped>\n",
       "    .dataframe tbody tr th:only-of-type {\n",
       "        vertical-align: middle;\n",
       "    }\n",
       "\n",
       "    .dataframe tbody tr th {\n",
       "        vertical-align: top;\n",
       "    }\n",
       "\n",
       "    .dataframe thead th {\n",
       "        text-align: right;\n",
       "    }\n",
       "</style>\n",
       "<table border=\"1\" class=\"dataframe\">\n",
       "  <thead>\n",
       "    <tr style=\"text-align: right;\">\n",
       "      <th></th>\n",
       "      <th>Rank</th>\n",
       "      <th>Mountain peak</th>\n",
       "      <th>Region</th>\n",
       "      <th>Mountain range</th>\n",
       "      <th>Elevation</th>\n",
       "      <th>Prominence</th>\n",
       "      <th>Isolation</th>\n",
       "      <th>Location</th>\n",
       "    </tr>\n",
       "  </thead>\n",
       "  <tbody>\n",
       "    <tr>\n",
       "      <th>0</th>\n",
       "      <td>1</td>\n",
       "      <td>Denali[7][8][a](formerly Mount McKinley)</td>\n",
       "      <td>Alaska</td>\n",
       "      <td>Alaska Range</td>\n",
       "      <td>20,310 ft</td>\n",
       "      <td>20,146 ft</td>\n",
       "      <td>NaN</td>\n",
       "      <td>63°04′08″N 151°00′23″W﻿ / ﻿63.0690°N 151.0063°W</td>\n",
       "    </tr>\n",
       "    <tr>\n",
       "      <th>1</th>\n",
       "      <td>2</td>\n",
       "      <td>Mount Logan[9][10][b]</td>\n",
       "      <td>Yukon</td>\n",
       "      <td>Saint Elias Mountains</td>\n",
       "      <td>19,551 ft</td>\n",
       "      <td>17,215 ft</td>\n",
       "      <td>387 mi</td>\n",
       "      <td>60°34′02″N 140°24′20″W﻿ / ﻿60.5671°N 140.4055°W</td>\n",
       "    </tr>\n",
       "    <tr>\n",
       "      <th>2</th>\n",
       "      <td>3</td>\n",
       "      <td>Pico de Orizaba[11][12][c](Citlaltépetl)</td>\n",
       "      <td>Puebla Veracruz</td>\n",
       "      <td>Cordillera Neovolcanica</td>\n",
       "      <td>18,491 ft</td>\n",
       "      <td>16,148 ft</td>\n",
       "      <td>NaN</td>\n",
       "      <td>19°01′50″N 97°16′11″W﻿ / ﻿19.0305°N 97.2698°W</td>\n",
       "    </tr>\n",
       "    <tr>\n",
       "      <th>3</th>\n",
       "      <td>4</td>\n",
       "      <td>Mount Saint Elias[13][14][d]</td>\n",
       "      <td>Alaska Yukon</td>\n",
       "      <td>Saint Elias Mountains</td>\n",
       "      <td>18,009 ft</td>\n",
       "      <td>11,250 ft</td>\n",
       "      <td>25.6 mi</td>\n",
       "      <td>60°17′34″N 140°55′51″W﻿ / ﻿60.2927°N 140.9307°W</td>\n",
       "    </tr>\n",
       "    <tr>\n",
       "      <th>4</th>\n",
       "      <td>5</td>\n",
       "      <td>Popocatépetl[15][16][e][f]</td>\n",
       "      <td>México Morelos Puebla</td>\n",
       "      <td>Cordillera Neovolcanica</td>\n",
       "      <td>17,749 ft</td>\n",
       "      <td>9,974 ft</td>\n",
       "      <td>88.8 mi</td>\n",
       "      <td>19°01′21″N 98°37′40″W﻿ / ﻿19.0225°N 98.6278°W</td>\n",
       "    </tr>\n",
       "  </tbody>\n",
       "</table>\n",
       "</div>"
      ],
      "text/plain": [
       "   Rank                             Mountain peak                 Region  \\\n",
       "0     1  Denali[7][8][a](formerly Mount McKinley)                 Alaska   \n",
       "1     2                     Mount Logan[9][10][b]                  Yukon   \n",
       "2     3  Pico de Orizaba[11][12][c](Citlaltépetl)        Puebla Veracruz   \n",
       "3     4              Mount Saint Elias[13][14][d]           Alaska Yukon   \n",
       "4     5                Popocatépetl[15][16][e][f]  México Morelos Puebla   \n",
       "\n",
       "            Mountain range  Elevation Prominence Isolation  \\\n",
       "0             Alaska Range  20,310 ft  20,146 ft       NaN   \n",
       "1    Saint Elias Mountains  19,551 ft  17,215 ft    387 mi   \n",
       "2  Cordillera Neovolcanica  18,491 ft  16,148 ft       NaN   \n",
       "3    Saint Elias Mountains  18,009 ft  11,250 ft   25.6 mi   \n",
       "4  Cordillera Neovolcanica  17,749 ft   9,974 ft   88.8 mi   \n",
       "\n",
       "                                          Location  \n",
       "0  63°04′08″N 151°00′23″W﻿ / ﻿63.0690°N 151.0063°W  \n",
       "1  60°34′02″N 140°24′20″W﻿ / ﻿60.5671°N 140.4055°W  \n",
       "2    19°01′50″N 97°16′11″W﻿ / ﻿19.0305°N 97.2698°W  \n",
       "3  60°17′34″N 140°55′51″W﻿ / ﻿60.2927°N 140.9307°W  \n",
       "4    19°01′21″N 98°37′40″W﻿ / ﻿19.0225°N 98.6278°W  "
      ]
     },
     "execution_count": 96,
     "metadata": {},
     "output_type": "execute_result"
    }
   ],
   "source": [
    "# It looks like the table we want is the second entry in the list of tables, so we will save it and print its head.\n",
    "mountains_df = mountains_table_list[1]\n",
    "mountains_df.head()"
   ]
  },
  {
   "cell_type": "markdown",
   "metadata": {
    "slideshow": {
     "slide_type": "slide"
    }
   },
   "source": [
    "### Reading from a CSV\n",
    "One of the most common ways to ingress data using Pandas, the humble CSV."
   ]
  },
  {
   "cell_type": "code",
   "execution_count": 6,
   "metadata": {
    "slideshow": {
     "slide_type": "subslide"
    }
   },
   "outputs": [
    {
     "data": {
      "text/html": [
       "<div>\n",
       "<style scoped>\n",
       "    .dataframe tbody tr th:only-of-type {\n",
       "        vertical-align: middle;\n",
       "    }\n",
       "\n",
       "    .dataframe tbody tr th {\n",
       "        vertical-align: top;\n",
       "    }\n",
       "\n",
       "    .dataframe thead th {\n",
       "        text-align: right;\n",
       "    }\n",
       "</style>\n",
       "<table border=\"1\" class=\"dataframe\">\n",
       "  <thead>\n",
       "    <tr style=\"text-align: right;\">\n",
       "      <th></th>\n",
       "      <th>CityState</th>\n",
       "      <th>city</th>\n",
       "      <th>state</th>\n",
       "      <th>Population</th>\n",
       "      <th>White Population</th>\n",
       "      <th>Black Population</th>\n",
       "      <th>Native American Population</th>\n",
       "      <th>Asian Population</th>\n",
       "      <th>Hispanic Population</th>\n",
       "      <th>Education None</th>\n",
       "      <th>...</th>\n",
       "      <th>Employment Female Computer Engineering</th>\n",
       "      <th>Median Age</th>\n",
       "      <th>Median Male Age</th>\n",
       "      <th>Median Female Age</th>\n",
       "      <th>Household Income</th>\n",
       "      <th>Income Per Capita</th>\n",
       "      <th>Median Gross Rent</th>\n",
       "      <th>Median Home Value</th>\n",
       "      <th>lat</th>\n",
       "      <th>lng</th>\n",
       "    </tr>\n",
       "  </thead>\n",
       "  <tbody>\n",
       "    <tr>\n",
       "      <th>0</th>\n",
       "      <td>HOUSTON, TX</td>\n",
       "      <td>HOUSTON</td>\n",
       "      <td>TX</td>\n",
       "      <td>3061887</td>\n",
       "      <td>1775897</td>\n",
       "      <td>684416</td>\n",
       "      <td>11586</td>\n",
       "      <td>230549</td>\n",
       "      <td>1368287</td>\n",
       "      <td>54180</td>\n",
       "      <td>...</td>\n",
       "      <td>22637</td>\n",
       "      <td>33.439583</td>\n",
       "      <td>32.550000</td>\n",
       "      <td>34.363542</td>\n",
       "      <td>56206.50000</td>\n",
       "      <td>32239.52083</td>\n",
       "      <td>956.708333</td>\n",
       "      <td>178233.6842</td>\n",
       "      <td>29.775734</td>\n",
       "      <td>-95.414548</td>\n",
       "    </tr>\n",
       "    <tr>\n",
       "      <th>1</th>\n",
       "      <td>CHICAGO, IL</td>\n",
       "      <td>CHICAGO</td>\n",
       "      <td>IL</td>\n",
       "      <td>2702091</td>\n",
       "      <td>1318869</td>\n",
       "      <td>843633</td>\n",
       "      <td>7554</td>\n",
       "      <td>161478</td>\n",
       "      <td>785374</td>\n",
       "      <td>32800</td>\n",
       "      <td>...</td>\n",
       "      <td>18209</td>\n",
       "      <td>34.526786</td>\n",
       "      <td>33.798214</td>\n",
       "      <td>35.141071</td>\n",
       "      <td>57735.96429</td>\n",
       "      <td>38730.83929</td>\n",
       "      <td>1119.928571</td>\n",
       "      <td>264739.2857</td>\n",
       "      <td>41.867838</td>\n",
       "      <td>-87.673440</td>\n",
       "    </tr>\n",
       "    <tr>\n",
       "      <th>2</th>\n",
       "      <td>BROOKLYN, NY</td>\n",
       "      <td>BROOKLYN</td>\n",
       "      <td>NY</td>\n",
       "      <td>2595259</td>\n",
       "      <td>1126111</td>\n",
       "      <td>870465</td>\n",
       "      <td>8744</td>\n",
       "      <td>297890</td>\n",
       "      <td>509243</td>\n",
       "      <td>48934</td>\n",
       "      <td>...</td>\n",
       "      <td>14845</td>\n",
       "      <td>35.175676</td>\n",
       "      <td>33.367568</td>\n",
       "      <td>36.578378</td>\n",
       "      <td>51469.18919</td>\n",
       "      <td>28309.67568</td>\n",
       "      <td>1261.783784</td>\n",
       "      <td>605743.2432</td>\n",
       "      <td>40.652805</td>\n",
       "      <td>-73.956528</td>\n",
       "    </tr>\n",
       "    <tr>\n",
       "      <th>3</th>\n",
       "      <td>LOS ANGELES, CA</td>\n",
       "      <td>LOS ANGELES</td>\n",
       "      <td>CA</td>\n",
       "      <td>2426413</td>\n",
       "      <td>1068202</td>\n",
       "      <td>324842</td>\n",
       "      <td>15949</td>\n",
       "      <td>273829</td>\n",
       "      <td>1292382</td>\n",
       "      <td>62684</td>\n",
       "      <td>...</td>\n",
       "      <td>12329</td>\n",
       "      <td>35.335484</td>\n",
       "      <td>34.535484</td>\n",
       "      <td>36.061290</td>\n",
       "      <td>47494.58333</td>\n",
       "      <td>30073.19355</td>\n",
       "      <td>1201.766667</td>\n",
       "      <td>557115.0000</td>\n",
       "      <td>34.042209</td>\n",
       "      <td>-118.303468</td>\n",
       "    </tr>\n",
       "    <tr>\n",
       "      <th>4</th>\n",
       "      <td>MIAMI, FL</td>\n",
       "      <td>MIAMI</td>\n",
       "      <td>FL</td>\n",
       "      <td>1820704</td>\n",
       "      <td>1361009</td>\n",
       "      <td>363514</td>\n",
       "      <td>2250</td>\n",
       "      <td>33144</td>\n",
       "      <td>1162711</td>\n",
       "      <td>27137</td>\n",
       "      <td>...</td>\n",
       "      <td>6969</td>\n",
       "      <td>38.740741</td>\n",
       "      <td>37.120370</td>\n",
       "      <td>40.262963</td>\n",
       "      <td>51232.90741</td>\n",
       "      <td>25949.35185</td>\n",
       "      <td>1260.833333</td>\n",
       "      <td>243279.6296</td>\n",
       "      <td>25.760268</td>\n",
       "      <td>-80.298510</td>\n",
       "    </tr>\n",
       "  </tbody>\n",
       "</table>\n",
       "<p>5 rows × 31 columns</p>\n",
       "</div>"
      ],
      "text/plain": [
       "         CityState         city state  Population  White Population  \\\n",
       "0      HOUSTON, TX      HOUSTON    TX     3061887           1775897   \n",
       "1      CHICAGO, IL      CHICAGO    IL     2702091           1318869   \n",
       "2     BROOKLYN, NY     BROOKLYN    NY     2595259           1126111   \n",
       "3  LOS ANGELES, CA  LOS ANGELES    CA     2426413           1068202   \n",
       "4        MIAMI, FL        MIAMI    FL     1820704           1361009   \n",
       "\n",
       "   Black Population  Native American Population  Asian Population  \\\n",
       "0            684416                       11586            230549   \n",
       "1            843633                        7554            161478   \n",
       "2            870465                        8744            297890   \n",
       "3            324842                       15949            273829   \n",
       "4            363514                        2250             33144   \n",
       "\n",
       "   Hispanic Population  Education None  ...  \\\n",
       "0              1368287           54180  ...   \n",
       "1               785374           32800  ...   \n",
       "2               509243           48934  ...   \n",
       "3              1292382           62684  ...   \n",
       "4              1162711           27137  ...   \n",
       "\n",
       "   Employment Female Computer Engineering  Median Age  Median Male Age  \\\n",
       "0                                   22637   33.439583        32.550000   \n",
       "1                                   18209   34.526786        33.798214   \n",
       "2                                   14845   35.175676        33.367568   \n",
       "3                                   12329   35.335484        34.535484   \n",
       "4                                    6969   38.740741        37.120370   \n",
       "\n",
       "   Median Female Age  Household Income  Income Per Capita  Median Gross Rent  \\\n",
       "0          34.363542       56206.50000        32239.52083         956.708333   \n",
       "1          35.141071       57735.96429        38730.83929        1119.928571   \n",
       "2          36.578378       51469.18919        28309.67568        1261.783784   \n",
       "3          36.061290       47494.58333        30073.19355        1201.766667   \n",
       "4          40.262963       51232.90741        25949.35185        1260.833333   \n",
       "\n",
       "   Median Home Value        lat         lng  \n",
       "0        178233.6842  29.775734  -95.414548  \n",
       "1        264739.2857  41.867838  -87.673440  \n",
       "2        605743.2432  40.652805  -73.956528  \n",
       "3        557115.0000  34.042209 -118.303468  \n",
       "4        243279.6296  25.760268  -80.298510  \n",
       "\n",
       "[5 rows x 31 columns]"
      ]
     },
     "execution_count": 6,
     "metadata": {},
     "output_type": "execute_result"
    }
   ],
   "source": [
    "# Defining the CSV path\n",
    "path = \"data_sources/Census_Data.csv\"\n",
    "\n",
    "# Creating a DataFrame from the CSV\n",
    "census_data = pd.read_csv(path)\n",
    "census_data.head()"
   ]
  },
  {
   "cell_type": "markdown",
   "metadata": {
    "slideshow": {
     "slide_type": "slide"
    }
   },
   "source": [
    "## Reading from a DataFrame\n",
    "Now that we have our data in a DataFrame format, we need to be able to use it. The first thing we will want to learn to that end is how to read data back out!"
   ]
  },
  {
   "cell_type": "markdown",
   "metadata": {
    "slideshow": {
     "slide_type": "slide"
    }
   },
   "source": [
    "### Indexing\n",
    "We can parse a DataFrame similar to how we might a list our dictionary, selecting the column by using its label as a key."
   ]
  },
  {
   "cell_type": "code",
   "execution_count": 44,
   "metadata": {
    "slideshow": {
     "slide_type": "subslide"
    }
   },
   "outputs": [
    {
     "data": {
      "text/plain": [
       "0    a\n",
       "1    b\n",
       "2    c\n",
       "3    d\n",
       "Name: Letters, dtype: object"
      ]
     },
     "execution_count": 44,
     "metadata": {},
     "output_type": "execute_result"
    }
   ],
   "source": [
    "df['Letters']"
   ]
  },
  {
   "cell_type": "markdown",
   "metadata": {
    "slideshow": {
     "slide_type": "subslide"
    }
   },
   "source": [
    "We can further drill down using the index."
   ]
  },
  {
   "cell_type": "code",
   "execution_count": 45,
   "metadata": {
    "slideshow": {
     "slide_type": "subslide"
    }
   },
   "outputs": [
    {
     "data": {
      "text/plain": [
       "'d'"
      ]
     },
     "execution_count": 45,
     "metadata": {},
     "output_type": "execute_result"
    }
   ],
   "source": [
    "df['Letters'][3]"
   ]
  },
  {
   "cell_type": "markdown",
   "metadata": {
    "slideshow": {
     "slide_type": "slide"
    }
   },
   "source": [
    "### Using iloc[ ]\n",
    "Another option is to navigate the DataFrame entirely by numbers using ```iloc[ ]```. We can retrieve a whole column:"
   ]
  },
  {
   "cell_type": "code",
   "execution_count": 46,
   "metadata": {
    "slideshow": {
     "slide_type": "subslide"
    }
   },
   "outputs": [
    {
     "data": {
      "text/plain": [
       "0    a\n",
       "1    b\n",
       "2    c\n",
       "3    d\n",
       "Name: Letters, dtype: object"
      ]
     },
     "execution_count": 46,
     "metadata": {},
     "output_type": "execute_result"
    }
   ],
   "source": [
    "df.iloc[:, 0] # Note the format here, [rows, columns]"
   ]
  },
  {
   "cell_type": "markdown",
   "metadata": {
    "slideshow": {
     "slide_type": "subslide"
    }
   },
   "source": [
    "Or a single cell:"
   ]
  },
  {
   "cell_type": "code",
   "execution_count": 47,
   "metadata": {
    "slideshow": {
     "slide_type": "subslide"
    }
   },
   "outputs": [
    {
     "data": {
      "text/plain": [
       "'d'"
      ]
     },
     "execution_count": 47,
     "metadata": {},
     "output_type": "execute_result"
    }
   ],
   "source": [
    "df.iloc[3, 0]"
   ]
  },
  {
   "cell_type": "markdown",
   "metadata": {
    "slideshow": {
     "slide_type": "slide"
    }
   },
   "source": [
    "### Using loc[ ]\n",
    "Thes do not always work well because of the way indexes can be set in DataFrames and generally appear cluttered or as a mass of incomprehensible numbers. To get around this, we can use the ```loc[ ]``` attribute."
   ]
  },
  {
   "cell_type": "code",
   "execution_count": 48,
   "metadata": {
    "slideshow": {
     "slide_type": "subslide"
    }
   },
   "outputs": [
    {
     "data": {
      "text/html": [
       "<div>\n",
       "<style scoped>\n",
       "    .dataframe tbody tr th:only-of-type {\n",
       "        vertical-align: middle;\n",
       "    }\n",
       "\n",
       "    .dataframe tbody tr th {\n",
       "        vertical-align: top;\n",
       "    }\n",
       "\n",
       "    .dataframe thead th {\n",
       "        text-align: right;\n",
       "    }\n",
       "</style>\n",
       "<table border=\"1\" class=\"dataframe\">\n",
       "  <thead>\n",
       "    <tr style=\"text-align: right;\">\n",
       "      <th></th>\n",
       "      <th>Num_1</th>\n",
       "      <th>Num_2</th>\n",
       "    </tr>\n",
       "    <tr>\n",
       "      <th>Letters</th>\n",
       "      <th></th>\n",
       "      <th></th>\n",
       "    </tr>\n",
       "  </thead>\n",
       "  <tbody>\n",
       "    <tr>\n",
       "      <th>a</th>\n",
       "      <td>23</td>\n",
       "      <td>2</td>\n",
       "    </tr>\n",
       "    <tr>\n",
       "      <th>b</th>\n",
       "      <td>26</td>\n",
       "      <td>3</td>\n",
       "    </tr>\n",
       "    <tr>\n",
       "      <th>c</th>\n",
       "      <td>32</td>\n",
       "      <td>2</td>\n",
       "    </tr>\n",
       "    <tr>\n",
       "      <th>d</th>\n",
       "      <td>21</td>\n",
       "      <td>4</td>\n",
       "    </tr>\n",
       "  </tbody>\n",
       "</table>\n",
       "</div>"
      ],
      "text/plain": [
       "         Num_1  Num_2\n",
       "Letters              \n",
       "a           23      2\n",
       "b           26      3\n",
       "c           32      2\n",
       "d           21      4"
      ]
     },
     "execution_count": 48,
     "metadata": {},
     "output_type": "execute_result"
    }
   ],
   "source": [
    "df = df.set_index('Letters')\n",
    "df"
   ]
  },
  {
   "cell_type": "markdown",
   "metadata": {
    "slideshow": {
     "slide_type": "subslide"
    }
   },
   "source": [
    "Because there is no numerical index for us to gauge what item we want with, instead we will use loc"
   ]
  },
  {
   "cell_type": "code",
   "execution_count": 49,
   "metadata": {
    "slideshow": {
     "slide_type": "subslide"
    }
   },
   "outputs": [
    {
     "data": {
      "text/plain": [
       "Num_1    21\n",
       "Num_2     4\n",
       "Name: d, dtype: int64"
      ]
     },
     "execution_count": 49,
     "metadata": {},
     "output_type": "execute_result"
    }
   ],
   "source": [
    "df.loc[\"d\"]"
   ]
  },
  {
   "cell_type": "code",
   "execution_count": 50,
   "metadata": {
    "slideshow": {
     "slide_type": "subslide"
    }
   },
   "outputs": [
    {
     "data": {
      "text/plain": [
       "21"
      ]
     },
     "execution_count": 50,
     "metadata": {},
     "output_type": "execute_result"
    }
   ],
   "source": [
    "df.loc[\"d\",\"Num_1\"]"
   ]
  },
  {
   "cell_type": "markdown",
   "metadata": {
    "slideshow": {
     "slide_type": "slide"
    }
   },
   "source": [
    "### Conditional views"
   ]
  },
  {
   "cell_type": "code",
   "execution_count": 97,
   "metadata": {
    "slideshow": {
     "slide_type": "slide"
    }
   },
   "outputs": [
    {
     "data": {
      "text/html": [
       "<div>\n",
       "<style scoped>\n",
       "    .dataframe tbody tr th:only-of-type {\n",
       "        vertical-align: middle;\n",
       "    }\n",
       "\n",
       "    .dataframe tbody tr th {\n",
       "        vertical-align: top;\n",
       "    }\n",
       "\n",
       "    .dataframe thead th {\n",
       "        text-align: right;\n",
       "    }\n",
       "</style>\n",
       "<table border=\"1\" class=\"dataframe\">\n",
       "  <thead>\n",
       "    <tr style=\"text-align: right;\">\n",
       "      <th></th>\n",
       "      <th>Mountain peak</th>\n",
       "      <th>Region</th>\n",
       "      <th>Mountain range</th>\n",
       "      <th>Elevation</th>\n",
       "      <th>Prominence</th>\n",
       "      <th>Isolation</th>\n",
       "      <th>Location</th>\n",
       "    </tr>\n",
       "    <tr>\n",
       "      <th>Rank</th>\n",
       "      <th></th>\n",
       "      <th></th>\n",
       "      <th></th>\n",
       "      <th></th>\n",
       "      <th></th>\n",
       "      <th></th>\n",
       "      <th></th>\n",
       "    </tr>\n",
       "  </thead>\n",
       "  <tbody>\n",
       "    <tr>\n",
       "      <th>1</th>\n",
       "      <td>Denali[7][8][a](formerly Mount McKinley)</td>\n",
       "      <td>Alaska</td>\n",
       "      <td>Alaska Range</td>\n",
       "      <td>20310</td>\n",
       "      <td>20146</td>\n",
       "      <td>NaN</td>\n",
       "      <td>63°04′08″N 151°00′23″W﻿ / ﻿63.0690°N 151.0063°W</td>\n",
       "    </tr>\n",
       "    <tr>\n",
       "      <th>2</th>\n",
       "      <td>Mount Logan[9][10][b]</td>\n",
       "      <td>Yukon</td>\n",
       "      <td>Saint Elias Mountains</td>\n",
       "      <td>19551</td>\n",
       "      <td>17215</td>\n",
       "      <td>387.0</td>\n",
       "      <td>60°34′02″N 140°24′20″W﻿ / ﻿60.5671°N 140.4055°W</td>\n",
       "    </tr>\n",
       "    <tr>\n",
       "      <th>3</th>\n",
       "      <td>Pico de Orizaba[11][12][c](Citlaltépetl)</td>\n",
       "      <td>Puebla Veracruz</td>\n",
       "      <td>Cordillera Neovolcanica</td>\n",
       "      <td>18491</td>\n",
       "      <td>16148</td>\n",
       "      <td>NaN</td>\n",
       "      <td>19°01′50″N 97°16′11″W﻿ / ﻿19.0305°N 97.2698°W</td>\n",
       "    </tr>\n",
       "    <tr>\n",
       "      <th>4</th>\n",
       "      <td>Mount Saint Elias[13][14][d]</td>\n",
       "      <td>Alaska Yukon</td>\n",
       "      <td>Saint Elias Mountains</td>\n",
       "      <td>18009</td>\n",
       "      <td>11250</td>\n",
       "      <td>25.6</td>\n",
       "      <td>60°17′34″N 140°55′51″W﻿ / ﻿60.2927°N 140.9307°W</td>\n",
       "    </tr>\n",
       "    <tr>\n",
       "      <th>5</th>\n",
       "      <td>Popocatépetl[15][16][e][f]</td>\n",
       "      <td>México Morelos Puebla</td>\n",
       "      <td>Cordillera Neovolcanica</td>\n",
       "      <td>17749</td>\n",
       "      <td>9974</td>\n",
       "      <td>88.8</td>\n",
       "      <td>19°01′21″N 98°37′40″W﻿ / ﻿19.0225°N 98.6278°W</td>\n",
       "    </tr>\n",
       "  </tbody>\n",
       "</table>\n",
       "</div>"
      ],
      "text/plain": [
       "                                 Mountain peak                 Region  \\\n",
       "Rank                                                                    \n",
       "1     Denali[7][8][a](formerly Mount McKinley)                 Alaska   \n",
       "2                        Mount Logan[9][10][b]                  Yukon   \n",
       "3     Pico de Orizaba[11][12][c](Citlaltépetl)        Puebla Veracruz   \n",
       "4                 Mount Saint Elias[13][14][d]           Alaska Yukon   \n",
       "5                   Popocatépetl[15][16][e][f]  México Morelos Puebla   \n",
       "\n",
       "               Mountain range  Elevation  Prominence  Isolation  \\\n",
       "Rank                                                              \n",
       "1                Alaska Range      20310       20146        NaN   \n",
       "2       Saint Elias Mountains      19551       17215      387.0   \n",
       "3     Cordillera Neovolcanica      18491       16148        NaN   \n",
       "4       Saint Elias Mountains      18009       11250       25.6   \n",
       "5     Cordillera Neovolcanica      17749        9974       88.8   \n",
       "\n",
       "                                             Location  \n",
       "Rank                                                   \n",
       "1     63°04′08″N 151°00′23″W﻿ / ﻿63.0690°N 151.0063°W  \n",
       "2     60°34′02″N 140°24′20″W﻿ / ﻿60.5671°N 140.4055°W  \n",
       "3       19°01′50″N 97°16′11″W﻿ / ﻿19.0305°N 97.2698°W  \n",
       "4     60°17′34″N 140°55′51″W﻿ / ﻿60.2927°N 140.9307°W  \n",
       "5       19°01′21″N 98°37′40″W﻿ / ﻿19.0225°N 98.6278°W  "
      ]
     },
     "execution_count": 97,
     "metadata": {},
     "output_type": "execute_result"
    }
   ],
   "source": [
    "# Set the index for the mountains DataFrame to the rank column\n",
    "mountains_df = mountains_df.set_index('Rank')\n",
    "\n",
    "# Use lambda functions to convert the Prominence, Elevation, and Isolation to numerical datatypes\n",
    "def convert_ht(x):\n",
    "    height = x.replace(\",\",\"\").replace(\"\\xa0ft\",\"\")\n",
    "    return int(height)\n",
    "\n",
    "def convert_mi(x):\n",
    "    if isinstance(x, str):\n",
    "        x = float(x.replace(\",\",\"\").replace(\"\\xa0mi\",\"\"))\n",
    "    return x\n",
    "\n",
    "mountains_df['Elevation'] = mountains_df['Elevation'].apply(lambda x:convert_ht(x))\n",
    "mountains_df['Prominence'] = mountains_df['Prominence'].apply(lambda x:convert_ht(x))\n",
    "mountains_df['Isolation'] = mountains_df['Isolation'].apply(lambda x:convert_mi(x))\n",
    "mountains_df.head()"
   ]
  },
  {
   "cell_type": "markdown",
   "metadata": {
    "slideshow": {
     "slide_type": "slide"
    }
   },
   "source": [
    "Read with one condition"
   ]
  },
  {
   "cell_type": "code",
   "execution_count": 98,
   "metadata": {
    "slideshow": {
     "slide_type": "subslide"
    }
   },
   "outputs": [
    {
     "data": {
      "text/plain": [
       "Rank\n",
       "1       True\n",
       "2      False\n",
       "3      False\n",
       "4      False\n",
       "5      False\n",
       "       ...  \n",
       "197    False\n",
       "198    False\n",
       "199    False\n",
       "200    False\n",
       "201    False\n",
       "Name: Region, Length: 201, dtype: bool"
      ]
     },
     "execution_count": 98,
     "metadata": {},
     "output_type": "execute_result"
    }
   ],
   "source": [
    "# Create a Boolean Series\n",
    "mountains_df['Region'] == \"Alaska\""
   ]
  },
  {
   "cell_type": "code",
   "execution_count": 99,
   "metadata": {
    "slideshow": {
     "slide_type": "subslide"
    }
   },
   "outputs": [
    {
     "data": {
      "text/html": [
       "<div>\n",
       "<style scoped>\n",
       "    .dataframe tbody tr th:only-of-type {\n",
       "        vertical-align: middle;\n",
       "    }\n",
       "\n",
       "    .dataframe tbody tr th {\n",
       "        vertical-align: top;\n",
       "    }\n",
       "\n",
       "    .dataframe thead th {\n",
       "        text-align: right;\n",
       "    }\n",
       "</style>\n",
       "<table border=\"1\" class=\"dataframe\">\n",
       "  <thead>\n",
       "    <tr style=\"text-align: right;\">\n",
       "      <th></th>\n",
       "      <th>Mountain peak</th>\n",
       "      <th>Region</th>\n",
       "      <th>Mountain range</th>\n",
       "      <th>Elevation</th>\n",
       "      <th>Prominence</th>\n",
       "      <th>Isolation</th>\n",
       "      <th>Location</th>\n",
       "    </tr>\n",
       "    <tr>\n",
       "      <th>Rank</th>\n",
       "      <th></th>\n",
       "      <th></th>\n",
       "      <th></th>\n",
       "      <th></th>\n",
       "      <th></th>\n",
       "      <th></th>\n",
       "      <th></th>\n",
       "    </tr>\n",
       "  </thead>\n",
       "  <tbody>\n",
       "    <tr>\n",
       "      <th>1</th>\n",
       "      <td>Denali[7][8][a](formerly Mount McKinley)</td>\n",
       "      <td>Alaska</td>\n",
       "      <td>Alaska Range</td>\n",
       "      <td>20310</td>\n",
       "      <td>20146</td>\n",
       "      <td>NaN</td>\n",
       "      <td>63°04′08″N 151°00′23″W﻿ / ﻿63.0690°N 151.0063°W</td>\n",
       "    </tr>\n",
       "    <tr>\n",
       "      <th>6</th>\n",
       "      <td>Mount Foraker[17][18][g]</td>\n",
       "      <td>Alaska</td>\n",
       "      <td>Alaska Range</td>\n",
       "      <td>17400</td>\n",
       "      <td>7250</td>\n",
       "      <td>14.27</td>\n",
       "      <td>62°57′37″N 151°23′59″W﻿ / ﻿62.9604°N 151.3998°W</td>\n",
       "    </tr>\n",
       "    <tr>\n",
       "      <th>10</th>\n",
       "      <td>Mount Bona[25][26][k]</td>\n",
       "      <td>Alaska</td>\n",
       "      <td>Saint Elias Mountains</td>\n",
       "      <td>16550</td>\n",
       "      <td>6900</td>\n",
       "      <td>49.70</td>\n",
       "      <td>61°23′08″N 141°44′58″W﻿ / ﻿61.3856°N 141.7495°W</td>\n",
       "    </tr>\n",
       "    <tr>\n",
       "      <th>12</th>\n",
       "      <td>Mount Blackburn[29][30][31][m]</td>\n",
       "      <td>Alaska</td>\n",
       "      <td>Wrangell Mountains</td>\n",
       "      <td>16390</td>\n",
       "      <td>11640</td>\n",
       "      <td>60.70</td>\n",
       "      <td>61°43′50″N 143°24′11″W﻿ / ﻿61.7305°N 143.4031°W</td>\n",
       "    </tr>\n",
       "    <tr>\n",
       "      <th>13</th>\n",
       "      <td>Mount Sanford[32][33]</td>\n",
       "      <td>Alaska</td>\n",
       "      <td>Wrangell Mountains</td>\n",
       "      <td>16237</td>\n",
       "      <td>7687</td>\n",
       "      <td>40.30</td>\n",
       "      <td>62°12′48″N 144°07′45″W﻿ / ﻿62.2132°N 144.1292°W</td>\n",
       "    </tr>\n",
       "  </tbody>\n",
       "</table>\n",
       "</div>"
      ],
      "text/plain": [
       "                                 Mountain peak  Region         Mountain range  \\\n",
       "Rank                                                                            \n",
       "1     Denali[7][8][a](formerly Mount McKinley)  Alaska           Alaska Range   \n",
       "6                     Mount Foraker[17][18][g]  Alaska           Alaska Range   \n",
       "10                       Mount Bona[25][26][k]  Alaska  Saint Elias Mountains   \n",
       "12              Mount Blackburn[29][30][31][m]  Alaska     Wrangell Mountains   \n",
       "13                       Mount Sanford[32][33]  Alaska     Wrangell Mountains   \n",
       "\n",
       "      Elevation  Prominence  Isolation  \\\n",
       "Rank                                     \n",
       "1         20310       20146        NaN   \n",
       "6         17400        7250      14.27   \n",
       "10        16550        6900      49.70   \n",
       "12        16390       11640      60.70   \n",
       "13        16237        7687      40.30   \n",
       "\n",
       "                                             Location  \n",
       "Rank                                                   \n",
       "1     63°04′08″N 151°00′23″W﻿ / ﻿63.0690°N 151.0063°W  \n",
       "6     62°57′37″N 151°23′59″W﻿ / ﻿62.9604°N 151.3998°W  \n",
       "10    61°23′08″N 141°44′58″W﻿ / ﻿61.3856°N 141.7495°W  \n",
       "12    61°43′50″N 143°24′11″W﻿ / ﻿61.7305°N 143.4031°W  \n",
       "13    62°12′48″N 144°07′45″W﻿ / ﻿62.2132°N 144.1292°W  "
      ]
     },
     "execution_count": 99,
     "metadata": {},
     "output_type": "execute_result"
    }
   ],
   "source": [
    "# Use Boolean Series as a key to output data\n",
    "mountains_df[mountains_df['Region'] == \"Alaska\"].head()"
   ]
  },
  {
   "cell_type": "markdown",
   "metadata": {
    "slideshow": {
     "slide_type": "slide"
    }
   },
   "source": [
    "We can also parse a DataFrame using multiple conditions"
   ]
  },
  {
   "cell_type": "code",
   "execution_count": 100,
   "metadata": {
    "slideshow": {
     "slide_type": "subslide"
    }
   },
   "outputs": [
    {
     "data": {
      "text/html": [
       "<div>\n",
       "<style scoped>\n",
       "    .dataframe tbody tr th:only-of-type {\n",
       "        vertical-align: middle;\n",
       "    }\n",
       "\n",
       "    .dataframe tbody tr th {\n",
       "        vertical-align: top;\n",
       "    }\n",
       "\n",
       "    .dataframe thead th {\n",
       "        text-align: right;\n",
       "    }\n",
       "</style>\n",
       "<table border=\"1\" class=\"dataframe\">\n",
       "  <thead>\n",
       "    <tr style=\"text-align: right;\">\n",
       "      <th></th>\n",
       "      <th>Mountain peak</th>\n",
       "      <th>Region</th>\n",
       "      <th>Mountain range</th>\n",
       "      <th>Elevation</th>\n",
       "      <th>Prominence</th>\n",
       "      <th>Isolation</th>\n",
       "      <th>Location</th>\n",
       "    </tr>\n",
       "    <tr>\n",
       "      <th>Rank</th>\n",
       "      <th></th>\n",
       "      <th></th>\n",
       "      <th></th>\n",
       "      <th></th>\n",
       "      <th></th>\n",
       "      <th></th>\n",
       "      <th></th>\n",
       "    </tr>\n",
       "  </thead>\n",
       "  <tbody>\n",
       "    <tr>\n",
       "      <th>1</th>\n",
       "      <td>Denali[7][8][a](formerly Mount McKinley)</td>\n",
       "      <td>Alaska</td>\n",
       "      <td>Alaska Range</td>\n",
       "      <td>20310</td>\n",
       "      <td>20146</td>\n",
       "      <td>NaN</td>\n",
       "      <td>63°04′08″N 151°00′23″W﻿ / ﻿63.0690°N 151.0063°W</td>\n",
       "    </tr>\n",
       "    <tr>\n",
       "      <th>6</th>\n",
       "      <td>Mount Foraker[17][18][g]</td>\n",
       "      <td>Alaska</td>\n",
       "      <td>Alaska Range</td>\n",
       "      <td>17400</td>\n",
       "      <td>7250</td>\n",
       "      <td>14.27</td>\n",
       "      <td>62°57′37″N 151°23′59″W﻿ / ﻿62.9604°N 151.3998°W</td>\n",
       "    </tr>\n",
       "    <tr>\n",
       "      <th>10</th>\n",
       "      <td>Mount Bona[25][26][k]</td>\n",
       "      <td>Alaska</td>\n",
       "      <td>Saint Elias Mountains</td>\n",
       "      <td>16550</td>\n",
       "      <td>6900</td>\n",
       "      <td>49.70</td>\n",
       "      <td>61°23′08″N 141°44′58″W﻿ / ﻿61.3856°N 141.7495°W</td>\n",
       "    </tr>\n",
       "    <tr>\n",
       "      <th>12</th>\n",
       "      <td>Mount Blackburn[29][30][31][m]</td>\n",
       "      <td>Alaska</td>\n",
       "      <td>Wrangell Mountains</td>\n",
       "      <td>16390</td>\n",
       "      <td>11640</td>\n",
       "      <td>60.70</td>\n",
       "      <td>61°43′50″N 143°24′11″W﻿ / ﻿61.7305°N 143.4031°W</td>\n",
       "    </tr>\n",
       "    <tr>\n",
       "      <th>13</th>\n",
       "      <td>Mount Sanford[32][33]</td>\n",
       "      <td>Alaska</td>\n",
       "      <td>Wrangell Mountains</td>\n",
       "      <td>16237</td>\n",
       "      <td>7687</td>\n",
       "      <td>40.30</td>\n",
       "      <td>62°12′48″N 144°07′45″W﻿ / ﻿62.2132°N 144.1292°W</td>\n",
       "    </tr>\n",
       "  </tbody>\n",
       "</table>\n",
       "</div>"
      ],
      "text/plain": [
       "                                 Mountain peak  Region         Mountain range  \\\n",
       "Rank                                                                            \n",
       "1     Denali[7][8][a](formerly Mount McKinley)  Alaska           Alaska Range   \n",
       "6                     Mount Foraker[17][18][g]  Alaska           Alaska Range   \n",
       "10                       Mount Bona[25][26][k]  Alaska  Saint Elias Mountains   \n",
       "12              Mount Blackburn[29][30][31][m]  Alaska     Wrangell Mountains   \n",
       "13                       Mount Sanford[32][33]  Alaska     Wrangell Mountains   \n",
       "\n",
       "      Elevation  Prominence  Isolation  \\\n",
       "Rank                                     \n",
       "1         20310       20146        NaN   \n",
       "6         17400        7250      14.27   \n",
       "10        16550        6900      49.70   \n",
       "12        16390       11640      60.70   \n",
       "13        16237        7687      40.30   \n",
       "\n",
       "                                             Location  \n",
       "Rank                                                   \n",
       "1     63°04′08″N 151°00′23″W﻿ / ﻿63.0690°N 151.0063°W  \n",
       "6     62°57′37″N 151°23′59″W﻿ / ﻿62.9604°N 151.3998°W  \n",
       "10    61°23′08″N 141°44′58″W﻿ / ﻿61.3856°N 141.7495°W  \n",
       "12    61°43′50″N 143°24′11″W﻿ / ﻿61.7305°N 143.4031°W  \n",
       "13    62°12′48″N 144°07′45″W﻿ / ﻿62.2132°N 144.1292°W  "
      ]
     },
     "execution_count": 100,
     "metadata": {},
     "output_type": "execute_result"
    }
   ],
   "source": [
    "mountains_df[(mountains_df['Region'] == \"Alaska\") & (mountains_df['Elevation'] > 15000)]"
   ]
  },
  {
   "cell_type": "markdown",
   "metadata": {
    "slideshow": {
     "slide_type": "slide"
    }
   },
   "source": [
    "## Data Manipulation in Pandas\n",
    "Now that we know how to view our data, we can begin manipulating it."
   ]
  },
  {
   "cell_type": "markdown",
   "metadata": {
    "slideshow": {
     "slide_type": "slide"
    }
   },
   "source": [
    "### Drop\n",
    "To remove unnecessary data elements, we can use the ```drop()``` method."
   ]
  },
  {
   "cell_type": "code",
   "execution_count": 101,
   "metadata": {
    "slideshow": {
     "slide_type": "subslide"
    }
   },
   "outputs": [
    {
     "data": {
      "text/html": [
       "<div>\n",
       "<style scoped>\n",
       "    .dataframe tbody tr th:only-of-type {\n",
       "        vertical-align: middle;\n",
       "    }\n",
       "\n",
       "    .dataframe tbody tr th {\n",
       "        vertical-align: top;\n",
       "    }\n",
       "\n",
       "    .dataframe thead th {\n",
       "        text-align: right;\n",
       "    }\n",
       "</style>\n",
       "<table border=\"1\" class=\"dataframe\">\n",
       "  <thead>\n",
       "    <tr style=\"text-align: right;\">\n",
       "      <th></th>\n",
       "      <th>Mountain peak</th>\n",
       "      <th>Region</th>\n",
       "      <th>Mountain range</th>\n",
       "      <th>Elevation</th>\n",
       "      <th>Prominence</th>\n",
       "      <th>Isolation</th>\n",
       "    </tr>\n",
       "    <tr>\n",
       "      <th>Rank</th>\n",
       "      <th></th>\n",
       "      <th></th>\n",
       "      <th></th>\n",
       "      <th></th>\n",
       "      <th></th>\n",
       "      <th></th>\n",
       "    </tr>\n",
       "  </thead>\n",
       "  <tbody>\n",
       "    <tr>\n",
       "      <th>1</th>\n",
       "      <td>Denali[7][8][a](formerly Mount McKinley)</td>\n",
       "      <td>Alaska</td>\n",
       "      <td>Alaska Range</td>\n",
       "      <td>20310</td>\n",
       "      <td>20146</td>\n",
       "      <td>NaN</td>\n",
       "    </tr>\n",
       "    <tr>\n",
       "      <th>2</th>\n",
       "      <td>Mount Logan[9][10][b]</td>\n",
       "      <td>Yukon</td>\n",
       "      <td>Saint Elias Mountains</td>\n",
       "      <td>19551</td>\n",
       "      <td>17215</td>\n",
       "      <td>387.0</td>\n",
       "    </tr>\n",
       "    <tr>\n",
       "      <th>3</th>\n",
       "      <td>Pico de Orizaba[11][12][c](Citlaltépetl)</td>\n",
       "      <td>Puebla Veracruz</td>\n",
       "      <td>Cordillera Neovolcanica</td>\n",
       "      <td>18491</td>\n",
       "      <td>16148</td>\n",
       "      <td>NaN</td>\n",
       "    </tr>\n",
       "    <tr>\n",
       "      <th>4</th>\n",
       "      <td>Mount Saint Elias[13][14][d]</td>\n",
       "      <td>Alaska Yukon</td>\n",
       "      <td>Saint Elias Mountains</td>\n",
       "      <td>18009</td>\n",
       "      <td>11250</td>\n",
       "      <td>25.6</td>\n",
       "    </tr>\n",
       "    <tr>\n",
       "      <th>5</th>\n",
       "      <td>Popocatépetl[15][16][e][f]</td>\n",
       "      <td>México Morelos Puebla</td>\n",
       "      <td>Cordillera Neovolcanica</td>\n",
       "      <td>17749</td>\n",
       "      <td>9974</td>\n",
       "      <td>88.8</td>\n",
       "    </tr>\n",
       "  </tbody>\n",
       "</table>\n",
       "</div>"
      ],
      "text/plain": [
       "                                 Mountain peak                 Region  \\\n",
       "Rank                                                                    \n",
       "1     Denali[7][8][a](formerly Mount McKinley)                 Alaska   \n",
       "2                        Mount Logan[9][10][b]                  Yukon   \n",
       "3     Pico de Orizaba[11][12][c](Citlaltépetl)        Puebla Veracruz   \n",
       "4                 Mount Saint Elias[13][14][d]           Alaska Yukon   \n",
       "5                   Popocatépetl[15][16][e][f]  México Morelos Puebla   \n",
       "\n",
       "               Mountain range  Elevation  Prominence  Isolation  \n",
       "Rank                                                             \n",
       "1                Alaska Range      20310       20146        NaN  \n",
       "2       Saint Elias Mountains      19551       17215      387.0  \n",
       "3     Cordillera Neovolcanica      18491       16148        NaN  \n",
       "4       Saint Elias Mountains      18009       11250       25.6  \n",
       "5     Cordillera Neovolcanica      17749        9974       88.8  "
      ]
     },
     "execution_count": 101,
     "metadata": {},
     "output_type": "execute_result"
    }
   ],
   "source": [
    "# Removing the Location column\n",
    "mountains_df.drop(columns=\"Location\",inplace=True)\n",
    "mountains_df.head()"
   ]
  },
  {
   "cell_type": "markdown",
   "metadata": {
    "slideshow": {
     "slide_type": "slide"
    }
   },
   "source": [
    "### DropNA\n",
    "We can remove data elements from our DataFrame that contain empty cells using the ```dropna()``` method."
   ]
  },
  {
   "cell_type": "code",
   "execution_count": 102,
   "metadata": {
    "slideshow": {
     "slide_type": "subslide"
    }
   },
   "outputs": [
    {
     "name": "stdout",
     "output_type": "stream",
     "text": [
      "<class 'pandas.core.frame.DataFrame'>\n",
      "Int64Index: 201 entries, 1 to 201\n",
      "Data columns (total 6 columns):\n",
      "Mountain peak     201 non-null object\n",
      "Region            201 non-null object\n",
      "Mountain range    201 non-null object\n",
      "Elevation         201 non-null int64\n",
      "Prominence        201 non-null int64\n",
      "Isolation         196 non-null float64\n",
      "dtypes: float64(1), int64(2), object(3)\n",
      "memory usage: 11.0+ KB\n"
     ]
    }
   ],
   "source": [
    "# We can use .info() to see what columns have null values\n",
    "mountains_df.info()"
   ]
  },
  {
   "cell_type": "code",
   "execution_count": 103,
   "metadata": {
    "slideshow": {
     "slide_type": "subslide"
    }
   },
   "outputs": [
    {
     "data": {
      "text/html": [
       "<div>\n",
       "<style scoped>\n",
       "    .dataframe tbody tr th:only-of-type {\n",
       "        vertical-align: middle;\n",
       "    }\n",
       "\n",
       "    .dataframe tbody tr th {\n",
       "        vertical-align: top;\n",
       "    }\n",
       "\n",
       "    .dataframe thead th {\n",
       "        text-align: right;\n",
       "    }\n",
       "</style>\n",
       "<table border=\"1\" class=\"dataframe\">\n",
       "  <thead>\n",
       "    <tr style=\"text-align: right;\">\n",
       "      <th></th>\n",
       "      <th>Mountain peak</th>\n",
       "      <th>Region</th>\n",
       "      <th>Mountain range</th>\n",
       "      <th>Elevation</th>\n",
       "      <th>Prominence</th>\n",
       "      <th>Isolation</th>\n",
       "    </tr>\n",
       "    <tr>\n",
       "      <th>Rank</th>\n",
       "      <th></th>\n",
       "      <th></th>\n",
       "      <th></th>\n",
       "      <th></th>\n",
       "      <th></th>\n",
       "      <th></th>\n",
       "    </tr>\n",
       "  </thead>\n",
       "  <tbody>\n",
       "    <tr>\n",
       "      <th>2</th>\n",
       "      <td>Mount Logan[9][10][b]</td>\n",
       "      <td>Yukon</td>\n",
       "      <td>Saint Elias Mountains</td>\n",
       "      <td>19551</td>\n",
       "      <td>17215</td>\n",
       "      <td>387.00</td>\n",
       "    </tr>\n",
       "    <tr>\n",
       "      <th>4</th>\n",
       "      <td>Mount Saint Elias[13][14][d]</td>\n",
       "      <td>Alaska Yukon</td>\n",
       "      <td>Saint Elias Mountains</td>\n",
       "      <td>18009</td>\n",
       "      <td>11250</td>\n",
       "      <td>25.60</td>\n",
       "    </tr>\n",
       "    <tr>\n",
       "      <th>5</th>\n",
       "      <td>Popocatépetl[15][16][e][f]</td>\n",
       "      <td>México Morelos Puebla</td>\n",
       "      <td>Cordillera Neovolcanica</td>\n",
       "      <td>17749</td>\n",
       "      <td>9974</td>\n",
       "      <td>88.80</td>\n",
       "    </tr>\n",
       "    <tr>\n",
       "      <th>6</th>\n",
       "      <td>Mount Foraker[17][18][g]</td>\n",
       "      <td>Alaska</td>\n",
       "      <td>Alaska Range</td>\n",
       "      <td>17400</td>\n",
       "      <td>7250</td>\n",
       "      <td>14.27</td>\n",
       "    </tr>\n",
       "    <tr>\n",
       "      <th>7</th>\n",
       "      <td>Mount Lucania[19][20][h][i]</td>\n",
       "      <td>Yukon</td>\n",
       "      <td>Saint Elias Mountains</td>\n",
       "      <td>17257</td>\n",
       "      <td>10105</td>\n",
       "      <td>26.70</td>\n",
       "    </tr>\n",
       "  </tbody>\n",
       "</table>\n",
       "</div>"
      ],
      "text/plain": [
       "                     Mountain peak                 Region  \\\n",
       "Rank                                                        \n",
       "2            Mount Logan[9][10][b]                  Yukon   \n",
       "4     Mount Saint Elias[13][14][d]           Alaska Yukon   \n",
       "5       Popocatépetl[15][16][e][f]  México Morelos Puebla   \n",
       "6         Mount Foraker[17][18][g]                 Alaska   \n",
       "7      Mount Lucania[19][20][h][i]                  Yukon   \n",
       "\n",
       "               Mountain range  Elevation  Prominence  Isolation  \n",
       "Rank                                                             \n",
       "2       Saint Elias Mountains      19551       17215     387.00  \n",
       "4       Saint Elias Mountains      18009       11250      25.60  \n",
       "5     Cordillera Neovolcanica      17749        9974      88.80  \n",
       "6                Alaska Range      17400        7250      14.27  \n",
       "7       Saint Elias Mountains      17257       10105      26.70  "
      ]
     },
     "execution_count": 103,
     "metadata": {},
     "output_type": "execute_result"
    }
   ],
   "source": [
    "# Using .drop() to remove rows with empty cells\n",
    "mountains_df.dropna(how=\"any\").head()"
   ]
  },
  {
   "cell_type": "markdown",
   "metadata": {
    "slideshow": {
     "slide_type": "slide"
    }
   },
   "source": [
    "### At and Iat\n",
    "The ```at[ ]``` and ```iat[ ]``` are similiar to ```loc[ ]``` and ```iloc[ ]```, but instead of viewing the data, they allow us to manipulate it directly."
   ]
  },
  {
   "cell_type": "code",
   "execution_count": 104,
   "metadata": {
    "slideshow": {
     "slide_type": "subslide"
    }
   },
   "outputs": [
    {
     "data": {
      "text/html": [
       "<div>\n",
       "<style scoped>\n",
       "    .dataframe tbody tr th:only-of-type {\n",
       "        vertical-align: middle;\n",
       "    }\n",
       "\n",
       "    .dataframe tbody tr th {\n",
       "        vertical-align: top;\n",
       "    }\n",
       "\n",
       "    .dataframe thead th {\n",
       "        text-align: right;\n",
       "    }\n",
       "</style>\n",
       "<table border=\"1\" class=\"dataframe\">\n",
       "  <thead>\n",
       "    <tr style=\"text-align: right;\">\n",
       "      <th></th>\n",
       "      <th>Num_1</th>\n",
       "      <th>Num_2</th>\n",
       "    </tr>\n",
       "    <tr>\n",
       "      <th>Letters</th>\n",
       "      <th></th>\n",
       "      <th></th>\n",
       "    </tr>\n",
       "  </thead>\n",
       "  <tbody>\n",
       "    <tr>\n",
       "      <th>a</th>\n",
       "      <td>23</td>\n",
       "      <td>2</td>\n",
       "    </tr>\n",
       "    <tr>\n",
       "      <th>b</th>\n",
       "      <td>26</td>\n",
       "      <td>3</td>\n",
       "    </tr>\n",
       "    <tr>\n",
       "      <th>c</th>\n",
       "      <td>32</td>\n",
       "      <td>2</td>\n",
       "    </tr>\n",
       "    <tr>\n",
       "      <th>d</th>\n",
       "      <td>21</td>\n",
       "      <td>4</td>\n",
       "    </tr>\n",
       "  </tbody>\n",
       "</table>\n",
       "</div>"
      ],
      "text/plain": [
       "         Num_1  Num_2\n",
       "Letters              \n",
       "a           23      2\n",
       "b           26      3\n",
       "c           32      2\n",
       "d           21      4"
      ]
     },
     "execution_count": 104,
     "metadata": {},
     "output_type": "execute_result"
    }
   ],
   "source": [
    "df"
   ]
  },
  {
   "cell_type": "code",
   "execution_count": 105,
   "metadata": {
    "slideshow": {
     "slide_type": "subslide"
    }
   },
   "outputs": [
    {
     "data": {
      "text/html": [
       "<div>\n",
       "<style scoped>\n",
       "    .dataframe tbody tr th:only-of-type {\n",
       "        vertical-align: middle;\n",
       "    }\n",
       "\n",
       "    .dataframe tbody tr th {\n",
       "        vertical-align: top;\n",
       "    }\n",
       "\n",
       "    .dataframe thead th {\n",
       "        text-align: right;\n",
       "    }\n",
       "</style>\n",
       "<table border=\"1\" class=\"dataframe\">\n",
       "  <thead>\n",
       "    <tr style=\"text-align: right;\">\n",
       "      <th></th>\n",
       "      <th>Num_1</th>\n",
       "      <th>Num_2</th>\n",
       "    </tr>\n",
       "    <tr>\n",
       "      <th>Letters</th>\n",
       "      <th></th>\n",
       "      <th></th>\n",
       "    </tr>\n",
       "  </thead>\n",
       "  <tbody>\n",
       "    <tr>\n",
       "      <th>a</th>\n",
       "      <td>23</td>\n",
       "      <td>5</td>\n",
       "    </tr>\n",
       "    <tr>\n",
       "      <th>b</th>\n",
       "      <td>26</td>\n",
       "      <td>3</td>\n",
       "    </tr>\n",
       "    <tr>\n",
       "      <th>c</th>\n",
       "      <td>32</td>\n",
       "      <td>2</td>\n",
       "    </tr>\n",
       "    <tr>\n",
       "      <th>d</th>\n",
       "      <td>21</td>\n",
       "      <td>4</td>\n",
       "    </tr>\n",
       "  </tbody>\n",
       "</table>\n",
       "</div>"
      ],
      "text/plain": [
       "         Num_1  Num_2\n",
       "Letters              \n",
       "a           23      5\n",
       "b           26      3\n",
       "c           32      2\n",
       "d           21      4"
      ]
     },
     "execution_count": 105,
     "metadata": {},
     "output_type": "execute_result"
    }
   ],
   "source": [
    "df.at[\"a\",\"Num_2\"] = 5\n",
    "df"
   ]
  },
  {
   "cell_type": "code",
   "execution_count": 106,
   "metadata": {
    "slideshow": {
     "slide_type": "subslide"
    }
   },
   "outputs": [
    {
     "data": {
      "text/html": [
       "<div>\n",
       "<style scoped>\n",
       "    .dataframe tbody tr th:only-of-type {\n",
       "        vertical-align: middle;\n",
       "    }\n",
       "\n",
       "    .dataframe tbody tr th {\n",
       "        vertical-align: top;\n",
       "    }\n",
       "\n",
       "    .dataframe thead th {\n",
       "        text-align: right;\n",
       "    }\n",
       "</style>\n",
       "<table border=\"1\" class=\"dataframe\">\n",
       "  <thead>\n",
       "    <tr style=\"text-align: right;\">\n",
       "      <th></th>\n",
       "      <th>Num_1</th>\n",
       "      <th>Num_2</th>\n",
       "    </tr>\n",
       "    <tr>\n",
       "      <th>Letters</th>\n",
       "      <th></th>\n",
       "      <th></th>\n",
       "    </tr>\n",
       "  </thead>\n",
       "  <tbody>\n",
       "    <tr>\n",
       "      <th>a</th>\n",
       "      <td>23</td>\n",
       "      <td>2</td>\n",
       "    </tr>\n",
       "    <tr>\n",
       "      <th>b</th>\n",
       "      <td>26</td>\n",
       "      <td>3</td>\n",
       "    </tr>\n",
       "    <tr>\n",
       "      <th>c</th>\n",
       "      <td>32</td>\n",
       "      <td>2</td>\n",
       "    </tr>\n",
       "    <tr>\n",
       "      <th>d</th>\n",
       "      <td>21</td>\n",
       "      <td>4</td>\n",
       "    </tr>\n",
       "  </tbody>\n",
       "</table>\n",
       "</div>"
      ],
      "text/plain": [
       "         Num_1  Num_2\n",
       "Letters              \n",
       "a           23      2\n",
       "b           26      3\n",
       "c           32      2\n",
       "d           21      4"
      ]
     },
     "execution_count": 106,
     "metadata": {},
     "output_type": "execute_result"
    }
   ],
   "source": [
    "df.iat[0,1] = 2\n",
    "df"
   ]
  },
  {
   "cell_type": "markdown",
   "metadata": {
    "slideshow": {
     "slide_type": "slide"
    }
   },
   "source": [
    "### Append\n",
    "Append is a method for combining two DataFrames to create a stack"
   ]
  },
  {
   "cell_type": "code",
   "execution_count": 120,
   "metadata": {
    "slideshow": {
     "slide_type": "subslide"
    }
   },
   "outputs": [
    {
     "data": {
      "text/html": [
       "<div>\n",
       "<style scoped>\n",
       "    .dataframe tbody tr th:only-of-type {\n",
       "        vertical-align: middle;\n",
       "    }\n",
       "\n",
       "    .dataframe tbody tr th {\n",
       "        vertical-align: top;\n",
       "    }\n",
       "\n",
       "    .dataframe thead th {\n",
       "        text-align: right;\n",
       "    }\n",
       "</style>\n",
       "<table border=\"1\" class=\"dataframe\">\n",
       "  <thead>\n",
       "    <tr style=\"text-align: right;\">\n",
       "      <th></th>\n",
       "      <th>Num_1</th>\n",
       "      <th>Num_2</th>\n",
       "    </tr>\n",
       "    <tr>\n",
       "      <th>Letters</th>\n",
       "      <th></th>\n",
       "      <th></th>\n",
       "    </tr>\n",
       "  </thead>\n",
       "  <tbody>\n",
       "    <tr>\n",
       "      <th>a</th>\n",
       "      <td>14</td>\n",
       "      <td>7</td>\n",
       "    </tr>\n",
       "    <tr>\n",
       "      <th>b</th>\n",
       "      <td>13</td>\n",
       "      <td>10</td>\n",
       "    </tr>\n",
       "    <tr>\n",
       "      <th>c</th>\n",
       "      <td>14</td>\n",
       "      <td>13</td>\n",
       "    </tr>\n",
       "  </tbody>\n",
       "</table>\n",
       "</div>"
      ],
      "text/plain": [
       "         Num_1  Num_2\n",
       "Letters              \n",
       "a           14      7\n",
       "b           13     10\n",
       "c           14     13"
      ]
     },
     "execution_count": 120,
     "metadata": {},
     "output_type": "execute_result"
    }
   ],
   "source": [
    "df"
   ]
  },
  {
   "cell_type": "code",
   "execution_count": 110,
   "metadata": {
    "slideshow": {
     "slide_type": "subslide"
    }
   },
   "outputs": [
    {
     "data": {
      "text/html": [
       "<div>\n",
       "<style scoped>\n",
       "    .dataframe tbody tr th:only-of-type {\n",
       "        vertical-align: middle;\n",
       "    }\n",
       "\n",
       "    .dataframe tbody tr th {\n",
       "        vertical-align: top;\n",
       "    }\n",
       "\n",
       "    .dataframe thead th {\n",
       "        text-align: right;\n",
       "    }\n",
       "</style>\n",
       "<table border=\"1\" class=\"dataframe\">\n",
       "  <thead>\n",
       "    <tr style=\"text-align: right;\">\n",
       "      <th></th>\n",
       "      <th>Num_1</th>\n",
       "      <th>Num_2</th>\n",
       "    </tr>\n",
       "    <tr>\n",
       "      <th>Letters</th>\n",
       "      <th></th>\n",
       "      <th></th>\n",
       "    </tr>\n",
       "  </thead>\n",
       "  <tbody>\n",
       "    <tr>\n",
       "      <th>e</th>\n",
       "      <td>20</td>\n",
       "      <td>2</td>\n",
       "    </tr>\n",
       "    <tr>\n",
       "      <th>f</th>\n",
       "      <td>23</td>\n",
       "      <td>1</td>\n",
       "    </tr>\n",
       "    <tr>\n",
       "      <th>g</th>\n",
       "      <td>24</td>\n",
       "      <td>3</td>\n",
       "    </tr>\n",
       "  </tbody>\n",
       "</table>\n",
       "</div>"
      ],
      "text/plain": [
       "         Num_1  Num_2\n",
       "Letters              \n",
       "e           20      2\n",
       "f           23      1\n",
       "g           24      3"
      ]
     },
     "execution_count": 110,
     "metadata": {},
     "output_type": "execute_result"
    }
   ],
   "source": [
    "my_dict = {\"Letters\": [\"e\",\"f\",\"g\"], \"Num_1\": [20,23,24], \"Num_2\": [2,1,3]}\n",
    "df2 = pd.DataFrame(my_dict).set_index(\"Letters\")\n",
    "df2"
   ]
  },
  {
   "cell_type": "code",
   "execution_count": 111,
   "metadata": {
    "slideshow": {
     "slide_type": "subslide"
    }
   },
   "outputs": [
    {
     "data": {
      "text/html": [
       "<div>\n",
       "<style scoped>\n",
       "    .dataframe tbody tr th:only-of-type {\n",
       "        vertical-align: middle;\n",
       "    }\n",
       "\n",
       "    .dataframe tbody tr th {\n",
       "        vertical-align: top;\n",
       "    }\n",
       "\n",
       "    .dataframe thead th {\n",
       "        text-align: right;\n",
       "    }\n",
       "</style>\n",
       "<table border=\"1\" class=\"dataframe\">\n",
       "  <thead>\n",
       "    <tr style=\"text-align: right;\">\n",
       "      <th></th>\n",
       "      <th>Num_1</th>\n",
       "      <th>Num_2</th>\n",
       "    </tr>\n",
       "    <tr>\n",
       "      <th>Letters</th>\n",
       "      <th></th>\n",
       "      <th></th>\n",
       "    </tr>\n",
       "  </thead>\n",
       "  <tbody>\n",
       "    <tr>\n",
       "      <th>a</th>\n",
       "      <td>23</td>\n",
       "      <td>2</td>\n",
       "    </tr>\n",
       "    <tr>\n",
       "      <th>b</th>\n",
       "      <td>26</td>\n",
       "      <td>3</td>\n",
       "    </tr>\n",
       "    <tr>\n",
       "      <th>c</th>\n",
       "      <td>32</td>\n",
       "      <td>2</td>\n",
       "    </tr>\n",
       "    <tr>\n",
       "      <th>d</th>\n",
       "      <td>21</td>\n",
       "      <td>4</td>\n",
       "    </tr>\n",
       "    <tr>\n",
       "      <th>e</th>\n",
       "      <td>20</td>\n",
       "      <td>2</td>\n",
       "    </tr>\n",
       "    <tr>\n",
       "      <th>f</th>\n",
       "      <td>23</td>\n",
       "      <td>1</td>\n",
       "    </tr>\n",
       "    <tr>\n",
       "      <th>g</th>\n",
       "      <td>24</td>\n",
       "      <td>3</td>\n",
       "    </tr>\n",
       "  </tbody>\n",
       "</table>\n",
       "</div>"
      ],
      "text/plain": [
       "         Num_1  Num_2\n",
       "Letters              \n",
       "a           23      2\n",
       "b           26      3\n",
       "c           32      2\n",
       "d           21      4\n",
       "e           20      2\n",
       "f           23      1\n",
       "g           24      3"
      ]
     },
     "execution_count": 111,
     "metadata": {},
     "output_type": "execute_result"
    }
   ],
   "source": [
    "df3 = df.append(df2)\n",
    "df3"
   ]
  },
  {
   "cell_type": "markdown",
   "metadata": {
    "slideshow": {
     "slide_type": "slide"
    }
   },
   "source": [
    "### Join\n",
    "Join also combines DataFrames, but merges them along the lateral dimension."
   ]
  },
  {
   "cell_type": "code",
   "execution_count": 117,
   "metadata": {
    "slideshow": {
     "slide_type": "subslide"
    }
   },
   "outputs": [
    {
     "data": {
      "text/html": [
       "<div>\n",
       "<style scoped>\n",
       "    .dataframe tbody tr th:only-of-type {\n",
       "        vertical-align: middle;\n",
       "    }\n",
       "\n",
       "    .dataframe tbody tr th {\n",
       "        vertical-align: top;\n",
       "    }\n",
       "\n",
       "    .dataframe thead th {\n",
       "        text-align: right;\n",
       "    }\n",
       "</style>\n",
       "<table border=\"1\" class=\"dataframe\">\n",
       "  <thead>\n",
       "    <tr style=\"text-align: right;\">\n",
       "      <th></th>\n",
       "      <th>Num_1</th>\n",
       "      <th>Num_2</th>\n",
       "    </tr>\n",
       "    <tr>\n",
       "      <th>Letters</th>\n",
       "      <th></th>\n",
       "      <th></th>\n",
       "    </tr>\n",
       "  </thead>\n",
       "  <tbody>\n",
       "    <tr>\n",
       "      <th>a</th>\n",
       "      <td>14</td>\n",
       "      <td>7</td>\n",
       "    </tr>\n",
       "    <tr>\n",
       "      <th>b</th>\n",
       "      <td>13</td>\n",
       "      <td>10</td>\n",
       "    </tr>\n",
       "    <tr>\n",
       "      <th>c</th>\n",
       "      <td>14</td>\n",
       "      <td>13</td>\n",
       "    </tr>\n",
       "  </tbody>\n",
       "</table>\n",
       "</div>"
      ],
      "text/plain": [
       "         Num_1  Num_2\n",
       "Letters              \n",
       "a           14      7\n",
       "b           13     10\n",
       "c           14     13"
      ]
     },
     "execution_count": 117,
     "metadata": {},
     "output_type": "execute_result"
    }
   ],
   "source": [
    "my_dict = {\"Letters\": [\"a\",\"b\",\"c\"], \"Num_1\": [14,13,14], \"Num_2\": [7,10,13]}\n",
    "df = pd.DataFrame(my_dict).set_index(\"Letters\")\n",
    "df"
   ]
  },
  {
   "cell_type": "code",
   "execution_count": 118,
   "metadata": {
    "slideshow": {
     "slide_type": "subslide"
    }
   },
   "outputs": [
    {
     "data": {
      "text/html": [
       "<div>\n",
       "<style scoped>\n",
       "    .dataframe tbody tr th:only-of-type {\n",
       "        vertical-align: middle;\n",
       "    }\n",
       "\n",
       "    .dataframe tbody tr th {\n",
       "        vertical-align: top;\n",
       "    }\n",
       "\n",
       "    .dataframe thead th {\n",
       "        text-align: right;\n",
       "    }\n",
       "</style>\n",
       "<table border=\"1\" class=\"dataframe\">\n",
       "  <thead>\n",
       "    <tr style=\"text-align: right;\">\n",
       "      <th></th>\n",
       "      <th>Num_3</th>\n",
       "      <th>Num_4</th>\n",
       "    </tr>\n",
       "    <tr>\n",
       "      <th>Letters</th>\n",
       "      <th></th>\n",
       "      <th></th>\n",
       "    </tr>\n",
       "  </thead>\n",
       "  <tbody>\n",
       "    <tr>\n",
       "      <th>a</th>\n",
       "      <td>20</td>\n",
       "      <td>2</td>\n",
       "    </tr>\n",
       "    <tr>\n",
       "      <th>b</th>\n",
       "      <td>23</td>\n",
       "      <td>1</td>\n",
       "    </tr>\n",
       "    <tr>\n",
       "      <th>c</th>\n",
       "      <td>24</td>\n",
       "      <td>3</td>\n",
       "    </tr>\n",
       "  </tbody>\n",
       "</table>\n",
       "</div>"
      ],
      "text/plain": [
       "         Num_3  Num_4\n",
       "Letters              \n",
       "a           20      2\n",
       "b           23      1\n",
       "c           24      3"
      ]
     },
     "execution_count": 118,
     "metadata": {},
     "output_type": "execute_result"
    }
   ],
   "source": [
    "my_dict = {\"Letters\": [\"a\",\"b\",\"c\"], \"Num_3\": [20,23,24], \"Num_4\": [2,1,3]}\n",
    "df2 = pd.DataFrame(my_dict).set_index(\"Letters\")\n",
    "df2"
   ]
  },
  {
   "cell_type": "code",
   "execution_count": 119,
   "metadata": {
    "slideshow": {
     "slide_type": "subslide"
    }
   },
   "outputs": [
    {
     "data": {
      "text/html": [
       "<div>\n",
       "<style scoped>\n",
       "    .dataframe tbody tr th:only-of-type {\n",
       "        vertical-align: middle;\n",
       "    }\n",
       "\n",
       "    .dataframe tbody tr th {\n",
       "        vertical-align: top;\n",
       "    }\n",
       "\n",
       "    .dataframe thead th {\n",
       "        text-align: right;\n",
       "    }\n",
       "</style>\n",
       "<table border=\"1\" class=\"dataframe\">\n",
       "  <thead>\n",
       "    <tr style=\"text-align: right;\">\n",
       "      <th></th>\n",
       "      <th>Num_1</th>\n",
       "      <th>Num_2</th>\n",
       "      <th>Num_3</th>\n",
       "      <th>Num_4</th>\n",
       "    </tr>\n",
       "    <tr>\n",
       "      <th>Letters</th>\n",
       "      <th></th>\n",
       "      <th></th>\n",
       "      <th></th>\n",
       "      <th></th>\n",
       "    </tr>\n",
       "  </thead>\n",
       "  <tbody>\n",
       "    <tr>\n",
       "      <th>a</th>\n",
       "      <td>14</td>\n",
       "      <td>7</td>\n",
       "      <td>20</td>\n",
       "      <td>2</td>\n",
       "    </tr>\n",
       "    <tr>\n",
       "      <th>b</th>\n",
       "      <td>13</td>\n",
       "      <td>10</td>\n",
       "      <td>23</td>\n",
       "      <td>1</td>\n",
       "    </tr>\n",
       "    <tr>\n",
       "      <th>c</th>\n",
       "      <td>14</td>\n",
       "      <td>13</td>\n",
       "      <td>24</td>\n",
       "      <td>3</td>\n",
       "    </tr>\n",
       "  </tbody>\n",
       "</table>\n",
       "</div>"
      ],
      "text/plain": [
       "         Num_1  Num_2  Num_3  Num_4\n",
       "Letters                            \n",
       "a           14      7     20      2\n",
       "b           13     10     23      1\n",
       "c           14     13     24      3"
      ]
     },
     "execution_count": 119,
     "metadata": {},
     "output_type": "execute_result"
    }
   ],
   "source": [
    "df3 = df.join(df2)\n",
    "df3"
   ]
  },
  {
   "cell_type": "markdown",
   "metadata": {
    "slideshow": {
     "slide_type": "slide"
    }
   },
   "source": [
    "### GroupBy"
   ]
  },
  {
   "cell_type": "code",
   "execution_count": 107,
   "metadata": {
    "slideshow": {
     "slide_type": "subslide"
    }
   },
   "outputs": [
    {
     "data": {
      "text/html": [
       "<div>\n",
       "<style scoped>\n",
       "    .dataframe tbody tr th:only-of-type {\n",
       "        vertical-align: middle;\n",
       "    }\n",
       "\n",
       "    .dataframe tbody tr th {\n",
       "        vertical-align: top;\n",
       "    }\n",
       "\n",
       "    .dataframe thead th {\n",
       "        text-align: right;\n",
       "    }\n",
       "</style>\n",
       "<table border=\"1\" class=\"dataframe\">\n",
       "  <thead>\n",
       "    <tr style=\"text-align: right;\">\n",
       "      <th></th>\n",
       "      <th>Elevation</th>\n",
       "      <th>Prominence</th>\n",
       "      <th>Isolation</th>\n",
       "    </tr>\n",
       "    <tr>\n",
       "      <th>Region</th>\n",
       "      <th></th>\n",
       "      <th></th>\n",
       "      <th></th>\n",
       "    </tr>\n",
       "  </thead>\n",
       "  <tbody>\n",
       "    <tr>\n",
       "      <th>Alaska</th>\n",
       "      <td>13986.785714</td>\n",
       "      <td>5388.000000</td>\n",
       "      <td>22.640000</td>\n",
       "    </tr>\n",
       "    <tr>\n",
       "      <th>Alaska British Columbia</th>\n",
       "      <td>14106.000000</td>\n",
       "      <td>7987.000000</td>\n",
       "      <td>64.930000</td>\n",
       "    </tr>\n",
       "    <tr>\n",
       "      <th>Alaska Yukon</th>\n",
       "      <td>15058.000000</td>\n",
       "      <td>6810.600000</td>\n",
       "      <td>15.620000</td>\n",
       "    </tr>\n",
       "    <tr>\n",
       "      <th>Alberta British Columbia</th>\n",
       "      <td>12274.000000</td>\n",
       "      <td>7779.000000</td>\n",
       "      <td>98.200000</td>\n",
       "    </tr>\n",
       "    <tr>\n",
       "      <th>Arizona</th>\n",
       "      <td>12637.000000</td>\n",
       "      <td>6039.000000</td>\n",
       "      <td>246.000000</td>\n",
       "    </tr>\n",
       "    <tr>\n",
       "      <th>British Columbia</th>\n",
       "      <td>12922.333333</td>\n",
       "      <td>7618.000000</td>\n",
       "      <td>212.260000</td>\n",
       "    </tr>\n",
       "    <tr>\n",
       "      <th>California</th>\n",
       "      <td>13590.095238</td>\n",
       "      <td>3259.380952</td>\n",
       "      <td>28.689000</td>\n",
       "    </tr>\n",
       "    <tr>\n",
       "      <th>Chiapas Guatemala</th>\n",
       "      <td>13343.000000</td>\n",
       "      <td>3402.000000</td>\n",
       "      <td>14.990000</td>\n",
       "    </tr>\n",
       "    <tr>\n",
       "      <th>Colima Jalisco</th>\n",
       "      <td>12566.000000</td>\n",
       "      <td>2001.000000</td>\n",
       "      <td>3.490000</td>\n",
       "    </tr>\n",
       "    <tr>\n",
       "      <th>Colorado</th>\n",
       "      <td>13464.423077</td>\n",
       "      <td>2605.474359</td>\n",
       "      <td>15.645325</td>\n",
       "    </tr>\n",
       "    <tr>\n",
       "      <th>Costa Rica</th>\n",
       "      <td>12530.000000</td>\n",
       "      <td>12320.000000</td>\n",
       "      <td>546.000000</td>\n",
       "    </tr>\n",
       "    <tr>\n",
       "      <th>Distrito Federal</th>\n",
       "      <td>12917.000000</td>\n",
       "      <td>4026.000000</td>\n",
       "      <td>33.200000</td>\n",
       "    </tr>\n",
       "    <tr>\n",
       "      <th>Guatemala</th>\n",
       "      <td>12837.800000</td>\n",
       "      <td>7045.200000</td>\n",
       "      <td>121.326000</td>\n",
       "    </tr>\n",
       "    <tr>\n",
       "      <th>Idaho</th>\n",
       "      <td>12668.000000</td>\n",
       "      <td>6002.000000</td>\n",
       "      <td>150.800000</td>\n",
       "    </tr>\n",
       "    <tr>\n",
       "      <th>Jalisco</th>\n",
       "      <td>14009.000000</td>\n",
       "      <td>8924.000000</td>\n",
       "      <td>252.000000</td>\n",
       "    </tr>\n",
       "    <tr>\n",
       "      <th>Michoacán</th>\n",
       "      <td>12598.000000</td>\n",
       "      <td>5463.000000</td>\n",
       "      <td>84.700000</td>\n",
       "    </tr>\n",
       "    <tr>\n",
       "      <th>Montana</th>\n",
       "      <td>12696.666667</td>\n",
       "      <td>3443.666667</td>\n",
       "      <td>34.406667</td>\n",
       "    </tr>\n",
       "    <tr>\n",
       "      <th>México</th>\n",
       "      <td>14452.000000</td>\n",
       "      <td>5221.500000</td>\n",
       "      <td>41.460000</td>\n",
       "    </tr>\n",
       "    <tr>\n",
       "      <th>México Morelos Puebla</th>\n",
       "      <td>17749.000000</td>\n",
       "      <td>9974.000000</td>\n",
       "      <td>88.800000</td>\n",
       "    </tr>\n",
       "    <tr>\n",
       "      <th>México Puebla</th>\n",
       "      <td>17159.000000</td>\n",
       "      <td>5118.000000</td>\n",
       "      <td>10.880000</td>\n",
       "    </tr>\n",
       "    <tr>\n",
       "      <th>Nevada</th>\n",
       "      <td>13065.000000</td>\n",
       "      <td>7568.000000</td>\n",
       "      <td>232.000000</td>\n",
       "    </tr>\n",
       "    <tr>\n",
       "      <th>New Mexico</th>\n",
       "      <td>12779.833333</td>\n",
       "      <td>2921.333333</td>\n",
       "      <td>20.195000</td>\n",
       "    </tr>\n",
       "    <tr>\n",
       "      <th>Puebla Tlaxcala</th>\n",
       "      <td>14534.000000</td>\n",
       "      <td>6299.000000</td>\n",
       "      <td>39.700000</td>\n",
       "    </tr>\n",
       "    <tr>\n",
       "      <th>Puebla Veracruz</th>\n",
       "      <td>18491.000000</td>\n",
       "      <td>16148.000000</td>\n",
       "      <td>NaN</td>\n",
       "    </tr>\n",
       "    <tr>\n",
       "      <th>Utah</th>\n",
       "      <td>13130.000000</td>\n",
       "      <td>6269.500000</td>\n",
       "      <td>119.700000</td>\n",
       "    </tr>\n",
       "    <tr>\n",
       "      <th>Veracruz</th>\n",
       "      <td>13812.000000</td>\n",
       "      <td>4396.000000</td>\n",
       "      <td>32.900000</td>\n",
       "    </tr>\n",
       "    <tr>\n",
       "      <th>Washington</th>\n",
       "      <td>13349.000000</td>\n",
       "      <td>10673.000000</td>\n",
       "      <td>45.800000</td>\n",
       "    </tr>\n",
       "    <tr>\n",
       "      <th>Wyoming</th>\n",
       "      <td>12974.900000</td>\n",
       "      <td>3753.800000</td>\n",
       "      <td>63.001000</td>\n",
       "    </tr>\n",
       "    <tr>\n",
       "      <th>Yukon</th>\n",
       "      <td>14535.105263</td>\n",
       "      <td>4400.631579</td>\n",
       "      <td>29.012632</td>\n",
       "    </tr>\n",
       "  </tbody>\n",
       "</table>\n",
       "</div>"
      ],
      "text/plain": [
       "                             Elevation    Prominence   Isolation\n",
       "Region                                                          \n",
       "Alaska                    13986.785714   5388.000000   22.640000\n",
       "Alaska British Columbia   14106.000000   7987.000000   64.930000\n",
       "Alaska Yukon              15058.000000   6810.600000   15.620000\n",
       "Alberta British Columbia  12274.000000   7779.000000   98.200000\n",
       "Arizona                   12637.000000   6039.000000  246.000000\n",
       "British Columbia          12922.333333   7618.000000  212.260000\n",
       "California                13590.095238   3259.380952   28.689000\n",
       "Chiapas Guatemala         13343.000000   3402.000000   14.990000\n",
       "Colima Jalisco            12566.000000   2001.000000    3.490000\n",
       "Colorado                  13464.423077   2605.474359   15.645325\n",
       "Costa Rica                12530.000000  12320.000000  546.000000\n",
       "Distrito Federal          12917.000000   4026.000000   33.200000\n",
       "Guatemala                 12837.800000   7045.200000  121.326000\n",
       "Idaho                     12668.000000   6002.000000  150.800000\n",
       "Jalisco                   14009.000000   8924.000000  252.000000\n",
       "Michoacán                 12598.000000   5463.000000   84.700000\n",
       "Montana                   12696.666667   3443.666667   34.406667\n",
       "México                    14452.000000   5221.500000   41.460000\n",
       "México Morelos Puebla     17749.000000   9974.000000   88.800000\n",
       "México Puebla             17159.000000   5118.000000   10.880000\n",
       "Nevada                    13065.000000   7568.000000  232.000000\n",
       "New Mexico                12779.833333   2921.333333   20.195000\n",
       "Puebla Tlaxcala           14534.000000   6299.000000   39.700000\n",
       "Puebla Veracruz           18491.000000  16148.000000         NaN\n",
       "Utah                      13130.000000   6269.500000  119.700000\n",
       "Veracruz                  13812.000000   4396.000000   32.900000\n",
       "Washington                13349.000000  10673.000000   45.800000\n",
       "Wyoming                   12974.900000   3753.800000   63.001000\n",
       "Yukon                     14535.105263   4400.631579   29.012632"
      ]
     },
     "execution_count": 107,
     "metadata": {},
     "output_type": "execute_result"
    }
   ],
   "source": [
    "mountains_df.groupby(\"Region\").mean()"
   ]
  }
 ],
 "metadata": {
  "celltoolbar": "Slideshow",
  "kernelspec": {
   "display_name": "Python 3",
   "language": "python",
   "name": "python3"
  },
  "language_info": {
   "codemirror_mode": {
    "name": "ipython",
    "version": 3
   },
   "file_extension": ".py",
   "mimetype": "text/x-python",
   "name": "python",
   "nbconvert_exporter": "python",
   "pygments_lexer": "ipython3",
   "version": "3.7.3"
  }
 },
 "nbformat": 4,
 "nbformat_minor": 4
}
