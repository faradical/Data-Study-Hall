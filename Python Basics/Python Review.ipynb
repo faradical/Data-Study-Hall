{
 "cells": [
  {
   "cell_type": "markdown",
   "metadata": {},
   "source": [
    "# PYTHON REVIEW\n",
    "### Table of Contents\n",
    "1. [DataTypes](#1)\n",
    "    * [Strings](#1.1)\n",
    "    * [Integers](#1.2)\n",
    "    * [Floats](#1.3)\n",
    "    * [Python Aritmetic Operations:](#1.4)\n",
    "    * [Booleans](#1.5)\n",
    "    * [Lists](#1.6)\n",
    "    * [Sets](#1.7)\n",
    "    * [Tuples](#1.8)\n",
    "    * [Dictionaries](#1.9)\n",
    "2. [Type Casting](#2)\n",
    "3. [String Formatting](#3)\n",
    "4. [If/Elif/Else](#4)\n",
    "5. [For Loops](#5)\n",
    "6. [While Loops](#6)\n",
    "7. [Using Functions](#7)\n",
    "8. [Creating New Functions](#8)\n",
    "9. [Reading Files](#9)\n",
    "10. [Importing Modules](#10)"
   ]
  },
  {
   "cell_type": "markdown",
   "metadata": {},
   "source": [
    "<a id=\"1\"></a>\n",
    "## DataTypes\n",
    "There are a number of built-in classes, or datatypes, to python that you will want to familiarize yourself with."
   ]
  },
  {
   "cell_type": "markdown",
   "metadata": {},
   "source": [
    "<a id=\"1.1\"></a>\n",
    "###  - Strings\n",
    "    Strings in programming are literally a string of characters. They allow us to introduce words and sentences into our program."
   ]
  },
  {
   "cell_type": "code",
   "execution_count": 1,
   "metadata": {},
   "outputs": [],
   "source": [
    "# In Python, strings can be defined using double quotes...\n",
    "var1 = \"Hello\"\n",
    "# Or single quotes. You just need to be consistent.\n",
    "var2 = 'World'"
   ]
  },
  {
   "cell_type": "code",
   "execution_count": 2,
   "metadata": {},
   "outputs": [
    {
     "name": "stdout",
     "output_type": "stream",
     "text": [
      "Hello\n",
      "World\n"
     ]
    }
   ],
   "source": [
    "# We can print strings using the print() function.\n",
    "print(var1)\n",
    "print(var2)"
   ]
  },
  {
   "cell_type": "code",
   "execution_count": 3,
   "metadata": {},
   "outputs": [
    {
     "name": "stdout",
     "output_type": "stream",
     "text": [
      "Hello World\n"
     ]
    }
   ],
   "source": [
    "# We con also concatenate strings together using the + operator.\n",
    "var3 = var1 + \" \" + var2\n",
    "print(var3)"
   ]
  },
  {
   "cell_type": "markdown",
   "metadata": {},
   "source": [
    "<a id=\"1.2\"></a>\n",
    "### - Integers\n",
    "    Ints, or integers, are all real whole numbers."
   ]
  },
  {
   "cell_type": "code",
   "execution_count": 4,
   "metadata": {},
   "outputs": [
    {
     "name": "stdout",
     "output_type": "stream",
     "text": [
      "7\n"
     ]
    }
   ],
   "source": [
    "#Create an integer\n",
    "num1 = 7\n",
    "print(num1)"
   ]
  },
  {
   "cell_type": "code",
   "execution_count": 5,
   "metadata": {},
   "outputs": [
    {
     "name": "stdout",
     "output_type": "stream",
     "text": [
      "<class 'int'>\n"
     ]
    }
   ],
   "source": [
    "# BONUS: You can use the type() function to check the datatype of a variable\n",
    "print(type(num1))"
   ]
  },
  {
   "cell_type": "markdown",
   "metadata": {},
   "source": [
    "<a id=\"1.3\"></a>\n",
    "### - Floats\n",
    "    Floats are another numerical datatype used to hold decimals."
   ]
  },
  {
   "cell_type": "code",
   "execution_count": 6,
   "metadata": {},
   "outputs": [
    {
     "name": "stdout",
     "output_type": "stream",
     "text": [
      "15.5\n",
      "<class 'float'>\n"
     ]
    }
   ],
   "source": [
    "# Floats are defined the same way as regular integers, except that they feature decimals\n",
    "num2 = 15.5\n",
    "print(num2)\n",
    "print(type(num2))"
   ]
  },
  {
   "cell_type": "code",
   "execution_count": 7,
   "metadata": {},
   "outputs": [
    {
     "name": "stdout",
     "output_type": "stream",
     "text": [
      "22.5\n",
      "<class 'float'>\n"
     ]
    }
   ],
   "source": [
    "# It is possible to perform arithmetic operations on both number types.\n",
    "num3 = num1 + num2\n",
    "print(num3)\n",
    "\n",
    "# If you combine a float class with an int class, the result will be the class with the higher precision: float.\n",
    "print(type(num3))"
   ]
  },
  {
   "cell_type": "markdown",
   "metadata": {},
   "source": [
    "<a id=\"1.4\"></a>\n",
    "### Python Aritmetic Operations:\n",
    "![Python Arithmetic](https://d1e4pidl3fu268.cloudfront.net/f20083ef-a2fb-4673-ac88-13d58ba68133/Arithmeticoperators.png)"
   ]
  },
  {
   "cell_type": "markdown",
   "metadata": {},
   "source": [
    "<a id=\"1.5\"></a>\n",
    "### - Booleans\n",
    "    Booleans are a variable class that have a binary of True or False values"
   ]
  },
  {
   "cell_type": "code",
   "execution_count": 8,
   "metadata": {},
   "outputs": [
    {
     "name": "stdout",
     "output_type": "stream",
     "text": [
      "True\n"
     ]
    }
   ],
   "source": [
    "status1 = True\n",
    "status2 = False\n",
    "print(status1)"
   ]
  },
  {
   "cell_type": "markdown",
   "metadata": {},
   "source": [
    "<a id=\"1.6\"></a>\n",
    "### - Lists\n",
    "    Lists are the work-horse for iterable data in python. They are an object that, as the name suggests, contain multiple other objects in list."
   ]
  },
  {
   "cell_type": "code",
   "execution_count": 9,
   "metadata": {},
   "outputs": [
    {
     "name": "stdout",
     "output_type": "stream",
     "text": [
      "['a', 'b', 3.14, 5, True]\n"
     ]
    }
   ],
   "source": [
    "# We can define a using the square brackets with each item in the list being seperated by a comma.\n",
    "my_list = [\"a\", \"b\", 3.14, 5, True]\n",
    "# You will notice that the items in a list do not have to all have the same class.\n",
    "print(my_list)"
   ]
  },
  {
   "cell_type": "code",
   "execution_count": 10,
   "metadata": {},
   "outputs": [
    {
     "name": "stdout",
     "output_type": "stream",
     "text": [
      "5\n"
     ]
    }
   ],
   "source": [
    "# We can access items in a list using indexing.\n",
    "# Simply write the name of the list, then specify the index position in square brackets.\n",
    "# Do not forget that the index starts at 0!\n",
    "# i.e., the first item in the list is position 0, and the fourth item in the list is position 3.\n",
    "print(my_list[3])"
   ]
  },
  {
   "cell_type": "code",
   "execution_count": 11,
   "metadata": {},
   "outputs": [
    {
     "name": "stdout",
     "output_type": "stream",
     "text": [
      "['a', 'b', 3.14]\n",
      "[5, True]\n",
      "True\n",
      "['a', 'b', 3.14, True]\n"
     ]
    }
   ],
   "source": [
    "# It is possible to perform more complex tasks with indexing as well!\n",
    "print(my_list[:3]) # Print the range from the beginning of the list to index position 2 (The last value, 3, is non-inclusive!)\n",
    "print(my_list[3:]) # Print the range from index position 3 to the end of the list\n",
    "print(my_list[-1]) # Print the last item in the list\n",
    "new_list = my_list[:3] +  my_list[4:] # Create a new list without index position 3\n",
    "print(new_list)"
   ]
  },
  {
   "cell_type": "code",
   "execution_count": 12,
   "metadata": {},
   "outputs": [
    {
     "name": "stdout",
     "output_type": "stream",
     "text": [
      "['a', 'b', 3.14, 5, True, 'hello']\n"
     ]
    }
   ],
   "source": [
    "# It is possible to add items to a list using the append() method:\n",
    "my_list.append(\"hello\")\n",
    "print(my_list)"
   ]
  },
  {
   "cell_type": "code",
   "execution_count": 13,
   "metadata": {},
   "outputs": [
    {
     "name": "stdout",
     "output_type": "stream",
     "text": [
      "['a', 'b', 3.14, True, 'hello']\n"
     ]
    }
   ],
   "source": [
    "# It is possible to \n",
    "my_list.remove(5)\n",
    "print(my_list)"
   ]
  },
  {
   "cell_type": "markdown",
   "metadata": {},
   "source": [
    "An important note on variables in a list:"
   ]
  },
  {
   "cell_type": "code",
   "execution_count": 14,
   "metadata": {},
   "outputs": [
    {
     "name": "stdout",
     "output_type": "stream",
     "text": [
      "['Hello', 7, 15.5]\n"
     ]
    }
   ],
   "source": [
    "# Note that we can make a list out of variables we have defined.\n",
    "my_new_list = [var1, num1, num2]\n",
    "print(my_new_list)"
   ]
  },
  {
   "cell_type": "code",
   "execution_count": 15,
   "metadata": {},
   "outputs": [
    {
     "name": "stdout",
     "output_type": "stream",
     "text": [
      "['Hello', 7, 15.5]\n"
     ]
    }
   ],
   "source": [
    "# However, if we update one of those variables, that does not effect the value in the list\n",
    "var1 = \"Now time for something completely different!\"\n",
    "print(my_new_list)"
   ]
  },
  {
   "cell_type": "code",
   "execution_count": 16,
   "metadata": {},
   "outputs": [
    {
     "name": "stdout",
     "output_type": "stream",
     "text": [
      "['Now time for something completely different!', 7, 15.5]\n"
     ]
    }
   ],
   "source": [
    "# This is because the list only gains it's intial value from the variable. In order to update the list item, we need to use indexing!\n",
    "my_new_list[0] = \"Now time for something completely different!\"\n",
    "print(my_new_list)"
   ]
  },
  {
   "cell_type": "markdown",
   "metadata": {},
   "source": [
    "<a id=\"1.7\"></a>\n",
    "### - Sets\n",
    "    Sets in Python are modeled after mathematical sets and often used in similiar operations. Unlike lists, sets are unordered and have no index to access specific items. Items in a set must also all be unique, making them a quick way to get rid of duplicate data. While items in a set can be added or removed, they are immutable, meaning they cannot be changed."
   ]
  },
  {
   "cell_type": "code",
   "execution_count": 17,
   "metadata": {},
   "outputs": [
    {
     "name": "stdout",
     "output_type": "stream",
     "text": [
      "{1, 'b', 2, 3, 'a', 'c'}\n"
     ]
    }
   ],
   "source": [
    "# Sets can be created similiarly to a list, but using curly brackets instead of square brackets.\n",
    "my_set = {\"a\",\"b\",\"c\",1,2,3}\n",
    "print(my_set)"
   ]
  },
  {
   "cell_type": "code",
   "execution_count": 18,
   "metadata": {},
   "outputs": [
    {
     "name": "stdout",
     "output_type": "stream",
     "text": [
      "{1, 'b', 2, 3, 'a', 'c', 'new value'}\n"
     ]
    }
   ],
   "source": [
    "# Add a value to the set using add().\n",
    "my_set.add(\"new value\")\n",
    "print(my_set)"
   ]
  },
  {
   "cell_type": "code",
   "execution_count": 19,
   "metadata": {},
   "outputs": [
    {
     "name": "stdout",
     "output_type": "stream",
     "text": [
      "{1, 'b', 2, 3, 'a', 'c'}\n"
     ]
    }
   ],
   "source": [
    "# Remove a value from the set using discard().\n",
    "my_set.discard(\"new value\")\n",
    "print(my_set)"
   ]
  },
  {
   "cell_type": "markdown",
   "metadata": {},
   "source": [
    "<a id=\"1.8\"></a>\n",
    "### - Tuples\n",
    "    Tuples are another collection data structure that uses indexing to access the data within, but unlike lists, tuples are completely imutable and connot be changed at all."
   ]
  },
  {
   "cell_type": "code",
   "execution_count": 20,
   "metadata": {},
   "outputs": [
    {
     "name": "stdout",
     "output_type": "stream",
     "text": [
      "('a', 'b', 3.14, 5, True)\n",
      "3.14\n"
     ]
    }
   ],
   "source": [
    "# Tuples can be created using the parentheses.\n",
    "my_tuple = (\"a\", \"b\", 3.14, 5, True)\n",
    "print(my_tuple)\n",
    "print(my_tuple[2])"
   ]
  },
  {
   "cell_type": "markdown",
   "metadata": {},
   "source": [
    "<a id=\"1.9\"></a>\n",
    "### - Dictionaries\n",
    "    Next to lists, dictionaries are one of the most powerful collection structures in Python! As opposed to to an index, however, dictionary data is accessed using key:value pairs. Dictionaries are easily changeable and do not allow duplicate keys."
   ]
  },
  {
   "cell_type": "code",
   "execution_count": 21,
   "metadata": {},
   "outputs": [
    {
     "name": "stdout",
     "output_type": "stream",
     "text": [
      "{'key 1': 3, 'key 2': 'value 2', 'Pi': 3.1415}\n"
     ]
    }
   ],
   "source": [
    "# Create a dictionary using the curly brackets in combination with key:value pairs seperated by commas.\n",
    "my_big_dict = {\"key 1\": 3, \"key 2\": \"value 2\", \"Pi\": 3.1415}\n",
    "print(my_big_dict)"
   ]
  },
  {
   "cell_type": "code",
   "execution_count": 22,
   "metadata": {},
   "outputs": [
    {
     "name": "stdout",
     "output_type": "stream",
     "text": [
      "value 2\n"
     ]
    }
   ],
   "source": [
    "# Access data in a dictionary by putting the key you want in square brackets\n",
    "print(my_big_dict[\"key 2\"])"
   ]
  },
  {
   "cell_type": "code",
   "execution_count": 23,
   "metadata": {},
   "outputs": [
    {
     "name": "stdout",
     "output_type": "stream",
     "text": [
      "{'key 1': 3, 'key 2': 'value 2', 'Pi': 3.1415, 'golden ration': 1.618}\n"
     ]
    }
   ],
   "source": [
    "# Adding a key:value pair to a dictionary as specifing the new key in square brackets and setting it equal to the intended value.\n",
    "my_big_dict['golden ration'] = 1.618\n",
    "print(my_big_dict)"
   ]
  },
  {
   "cell_type": "code",
   "execution_count": 24,
   "metadata": {},
   "outputs": [
    {
     "name": "stdout",
     "output_type": "stream",
     "text": [
      "{'key 1': 3, 'key 2': 7, 'Pi': 3.1415, 'golden ration': 1.618}\n"
     ]
    }
   ],
   "source": [
    "# You can edit the value of one of the value pairs in much the same way\n",
    "my_big_dict['key 2'] = 7\n",
    "print(my_big_dict)"
   ]
  },
  {
   "cell_type": "code",
   "execution_count": 25,
   "metadata": {},
   "outputs": [
    {
     "name": "stdout",
     "output_type": "stream",
     "text": [
      "{'key 2': 7, 'Pi': 3.1415, 'golden ration': 1.618}\n"
     ]
    }
   ],
   "source": [
    "# You can also remove keys by using the pop() method...\n",
    "my_big_dict.pop(\"key 1\")\n",
    "print(my_big_dict)"
   ]
  },
  {
   "cell_type": "code",
   "execution_count": 26,
   "metadata": {},
   "outputs": [
    {
     "name": "stdout",
     "output_type": "stream",
     "text": [
      "{'Pi': 3.1415, 'golden ration': 1.618}\n"
     ]
    }
   ],
   "source": [
    "# Or delete key using the del operation and specifing the key\n",
    "del my_big_dict[\"key 2\"]\n",
    "print(my_big_dict)"
   ]
  },
  {
   "cell_type": "markdown",
   "metadata": {},
   "source": [
    "<a id=\"2\"></a>\n",
    "## Type Casting\n",
    "Have a variable that is currently one type of data class, but want it to be another? No problem, casting is here to help!"
   ]
  },
  {
   "cell_type": "code",
   "execution_count": 27,
   "metadata": {},
   "outputs": [
    {
     "name": "stdout",
     "output_type": "stream",
     "text": [
      "My integer is: 6\n",
      "It's class is:\n",
      "<class 'int'>\n",
      "\n",
      "My float is: 6.0\n",
      "It's class is:\n",
      "<class 'float'>\n"
     ]
    }
   ],
   "source": [
    "# You can usually cast a data class to any other similiar class by calling the \"class constructor\".\n",
    "# Here, we will use the float class constructor to cast an integer as a float:\n",
    "my_int = 6\n",
    "print(f\"My integer is: {my_int}\")\n",
    "print(f\"It's class is:\")\n",
    "print(type(my_int))\n",
    "\n",
    "print() # Additional print function to make our output prettier\n",
    "\n",
    "my_float = float(my_int) # Here is where we use the class constructor to cast my_int as a float!\n",
    "print(f\"My float is: {my_float}\")\n",
    "print(f\"It's class is:\")\n",
    "print(type(my_float))"
   ]
  },
  {
   "cell_type": "markdown",
   "metadata": {},
   "source": [
    "Casting can be used to solve a number of problems you might encounter!"
   ]
  },
  {
   "cell_type": "code",
   "execution_count": 28,
   "metadata": {},
   "outputs": [
    {
     "name": "stdout",
     "output_type": "stream",
     "text": [
      "13\n",
      "<class 'int'>\n"
     ]
    }
   ],
   "source": [
    "# Have a string you need to convert to a number?\n",
    "num_string = \"13\"\n",
    "num = int(num_string)\n",
    "print(num)\n",
    "print(type(num))"
   ]
  },
  {
   "cell_type": "code",
   "execution_count": 29,
   "metadata": {},
   "outputs": [
    {
     "name": "stdout",
     "output_type": "stream",
     "text": [
      "Friday the 13\n"
     ]
    }
   ],
   "source": [
    "# How about converting a number back to a string to be concatentated?\n",
    "print(\"Friday the \" + str(num))"
   ]
  },
  {
   "cell_type": "code",
   "execution_count": 30,
   "metadata": {},
   "outputs": [
    {
     "name": "stdout",
     "output_type": "stream",
     "text": [
      "('a', 'b', 3.14, 5, True)\n",
      "['a', 'red', 3.14, 5, True]\n"
     ]
    }
   ],
   "source": [
    "# Run into tuple you need to be able to manipulate? Lists can do the job!\n",
    "print(my_tuple) # This tuple cannot be changed.\n",
    "list_from_tuple = list(my_tuple) # But this list can!\n",
    "list_from_tuple[1] = \"red\"\n",
    "print(list_from_tuple)"
   ]
  },
  {
   "cell_type": "code",
   "execution_count": 31,
   "metadata": {},
   "outputs": [
    {
     "name": "stdout",
     "output_type": "stream",
     "text": [
      "['c', 'b', 'd', 'a']\n"
     ]
    }
   ],
   "source": [
    "# How about if you need the set of unique items in a list?\n",
    "big_list = [\"a\",\"a\",\"a\",\"b\",\"b\",\"b\",\"b\",\"b\",\"b\",\"c\",\"c\",\"c\",\"c\",\"d\",\"d\"]\n",
    "# Well that sounds like a job for a set!\n",
    "unique = list(set(big_list))\n",
    "print(unique)"
   ]
  },
  {
   "cell_type": "markdown",
   "metadata": {},
   "source": [
    "<a id=\"3\"></a>\n",
    "## String Formatting\n",
    "Casting is one effective way to concatenate non-string data to a string, but there are to other hghly effective ways that come with additional formatting benefits."
   ]
  },
  {
   "cell_type": "code",
   "execution_count": 32,
   "metadata": {},
   "outputs": [
    {
     "name": "stdout",
     "output_type": "stream",
     "text": [
      "The number Pi is roughly 3.1415\n",
      "The number Pi is roughly 3.14\n"
     ]
    }
   ],
   "source": [
    "# The format method, which replaces the {} in a string with the variable specified.\n",
    "print(\"The number Pi is roughly {}\".format(my_big_dict[\"Pi\"]))\n",
    "# This method allows us to use special formatting, such as below used to round the digits of Pi.\n",
    "print(\"The number Pi is roughly {:.2f}\".format(my_big_dict[\"Pi\"])) # Note the format specifier in the {}"
   ]
  },
  {
   "cell_type": "code",
   "execution_count": 33,
   "metadata": {},
   "outputs": [
    {
     "name": "stdout",
     "output_type": "stream",
     "text": [
      "The number Pi is roughly 3.1415\n",
      "The number Pi is roughly 3.14\n"
     ]
    }
   ],
   "source": [
    "# The f-string is also a grat way to quickly format strings. Note the \"f\" at the beginning of the string!\n",
    "print(f\"The number Pi is roughly {my_big_dict['Pi']}\") # Notice that the quotes around 'Pi' are now single quotes since the f-string was started with double quotes!\n",
    "# We can use the same format specifier with in the f-string.\n",
    "print(f\"The number Pi is roughly {my_big_dict['Pi']:.2f}\")"
   ]
  },
  {
   "cell_type": "markdown",
   "metadata": {},
   "source": [
    "<a id=\"4\"></a>\n",
    "## If/Elif/Else\n",
    "If/Then statements allow us to create different paths in our program depending on the conditions it encounters."
   ]
  },
  {
   "cell_type": "code",
   "execution_count": 34,
   "metadata": {},
   "outputs": [
    {
     "data": {
      "text/plain": [
       "True"
      ]
     },
     "execution_count": 34,
     "metadata": {},
     "output_type": "execute_result"
    }
   ],
   "source": [
    "# If/then statements in Python are bult off conditionals, statements that have two pieces of data and a comparison operater between them describing relationship to look for.\n",
    "a = 2 # A variable assignment.\n",
    "a == 2 # A conditional. Note that the comparison operator is a double equals sign to distinguish it from the assignment operator"
   ]
  },
  {
   "cell_type": "code",
   "execution_count": 35,
   "metadata": {},
   "outputs": [
    {
     "name": "stdout",
     "output_type": "stream",
     "text": [
      "Variable 'a' is indeed 2.\n"
     ]
    }
   ],
   "source": [
    "# If the conditional returns True, the if statement will execute:\n",
    "if a == 2:\n",
    "    print(\"Variable 'a' is indeed 2.\")"
   ]
  },
  {
   "cell_type": "code",
   "execution_count": null,
   "metadata": {},
   "outputs": [],
   "source": [
    "response = input(\"Please select y or n: \")\n",
    "\n",
    "if response == \"y\":\n",
    "    print(\"You chose y! Great choice!\")\n",
    "elif response == \"n\":\n",
    "    print(\"You choose n. Bad move.\")\n",
    "else:\n",
    "    print(\"You were supposed to choose y or n!\")"
   ]
  },
  {
   "cell_type": "code",
   "execution_count": null,
   "metadata": {},
   "outputs": [],
   "source": [
    "# You can make additional conditions in a single line by using the \"and\" as well as \"or\" operators to seperate the conditionals.\n",
    "if a==2 and response==\"y\": # Both conditions must be true\n",
    "    print(\"A is 2 AND you chose Y.\")\n",
    "    \n",
    "if a==2 or response==\"y\": # Only one condition needs to be true\n",
    "    print(\"Either A is 2 OR you chose Y.\")"
   ]
  },
  {
   "cell_type": "markdown",
   "metadata": {},
   "source": [
    "Comparison Operators List\\\n",
    "![Comparison Operators](https://iconicdevelopers.com/wp-content/uploads/2019/01/Overview-of-Comparison-Operators-in-Python-1024x603.png)"
   ]
  },
  {
   "cell_type": "markdown",
   "metadata": {},
   "source": [
    "<a id=\"5\"></a>\n",
    "## For Loops\n",
    "For Loops allow us to perform a set number of iterations of a block of code. They are one of the first keys you learn to automating repetitive tasks!"
   ]
  },
  {
   "cell_type": "code",
   "execution_count": null,
   "metadata": {},
   "outputs": [],
   "source": [
    "# Iterate over a sequence of numbers using the range function\n",
    "for n in range(5):\n",
    "    print(n)"
   ]
  },
  {
   "cell_type": "code",
   "execution_count": null,
   "metadata": {},
   "outputs": [],
   "source": [
    "# Iterate over items in a list\n",
    "for i in my_list:\n",
    "    print(i)"
   ]
  },
  {
   "cell_type": "code",
   "execution_count": null,
   "metadata": {},
   "outputs": [],
   "source": [
    "# Iterate over the keys in dictionary\n",
    "for i in my_big_dict:\n",
    "    print(i)"
   ]
  },
  {
   "cell_type": "code",
   "execution_count": null,
   "metadata": {},
   "outputs": [],
   "source": [
    "# You can also feed those keys back into the diction to iterate over the values!\n",
    "for i in my_big_dict:\n",
    "    print(my_big_dict[i])"
   ]
  },
  {
   "cell_type": "markdown",
   "metadata": {},
   "source": [
    "<a id=\"6\"></a>\n",
    "## While Loops\n",
    "Unlike For Loops, which perform a set numer of iterations, while loops are intended to loop until a certain condition is met."
   ]
  },
  {
   "cell_type": "code",
   "execution_count": null,
   "metadata": {},
   "outputs": [],
   "source": [
    "response = input(\"Please select y or n: \") # initializing the response variable for the while loop to use.\n",
    "\n",
    "while response != \"n\":\n",
    "    response = input(\"Please select y or n: \")\n",
    "\n",
    "    if response == \"y\":\n",
    "        print(\"You chose y! Great choice!\")\n",
    "    elif response == \"n\":\n",
    "        print(\"You choose n. Bad move.\")\n",
    "    else:\n",
    "        print(\"You were supposed to choose y or n!\")"
   ]
  },
  {
   "cell_type": "markdown",
   "metadata": {},
   "source": [
    "<a id=\"7\"></a>\n",
    "## Using Functions\n",
    "Functions are versatile blocks of pre-written code that take arguments as input, perform some program, then return some data to the user."
   ]
  },
  {
   "cell_type": "markdown",
   "metadata": {},
   "source": [
    "Functions we have already used in this review so far include:\n",
    "* [print()](https://docs.python.org/3/library/functions.html#print)\n",
    "* [type()](https://docs.python.org/3/library/functions.html#type)\n",
    "* [input()](https://docs.python.org/3/library/functions.html#input)\n",
    "* [len()](https://docs.python.org/3/library/functions.html#len)\n",
    "* [range()](https://docs.python.org/3/library/functions.html#func-range)"
   ]
  },
  {
   "cell_type": "markdown",
   "metadata": {},
   "source": [
    "Other functions you will want to familiarize yourself with include:\n",
    "* [isinstance()](https://docs.python.org/3/library/functions.html#isinstance)\n",
    "* [sum()](https://docs.python.org/3/library/functions.html#sum)\n",
    "* [zip()](https://docs.python.org/3/library/functions.html#zip)\n",
    "* [enumerate()](https://docs.python.org/3/library/functions.html#enumerate)\n",
    "* [round()](https://docs.python.org/3/library/functions.html#round)\n",
    "* [open()](https://docs.python.org/3/library/functions.html#open)"
   ]
  },
  {
   "cell_type": "markdown",
   "metadata": {},
   "source": [
    "<a id=\"8\"></a>\n",
    "## Creating New Functions\n",
    "We are not limited to only those functions that are native in Python, but can write our own!"
   ]
  },
  {
   "cell_type": "code",
   "execution_count": null,
   "metadata": {},
   "outputs": [],
   "source": [
    "# Functions are defined using the \"def\" prefix followed by any arguments in parentheses\n",
    "def my_func(argument1, argument2):\n",
    "    return argument1 + argument2\n",
    "\n",
    "print(my_func(5, 7))\n",
    "print(my_func(\"cat\", \"dog\")) # When writing functions, it is important to keep in mind how it will handle datatypes."
   ]
  },
  {
   "cell_type": "code",
   "execution_count": null,
   "metadata": {},
   "outputs": [],
   "source": [
    "import math\n",
    "def get_hypotenuse(a, b):\n",
    "    c = math.sqrt(a**2 + b**2)\n",
    "    return c\n",
    "\n",
    "(print(get_hypotenuse(5, 7)))"
   ]
  },
  {
   "cell_type": "code",
   "execution_count": null,
   "metadata": {},
   "outputs": [],
   "source": [
    "# You can even call functions inside of functions to create more powerful code.\n",
    "def perimeter(a, b):\n",
    "    c = get_hypotenuse(a, b)\n",
    "    result = my_func(a, b) + c\n",
    "    return result\n",
    "\n",
    "print(perimeter(5, 7))"
   ]
  },
  {
   "cell_type": "markdown",
   "metadata": {},
   "source": [
    "<a id=\"9\"></a>\n",
    "## Reading Files"
   ]
  },
  {
   "cell_type": "code",
   "execution_count": null,
   "metadata": {},
   "outputs": [],
   "source": [
    "path = \"Resources/my_file.txt\"\n",
    "file = open(path, \"r\") # Here we are opening the file in red mode, as denoted by the \"r\".\n",
    "print(file.read())"
   ]
  },
  {
   "cell_type": "code",
   "execution_count": null,
   "metadata": {},
   "outputs": [],
   "source": [
    "# We can open files as a variable and write to them.\n",
    "file = open(path, \"a+\") # Here we are opening the file in append mode, as denoted by the \"a+\".\n",
    "file.write(\"\\nA new line\")\n",
    "file.close()"
   ]
  },
  {
   "cell_type": "code",
   "execution_count": null,
   "metadata": {},
   "outputs": [],
   "source": [
    "#Or open files using the \"with/as\" statement.\n",
    "#A bonus of this method is it does not require a file.close(), but everything we do with the file must be under the \"with/as\".\n",
    "with open(path, \"a+\") as file:\n",
    "    file.write(\"\\nAnother new line\")\n",
    "\n",
    "file = open(path, \"r\")\n",
    "print(file.read())"
   ]
  },
  {
   "cell_type": "markdown",
   "metadata": {},
   "source": [
    "<a id=\"10\"></a>\n",
    "## Importing Modules\n",
    "Modules are collections of pre-written Python code, including variables, classes, and functions which are not included in regular Python. However, we can import these modules for use in our own code."
   ]
  },
  {
   "cell_type": "code",
   "execution_count": null,
   "metadata": {},
   "outputs": [],
   "source": [
    "import random as rn\n",
    "print(rn.choice(my_list))"
   ]
  },
  {
   "cell_type": "code",
   "execution_count": null,
   "metadata": {},
   "outputs": [],
   "source": [
    "import pandas as pd\n",
    "pd.DataFrame({\"Column A\":[1,2,3],\"Column B\":[4,5,6],\"Column C\":[2,5,3]})"
   ]
  },
  {
   "cell_type": "markdown",
   "metadata": {},
   "source": [
    "## Thanks for Reading!\n",
    "    -Seth Pruitt"
   ]
  }
 ],
 "metadata": {
  "kernelspec": {
   "display_name": "Python 3",
   "language": "python",
   "name": "python3"
  },
  "language_info": {
   "codemirror_mode": {
    "name": "ipython",
    "version": 3
   },
   "file_extension": ".py",
   "mimetype": "text/x-python",
   "name": "python",
   "nbconvert_exporter": "python",
   "pygments_lexer": "ipython3",
   "version": "3.7.3"
  }
 },
 "nbformat": 4,
 "nbformat_minor": 4
}
