{
 "cells": [
  {
   "cell_type": "markdown",
   "metadata": {},
   "source": [
    "# Using Python APIs"
   ]
  },
  {
   "cell_type": "markdown",
   "metadata": {},
   "source": [
    "## Import Dependencies"
   ]
  },
  {
   "cell_type": "code",
   "execution_count": 4,
   "metadata": {},
   "outputs": [],
   "source": [
    "import requests, json\n",
    "from pprint import pprint\n",
    "import pandas as pd"
   ]
  },
  {
   "cell_type": "markdown",
   "metadata": {},
   "source": [
    "## Retrieve Upcoming Launch Data from SpaceX"
   ]
  },
  {
   "cell_type": "code",
   "execution_count": 22,
   "metadata": {},
   "outputs": [],
   "source": [
    "url_base = \"https://api.spacexdata.com/v4\""
   ]
  },
  {
   "cell_type": "code",
   "execution_count": 36,
   "metadata": {},
   "outputs": [],
   "source": [
    "s = requests.Session()"
   ]
  },
  {
   "cell_type": "code",
   "execution_count": 37,
   "metadata": {},
   "outputs": [],
   "source": [
    "response = s.get(url_base + \"/launches/upcoming\")"
   ]
  },
  {
   "cell_type": "code",
   "execution_count": 38,
   "metadata": {},
   "outputs": [
    {
     "name": "stdout",
     "output_type": "stream",
     "text": [
      "{'auto_update': True,\n",
      " 'capsules': [],\n",
      " 'cores': [{'core': None,\n",
      "            'flight': 5,\n",
      "            'gridfins': True,\n",
      "            'landing_attempt': True,\n",
      "            'landing_success': None,\n",
      "            'landing_type': 'ASDS',\n",
      "            'landpad': None,\n",
      "            'legs': True,\n",
      "            'reused': True}],\n",
      " 'crew': [],\n",
      " 'date_local': '2020-10-18T08:27:00-04:00',\n",
      " 'date_precision': 'hour',\n",
      " 'date_unix': 1603024020,\n",
      " 'date_utc': '2020-10-18T12:27:00.000Z',\n",
      " 'details': 'This mission will launch the thirteenth batch of operational '\n",
      "            'Starlink satellites, which are expected to be version 1.0, from '\n",
      "            'LC-39A, Kennedy Space Center. It is the fourteenth Starlink '\n",
      "            'launch overall. The satellites will be delivered to low Earth '\n",
      "            'orbit and will spend a few weeks maneuvering to their operational '\n",
      "            'altitude of 550 km. The booster for this mission is expected to '\n",
      "            'land on an ASDS.',\n",
      " 'failures': [],\n",
      " 'fairings': {'recovered': None,\n",
      "              'recovery_attempt': None,\n",
      "              'reused': None,\n",
      "              'ships': []},\n",
      " 'flight_number': 104,\n",
      " 'id': '5ef6a2bf0059c33cee4a828c',\n",
      " 'launchpad': '5e9e4502f509094188566f88',\n",
      " 'links': {'article': None,\n",
      "           'flickr': {'original': [], 'small': []},\n",
      "           'patch': {'large': 'https://images2.imgbox.com/d2/3b/bQaWiil0_o.png',\n",
      "                     'small': 'https://images2.imgbox.com/9a/96/nLppz9HW_o.png'},\n",
      "           'presskit': None,\n",
      "           'reddit': {'campaign': None,\n",
      "                      'launch': None,\n",
      "                      'media': None,\n",
      "                      'recovery': None},\n",
      "           'webcast': None,\n",
      "           'wikipedia': None,\n",
      "           'youtube_id': None},\n",
      " 'name': 'Starlink-13 (v1.0)',\n",
      " 'net': False,\n",
      " 'payloads': ['5ef6a4d50059c33cee4a82a1'],\n",
      " 'rocket': '5e9d0d95eda69973a809d1ec',\n",
      " 'ships': [],\n",
      " 'static_fire_date_unix': None,\n",
      " 'static_fire_date_utc': None,\n",
      " 'success': None,\n",
      " 'tbd': False,\n",
      " 'upcoming': True,\n",
      " 'window': None}\n"
     ]
    }
   ],
   "source": [
    "pprint(response.json()[0])"
   ]
  },
  {
   "cell_type": "code",
   "execution_count": 39,
   "metadata": {},
   "outputs": [
    {
     "name": "stdout",
     "output_type": "stream",
     "text": [
      "Starlink-13 (v1.0)\n",
      "2020-10-18T08:27:00-04:00\n",
      "This mission will launch the thirteenth batch of operational Starlink satellites, which are expected to be version 1.0, from LC-39A, Kennedy Space Center. It is the fourteenth Starlink launch overall. The satellites will be delivered to low Earth orbit and will spend a few weeks maneuvering to their operational altitude of 550 km. The booster for this mission is expected to land on an ASDS.\n"
     ]
    }
   ],
   "source": [
    "data = response.json()[0]\n",
    "print(data['name'])\n",
    "print(data['date_local'])\n",
    "print(data['details'])"
   ]
  },
  {
   "cell_type": "code",
   "execution_count": 40,
   "metadata": {},
   "outputs": [
    {
     "data": {
      "text/plain": [
       "10"
      ]
     },
     "execution_count": 40,
     "metadata": {},
     "output_type": "execute_result"
    }
   ],
   "source": [
    "len(response.json())"
   ]
  },
  {
   "cell_type": "code",
   "execution_count": 41,
   "metadata": {},
   "outputs": [],
   "source": [
    "launches = []\n",
    "for launch in response.json():\n",
    "    launches.append({\"name\": launch['name'],\n",
    "    \"date\": launch['date_local'],\n",
    "    \"details\": launch['details'],\n",
    "    \"id\": launch['id']})"
   ]
  },
  {
   "cell_type": "code",
   "execution_count": 42,
   "metadata": {},
   "outputs": [],
   "source": [
    "id = launches[2]['id']"
   ]
  },
  {
   "cell_type": "code",
   "execution_count": 43,
   "metadata": {},
   "outputs": [],
   "source": [
    "response = s.get(url_base + f\"/launches/\" + id).json()"
   ]
  },
  {
   "cell_type": "code",
   "execution_count": 44,
   "metadata": {},
   "outputs": [],
   "source": [
    "rocket = response['rocket']"
   ]
  },
  {
   "cell_type": "code",
   "execution_count": 45,
   "metadata": {},
   "outputs": [
    {
     "data": {
      "text/plain": [
       "{'height': {'meters': 70, 'feet': 229.6},\n",
       " 'diameter': {'meters': 3.7, 'feet': 12},\n",
       " 'mass': {'kg': 549054, 'lb': 1207920},\n",
       " 'first_stage': {'thrust_sea_level': {'kN': 7607, 'lbf': 1710000},\n",
       "  'thrust_vacuum': {'kN': 8227, 'lbf': 1849500},\n",
       "  'reusable': True,\n",
       "  'engines': 9,\n",
       "  'fuel_amount_tons': 385,\n",
       "  'burn_time_sec': 162},\n",
       " 'second_stage': {'thrust': {'kN': 934, 'lbf': 210000},\n",
       "  'payloads': {'composite_fairing': {'height': {'meters': 13.1, 'feet': 43},\n",
       "    'diameter': {'meters': 5.2, 'feet': 17.1}},\n",
       "   'option_1': 'dragon'},\n",
       "  'reusable': False,\n",
       "  'engines': 1,\n",
       "  'fuel_amount_tons': 90,\n",
       "  'burn_time_sec': 397},\n",
       " 'engines': {'isp': {'sea_level': 288, 'vacuum': 312},\n",
       "  'thrust_sea_level': {'kN': 845, 'lbf': 190000},\n",
       "  'thrust_vacuum': {'kN': 914, 'lbf': 205500},\n",
       "  'number': 9,\n",
       "  'type': 'merlin',\n",
       "  'version': '1D+',\n",
       "  'layout': 'octaweb',\n",
       "  'engine_loss_max': 2,\n",
       "  'propellant_1': 'liquid oxygen',\n",
       "  'propellant_2': 'RP-1 kerosene',\n",
       "  'thrust_to_weight': 180.1},\n",
       " 'landing_legs': {'number': 4, 'material': 'carbon fiber'},\n",
       " 'payload_weights': [{'id': 'leo',\n",
       "   'name': 'Low Earth Orbit',\n",
       "   'kg': 22800,\n",
       "   'lb': 50265},\n",
       "  {'id': 'gto',\n",
       "   'name': 'Geosynchronous Transfer Orbit',\n",
       "   'kg': 8300,\n",
       "   'lb': 18300},\n",
       "  {'id': 'mars', 'name': 'Mars Orbit', 'kg': 4020, 'lb': 8860}],\n",
       " 'flickr_images': ['https://farm1.staticflickr.com/929/28787338307_3453a11a77_b.jpg',\n",
       "  'https://farm4.staticflickr.com/3955/32915197674_eee74d81bb_b.jpg',\n",
       "  'https://farm1.staticflickr.com/293/32312415025_6841e30bf1_b.jpg',\n",
       "  'https://farm1.staticflickr.com/623/23660653516_5b6cb301d1_b.jpg',\n",
       "  'https://farm6.staticflickr.com/5518/31579784413_d853331601_b.jpg',\n",
       "  'https://farm1.staticflickr.com/745/32394687645_a9c54a34ef_b.jpg'],\n",
       " 'name': 'Falcon 9',\n",
       " 'type': 'rocket',\n",
       " 'active': True,\n",
       " 'stages': 2,\n",
       " 'boosters': 0,\n",
       " 'cost_per_launch': 50000000,\n",
       " 'success_rate_pct': 97,\n",
       " 'first_flight': '2010-06-04',\n",
       " 'country': 'United States',\n",
       " 'company': 'SpaceX',\n",
       " 'wikipedia': 'https://en.wikipedia.org/wiki/Falcon_9',\n",
       " 'description': 'Falcon 9 is a two-stage rocket designed and manufactured by SpaceX for the reliable and safe transport of satellites and the Dragon spacecraft into orbit.',\n",
       " 'id': '5e9d0d95eda69973a809d1ec'}"
      ]
     },
     "execution_count": 45,
     "metadata": {},
     "output_type": "execute_result"
    }
   ],
   "source": [
    "s.get(url_base + \"/rockets/\" + rocket).json()"
   ]
  },
  {
   "cell_type": "markdown",
   "metadata": {},
   "source": [
    "## Using the POST method"
   ]
  },
  {
   "cell_type": "code",
   "execution_count": 47,
   "metadata": {},
   "outputs": [
    {
     "data": {
      "text/plain": [
       "[{'name': 'A-Bomb', 'value': '1'},\n",
       " {'name': 'Abe Sapien', 'value': '2'},\n",
       " {'name': 'Abin Sur', 'value': '3'},\n",
       " {'name': 'Abomination', 'value': '4'},\n",
       " {'name': 'Abraxas', 'value': '5'},\n",
       " {'name': 'Absorbing Man', 'value': '6'},\n",
       " {'name': 'Adam Monroe', 'value': '7'},\n",
       " {'name': 'Adam Strange', 'value': '8'},\n",
       " {'name': 'Agent Bob', 'value': '10'},\n",
       " {'name': 'Agent Zero', 'value': '11'}]"
      ]
     },
     "execution_count": 47,
     "metadata": {},
     "output_type": "execute_result"
    }
   ],
   "source": [
    "response = s.get(\"http://127.0.0.1:5000/all_names\").json()\n",
    "response['characters'][:10]"
   ]
  },
  {
   "cell_type": "code",
   "execution_count": 48,
   "metadata": {},
   "outputs": [
    {
     "data": {
      "text/plain": [
       "{'_id': {'$oid': '5e10ea7b753a6564509ead43'},\n",
       " 'response': 'success',\n",
       " 'id': '69',\n",
       " 'name': 'Batman',\n",
       " 'powerstats': {'intelligence': '81',\n",
       "  'strength': '40',\n",
       "  'speed': '29',\n",
       "  'durability': '55',\n",
       "  'power': '63',\n",
       "  'combat': '90'},\n",
       " 'biography': {'full-name': 'Terry McGinnis',\n",
       "  'alter-egos': 'No alter egos found.',\n",
       "  'aliases': ['Batman II',\n",
       "   'The Tomorrow Knight',\n",
       "   'The second Dark Knight',\n",
       "   'The Dark Knight of Tomorrow',\n",
       "   'Batman Beyond'],\n",
       "  'place-of-birth': 'Gotham City, 25th Century',\n",
       "  'first-appearance': 'Batman Beyond #1',\n",
       "  'publisher': 'DC Comics',\n",
       "  'alignment': 'good'},\n",
       " 'appearance': {'gender': 'Male',\n",
       "  'race': 'Human',\n",
       "  'height': [\"5'10\", '178 cm'],\n",
       "  'weight': ['170 lb', '77 kg'],\n",
       "  'eye-color': 'Blue',\n",
       "  'hair-color': 'Black'},\n",
       " 'work': {'occupation': '-', 'base': '21st Century Gotham City'},\n",
       " 'connections': {'group-affiliation': 'Batman Family, Justice League Unlimited',\n",
       "  'relatives': 'Bruce Wayne (biological father), Warren McGinnis (father, deceased), Mary McGinnis (mother), Matt McGinnis (brother)'},\n",
       " 'image': {'url': 'https://www.superherodb.com/pictures2/portraits/10/100/10441.jpg'}}"
      ]
     },
     "execution_count": 48,
     "metadata": {},
     "output_type": "execute_result"
    }
   ],
   "source": [
    "response = s.get(\"http://127.0.0.1:5000/ID/69\").json()\n",
    "response"
   ]
  },
  {
   "cell_type": "code",
   "execution_count": 2,
   "metadata": {},
   "outputs": [
    {
     "data": {
      "text/plain": [
       "{'User-Agent': 'python-requests/2.22.0', 'Accept-Encoding': 'gzip, deflate', 'Accept': '*/*', 'Connection': 'keep-alive'}"
      ]
     },
     "execution_count": 2,
     "metadata": {},
     "output_type": "execute_result"
    }
   ],
   "source": [
    "import requests\n",
    "s = requests.Session()\n",
    "s.headers"
   ]
  },
  {
   "cell_type": "code",
   "execution_count": 3,
   "metadata": {},
   "outputs": [
    {
     "data": {
      "text/plain": [
       "{'User-Agent': 'python-requests/2.22.0', 'Accept-Encoding': 'gzip, deflate', 'Accept': '*/*', 'Connection': 'keep-alive', 'Content-Type': 'application/json'}"
      ]
     },
     "execution_count": 3,
     "metadata": {},
     "output_type": "execute_result"
    }
   ],
   "source": [
    "s.headers.update({\"Content-Type\": \"application/json\"})\n",
    "s.headers"
   ]
  },
  {
   "cell_type": "code",
   "execution_count": 54,
   "metadata": {},
   "outputs": [
    {
     "data": {
      "text/plain": [
       "'{\"name\": \"Super Susan\", \"powerstats\": {\"intelligence\": \"69\", \"strength\": \"69\", \"speed\": \"69\", \"durability\": \"69\", \"power\": \"69\", \"combat\": \"420\"}}'"
      ]
     },
     "execution_count": 54,
     "metadata": {},
     "output_type": "execute_result"
    }
   ],
   "source": [
    "hero = {'name': 'Super Susan',\n",
    "        'powerstats': {'intelligence': '69',\n",
    "        'strength': '69',\n",
    "        'speed': '69',\n",
    "        'durability': '69',\n",
    "        'power': '69',\n",
    "        'combat': '420'}}\n",
    "hero\n",
    "\n",
    "hero_data = json.dumps(hero)\n",
    "hero_data"
   ]
  },
  {
   "cell_type": "code",
   "execution_count": 56,
   "metadata": {},
   "outputs": [
    {
     "name": "stdout",
     "output_type": "stream",
     "text": [
      "200\n"
     ]
    }
   ],
   "source": [
    "response = s.post(\"http://127.0.0.1:5000/new_hero\", data=hero_data)\n",
    "print(response.status_code)"
   ]
  },
  {
   "cell_type": "code",
   "execution_count": 57,
   "metadata": {},
   "outputs": [
    {
     "name": "stdout",
     "output_type": "stream",
     "text": [
      "b'Super Susan: Successfully inserted into database.'\n"
     ]
    }
   ],
   "source": [
    "print(response.content)"
   ]
  },
  {
   "cell_type": "code",
   "execution_count": 59,
   "metadata": {},
   "outputs": [],
   "source": [
    "r = s.get(\"http://127.0.0.1:5000/ID/1003\")"
   ]
  },
  {
   "cell_type": "code",
   "execution_count": 60,
   "metadata": {},
   "outputs": [
    {
     "data": {
      "text/plain": [
       "{'_id': {'$oid': '5f9ca4c5753a65364c34bd35'},\n",
       " 'name': 'Super Susan',\n",
       " 'powerstats': {'intelligence': '69',\n",
       "  'strength': '69',\n",
       "  'speed': '69',\n",
       "  'durability': '69',\n",
       "  'power': '69',\n",
       "  'combat': '420'},\n",
       " 'id': '1003'}"
      ]
     },
     "execution_count": 60,
     "metadata": {},
     "output_type": "execute_result"
    }
   ],
   "source": [
    "r.json()"
   ]
  },
  {
   "cell_type": "code",
   "execution_count": null,
   "metadata": {},
   "outputs": [],
   "source": []
  }
 ],
 "metadata": {
  "kernelspec": {
   "display_name": "Python 3",
   "language": "python",
   "name": "python3"
  },
  "language_info": {
   "codemirror_mode": {
    "name": "ipython",
    "version": 3
   },
   "file_extension": ".py",
   "mimetype": "text/x-python",
   "name": "python",
   "nbconvert_exporter": "python",
   "pygments_lexer": "ipython3",
   "version": "3.7.3"
  }
 },
 "nbformat": 4,
 "nbformat_minor": 4
}
