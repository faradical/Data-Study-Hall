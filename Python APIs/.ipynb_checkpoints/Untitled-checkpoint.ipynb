{
 "cells": [
  {
   "cell_type": "code",
   "execution_count": 14,
   "metadata": {},
   "outputs": [],
   "source": [
    "import requests\n",
    "import pprint"
   ]
  },
  {
   "cell_type": "code",
   "execution_count": 47,
   "metadata": {},
   "outputs": [],
   "source": [
    "url = \"https://api.spacexdata.com/v3/launches/upcoming\"\n",
    "r = requests.get(url)"
   ]
  },
  {
   "cell_type": "code",
   "execution_count": 48,
   "metadata": {},
   "outputs": [
    {
     "data": {
      "text/plain": [
       "200"
      ]
     },
     "execution_count": 48,
     "metadata": {},
     "output_type": "execute_result"
    }
   ],
   "source": [
    "r.status_code"
   ]
  },
  {
   "cell_type": "code",
   "execution_count": 49,
   "metadata": {},
   "outputs": [],
   "source": [
    "r_json = r.json()"
   ]
  },
  {
   "cell_type": "code",
   "execution_count": 50,
   "metadata": {},
   "outputs": [
    {
     "name": "stdout",
     "output_type": "stream",
     "text": [
      "110\n",
      "\n",
      "110\n",
      "\n"
     ]
    }
   ],
   "source": [
    "for item in r_json:\n",
    "    pprint.pprint(item['flight_number'])\n",
    "    print()"
   ]
  },
  {
   "cell_type": "code",
   "execution_count": 51,
   "metadata": {},
   "outputs": [
    {
     "name": "stdout",
     "output_type": "stream",
     "text": [
      "{'crew': None,\n",
      " 'details': \"SpaceX's 21st ISS resupply mission on behalf of NASA and the \"\n",
      "            'first under the CRS-2 contract, this mission brings essential '\n",
      "            'supplies to the International Space Station using the cargo '\n",
      "            \"variant of SpaceX's Dragon 2 spacecraft. The external payload for \"\n",
      "            'this mission is the Nanoracks Bishop Airlock. Falcon 9 and Dragon '\n",
      "            'launch from LC-39A, Kennedy Space Center and the booster is '\n",
      "            'expected to land on an ASDS. The mission will be complete with '\n",
      "            'return and recovery of the Dragon capsule and down cargo.',\n",
      " 'flight_number': 110,\n",
      " 'is_tentative': False,\n",
      " 'last_date_update': '2020-12-05T13:04:54.000Z',\n",
      " 'last_ll_launch_date': None,\n",
      " 'last_ll_update': None,\n",
      " 'last_wiki_launch_date': '2020-12-06T16:17:00.000Z',\n",
      " 'last_wiki_revision': '774e7809-36fa-11eb-a5dc-0e33339b29dd',\n",
      " 'last_wiki_update': '2020-12-05T13:04:54.000Z',\n",
      " 'launch_date_local': '2020-12-06T11:17:00-05:00',\n",
      " 'launch_date_source': 'wiki',\n",
      " 'launch_date_unix': 1607271420,\n",
      " 'launch_date_utc': '2020-12-06T16:17:00.000Z',\n",
      " 'launch_site': {'site_id': 'ksc_lc_39a',\n",
      "                 'site_name': 'KSC LC 39A',\n",
      "                 'site_name_long': 'Kennedy Space Center Historic Launch '\n",
      "                                   'Complex 39A'},\n",
      " 'launch_success': None,\n",
      " 'launch_window': None,\n",
      " 'launch_year': '2020',\n",
      " 'links': {'article_link': None,\n",
      "           'flickr_images': [],\n",
      "           'mission_patch': 'https://imgur.com/E7fjUBD.png',\n",
      "           'mission_patch_small': 'https://imgur.com/jHNFSY6.png',\n",
      "           'presskit': None,\n",
      "           'reddit_campaign': 'https://www.reddit.com/r/spacex/comments/jw8bfe/crs21_launch_campaign_thread/',\n",
      "           'reddit_launch': None,\n",
      "           'reddit_media': None,\n",
      "           'reddit_recovery': None,\n",
      "           'video_link': None,\n",
      "           'wikipedia': None,\n",
      "           'youtube_id': None},\n",
      " 'mission_id': ['EE86F74'],\n",
      " 'mission_name': 'CRS-21',\n",
      " 'rocket': {'fairings': None,\n",
      "            'first_stage': {'cores': [{'block': 5,\n",
      "                                       'core_serial': 'B1058',\n",
      "                                       'flight': 4,\n",
      "                                       'gridfins': True,\n",
      "                                       'land_success': None,\n",
      "                                       'landing_intent': True,\n",
      "                                       'landing_type': 'ASDS',\n",
      "                                       'landing_vehicle': None,\n",
      "                                       'legs': True,\n",
      "                                       'reused': True}]},\n",
      "            'rocket_id': 'falcon9',\n",
      "            'rocket_name': 'Falcon 9',\n",
      "            'rocket_type': 'FT',\n",
      "            'second_stage': {'block': 5,\n",
      "                             'payloads': [{'cap_serial': 'C208',\n",
      "                                           'cargo_manifest': None,\n",
      "                                           'customers': ['NASA (CRS)'],\n",
      "                                           'flight_time_sec': None,\n",
      "                                           'manufacturer': 'SpaceX',\n",
      "                                           'mass_returned_kg': None,\n",
      "                                           'mass_returned_lbs': None,\n",
      "                                           'nationality': 'United States',\n",
      "                                           'norad_id': [],\n",
      "                                           'orbit': 'ISS',\n",
      "                                           'orbit_params': {'apoapsis_km': None,\n",
      "                                                            'arg_of_pericenter': None,\n",
      "                                                            'eccentricity': None,\n",
      "                                                            'epoch': None,\n",
      "                                                            'inclination_deg': None,\n",
      "                                                            'lifespan_years': None,\n",
      "                                                            'longitude': None,\n",
      "                                                            'mean_anomaly': None,\n",
      "                                                            'mean_motion': None,\n",
      "                                                            'periapsis_km': None,\n",
      "                                                            'period_min': None,\n",
      "                                                            'raan': None,\n",
      "                                                            'reference_system': 'geocentric',\n",
      "                                                            'regime': 'low-earth',\n",
      "                                                            'semi_major_axis_km': None},\n",
      "                                           'payload_id': 'CRS-21',\n",
      "                                           'payload_mass_kg': None,\n",
      "                                           'payload_mass_lbs': None,\n",
      "                                           'payload_type': 'Dragon 2.0',\n",
      "                                           'reused': True}]}},\n",
      " 'ships': [],\n",
      " 'static_fire_date_unix': None,\n",
      " 'static_fire_date_utc': None,\n",
      " 'tbd': False,\n",
      " 'telemetry': {'flight_club': None},\n",
      " 'tentative_max_precision': 'hour',\n",
      " 'timeline': None,\n",
      " 'upcoming': True}\n"
     ]
    }
   ],
   "source": [
    "pprint.pprint(r_json[0])"
   ]
  },
  {
   "cell_type": "code",
   "execution_count": 52,
   "metadata": {},
   "outputs": [
    {
     "data": {
      "text/plain": [
       "110"
      ]
     },
     "execution_count": 52,
     "metadata": {},
     "output_type": "execute_result"
    }
   ],
   "source": [
    "flight_number = r_json[0]['flight_number']\n",
    "flight_number"
   ]
  },
  {
   "cell_type": "code",
   "execution_count": 55,
   "metadata": {},
   "outputs": [
    {
     "data": {
      "text/plain": [
       "{'flight_number': 110,\n",
       " 'mission_name': 'CRS-21',\n",
       " 'mission_id': ['EE86F74'],\n",
       " 'launch_year': '2020',\n",
       " 'launch_date_unix': 1607271420,\n",
       " 'launch_date_utc': '2020-12-06T16:17:00.000Z',\n",
       " 'launch_date_local': '2020-12-06T11:17:00-05:00',\n",
       " 'is_tentative': False,\n",
       " 'tentative_max_precision': 'hour',\n",
       " 'tbd': False,\n",
       " 'launch_window': None,\n",
       " 'rocket': {'rocket_id': 'falcon9',\n",
       "  'rocket_name': 'Falcon 9',\n",
       "  'rocket_type': 'FT',\n",
       "  'first_stage': {'cores': [{'core_serial': 'B1058',\n",
       "     'flight': 4,\n",
       "     'block': 5,\n",
       "     'gridfins': True,\n",
       "     'legs': True,\n",
       "     'reused': True,\n",
       "     'land_success': None,\n",
       "     'landing_intent': True,\n",
       "     'landing_type': 'ASDS',\n",
       "     'landing_vehicle': None}]},\n",
       "  'second_stage': {'block': 5,\n",
       "   'payloads': [{'payload_id': 'CRS-21',\n",
       "     'norad_id': [],\n",
       "     'cap_serial': 'C208',\n",
       "     'reused': True,\n",
       "     'customers': ['NASA (CRS)'],\n",
       "     'nationality': 'United States',\n",
       "     'manufacturer': 'SpaceX',\n",
       "     'payload_type': 'Dragon 2.0',\n",
       "     'payload_mass_kg': None,\n",
       "     'payload_mass_lbs': None,\n",
       "     'orbit': 'ISS',\n",
       "     'orbit_params': {'reference_system': 'geocentric',\n",
       "      'regime': 'low-earth',\n",
       "      'longitude': None,\n",
       "      'semi_major_axis_km': None,\n",
       "      'eccentricity': None,\n",
       "      'periapsis_km': None,\n",
       "      'apoapsis_km': None,\n",
       "      'inclination_deg': None,\n",
       "      'period_min': None,\n",
       "      'lifespan_years': None,\n",
       "      'epoch': None,\n",
       "      'mean_motion': None,\n",
       "      'raan': None,\n",
       "      'arg_of_pericenter': None,\n",
       "      'mean_anomaly': None},\n",
       "     'mass_returned_kg': None,\n",
       "     'mass_returned_lbs': None,\n",
       "     'flight_time_sec': None,\n",
       "     'cargo_manifest': None}]},\n",
       "  'fairings': None},\n",
       " 'ships': [],\n",
       " 'telemetry': {'flight_club': None},\n",
       " 'launch_site': {'site_id': 'ksc_lc_39a',\n",
       "  'site_name': 'KSC LC 39A',\n",
       "  'site_name_long': 'Kennedy Space Center Historic Launch Complex 39A'},\n",
       " 'launch_success': None,\n",
       " 'links': {'mission_patch': 'https://imgur.com/E7fjUBD.png',\n",
       "  'mission_patch_small': 'https://imgur.com/jHNFSY6.png',\n",
       "  'reddit_campaign': 'https://www.reddit.com/r/spacex/comments/jw8bfe/crs21_launch_campaign_thread/',\n",
       "  'reddit_launch': None,\n",
       "  'reddit_recovery': None,\n",
       "  'reddit_media': None,\n",
       "  'presskit': None,\n",
       "  'article_link': None,\n",
       "  'wikipedia': None,\n",
       "  'video_link': None,\n",
       "  'youtube_id': None,\n",
       "  'flickr_images': []},\n",
       " 'details': \"SpaceX's 21st ISS resupply mission on behalf of NASA and the first under the CRS-2 contract, this mission brings essential supplies to the International Space Station using the cargo variant of SpaceX's Dragon 2 spacecraft. The external payload for this mission is the Nanoracks Bishop Airlock. Falcon 9 and Dragon launch from LC-39A, Kennedy Space Center and the booster is expected to land on an ASDS. The mission will be complete with return and recovery of the Dragon capsule and down cargo.\",\n",
       " 'upcoming': True,\n",
       " 'static_fire_date_utc': None,\n",
       " 'static_fire_date_unix': None,\n",
       " 'timeline': None,\n",
       " 'crew': None,\n",
       " 'last_date_update': '2020-12-05T13:04:54.000Z',\n",
       " 'last_ll_launch_date': None,\n",
       " 'last_ll_update': None,\n",
       " 'last_wiki_launch_date': '2020-12-06T16:17:00.000Z',\n",
       " 'last_wiki_revision': '774e7809-36fa-11eb-a5dc-0e33339b29dd',\n",
       " 'last_wiki_update': '2020-12-05T13:04:54.000Z',\n",
       " 'launch_date_source': 'wiki'}"
      ]
     },
     "execution_count": 55,
     "metadata": {},
     "output_type": "execute_result"
    }
   ],
   "source": [
    "url = f\"https://api.spacexdata.com/v3/launches/{flight_number}\"\n",
    "requests.get(url).json()"
   ]
  },
  {
   "cell_type": "code",
   "execution_count": 57,
   "metadata": {},
   "outputs": [
    {
     "name": "stdout",
     "output_type": "stream",
     "text": [
      "www.norstal.com/deathbattle/ID/12\n"
     ]
    }
   ],
   "source": [
    "url = \"www.norstal.com/deathbattle\"\n",
    "url2 = url + \"/ID/\" + str(12)\n",
    "print(url2)"
   ]
  },
  {
   "cell_type": "code",
   "execution_count": 62,
   "metadata": {},
   "outputs": [],
   "source": [
    "city_name = \"atlanta\"\n",
    "API_key = \"64f87a5da565472d7b90eeb6758c8851\""
   ]
  },
  {
   "cell_type": "code",
   "execution_count": 63,
   "metadata": {},
   "outputs": [
    {
     "data": {
      "text/plain": [
       "'api.openweathermap.org/data/2.5/weather?appid=64f87a5da565472d7b90eeb6758c8851&q=atlanta'"
      ]
     },
     "execution_count": 63,
     "metadata": {},
     "output_type": "execute_result"
    }
   ],
   "source": [
    "base_url = \"api.openweathermap.org/data/2.5/weather?\"\n",
    "city_param = f\"q={city_name}\"\n",
    "concat = \"&\"\n",
    "api_param = f\"appid={API_key}\"\n",
    "base_url + api_param + \"&\" + city_param"
   ]
  },
  {
   "cell_type": "code",
   "execution_count": 64,
   "metadata": {},
   "outputs": [
    {
     "data": {
      "text/plain": [
       "'api.openweathermap.org/data/2.5/weather?q=atlanta&appid=64f87a5da565472d7b90eeb6758c8851'"
      ]
     },
     "execution_count": 64,
     "metadata": {},
     "output_type": "execute_result"
    }
   ],
   "source": [
    "url = f\"api.openweathermap.org/data/2.5/weather?q={city_name}&appid={API_key}\"\n",
    "url"
   ]
  },
  {
   "cell_type": "code",
   "execution_count": null,
   "metadata": {},
   "outputs": [],
   "source": [
    "requests.get(https://ssrweb.zoom.us/replay02/2021/06/05/2B879D0B-5B6C-4449-A418-A3B263E4329F/GMT20210605-131607_Recording_640x360.mp4?response-content-type=video%2Fmp4&response-cache-control=max-age%3D0%2Cs-maxage%3D86400&data=bb7c68274fb3c9d207eccee62176cc923f00ee730bf4b15f2b2a588ef885dd00&s001=yes&cid=aw1&fid=3OGya6HyBTwELaNtEnc0FxTF8ZIBP76bByY9DP2JAmvilk7vf6xQ5n3Sv8kFE0MjHxzKdlmX3-mbs6cn.h24tKV77p_IsEQpn&s002=c3KuWtJy_q9_q_c659nYFIEXsZaTYvlI0JlKV3BpDP--uD8IC0ZeBqELxA.hqaLlBVVXbxBe_or&Policy=eyJTdGF0ZW1lbnQiOiBbeyJSZXNvdXJjZSI6Imh0dHBzOi8vc3Nyd2ViLnpvb20udXMvcmVwbGF5MDIvMjAyMS8wNi8wNS8yQjg3OUQwQi01QjZDLTQ0NDktQTQxOC1BM0IyNjNFNDMyOUYvR01UMjAyMTA2MDUtMTMxNjA3X1JlY29yZGluZ182NDB4MzYwLm1wND9yZXNwb25zZS1jb250ZW50LXR5cGU9dmlkZW8lMkZtcDQmcmVzcG9uc2UtY2FjaGUtY29udHJvbD1tYXgtYWdlJTNEMCUyQ3MtbWF4YWdlJTNEODY0MDAmZGF0YT1iYjdjNjgyNzRmYjNjOWQyMDdlY2NlZTYyMTc2Y2M5MjNmMDBlZTczMGJmNGIxNWYyYjJhNTg4ZWY4ODVkZDAwJnMwMDE9eWVzJmNpZD1hdzEmZmlkPTNPR3lhNkh5QlR3RUxhTnRFbmMwRnhURjhaSUJQNzZiQnlZOURQMkpBbXZpbGs3dmY2eFE1bjNTdjhrRkUwTWpIeHpLZGxtWDMtbWJzNmNuLmgyNHRLVjc3cF9Jc0VRcG4mczAwMj1jM0t1V3RKeV9xOV9xX2M2NTluWUZJRVhzWmFUWXZsSTBKbEtWM0JwRFAtLXVEOElDMFplQnFFTHhBLmhxYUxsQlZWWGJ4QmVfb3IiLCJDb25kaXRpb24iOnsiRGF0ZUxlc3NUaGFuIjp7IkFXUzpFcG9jaFRpbWUiOjE2Mjc5MTkyNDd9fX1dfQ__&Signature=RTQi4jkmANKiQ4xxcpBa2F~8xxKHcyBh2nXulHYSNKnYKCJFstrDY4F2RbldvP0lUrBJlsZJHF-vrc9u6e32sVKcCgPZF4ppml9YFYBg5HomWV9homEVoeB0R-bC56yfVxDZLvqUiPrr50oyCEUHyEewpKB0L2yQLHt5AI73vgpv6oi6TBxMwmv3B06y-ggSLuaIk6vKTP~YmYpsG4xCULMYYnRn1jfVKrhvFV7~PTNROM-ChgDZB0uhPgTyLofluxXwfwjY3NYlNzz7fhe~FGP4Yq2eBGYU1YvGia5RYYBLTU-0GgR0A8aXoG88pmeZSUwUhjTzUe-2e207EJv5tw__&Key-Pair-Id=APKAJFHNSLHYCGFYQGIA)"
   ]
  }
 ],
 "metadata": {
  "kernelspec": {
   "display_name": "Python 3",
   "language": "python",
   "name": "python3"
  },
  "language_info": {
   "codemirror_mode": {
    "name": "ipython",
    "version": 3
   },
   "file_extension": ".py",
   "mimetype": "text/x-python",
   "name": "python",
   "nbconvert_exporter": "python",
   "pygments_lexer": "ipython3",
   "version": "3.7.3"
  }
 },
 "nbformat": 4,
 "nbformat_minor": 4
}
