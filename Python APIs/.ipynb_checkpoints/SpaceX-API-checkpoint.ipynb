{
 "cells": [
  {
   "cell_type": "markdown",
   "metadata": {},
   "source": [
    "# Import Dependencies"
   ]
  },
  {
   "cell_type": "code",
   "execution_count": 2,
   "metadata": {},
   "outputs": [],
   "source": [
    "import requests, json\n",
    "from pprint import pprint\n",
    "import pandas as pd"
   ]
  },
  {
   "cell_type": "markdown",
   "metadata": {},
   "source": [
    "# Retrieve Upcoming Launch Data"
   ]
  },
  {
   "cell_type": "code",
   "execution_count": 40,
   "metadata": {},
   "outputs": [],
   "source": [
    "url_base = \"https://api.spacexdata.com/v4\""
   ]
  },
  {
   "cell_type": "code",
   "execution_count": 7,
   "metadata": {},
   "outputs": [],
   "source": [
    "s = requests.Session()"
   ]
  },
  {
   "cell_type": "code",
   "execution_count": 9,
   "metadata": {},
   "outputs": [],
   "source": [
    "response = s.get(url_base + \"/launches/upcoming\")"
   ]
  },
  {
   "cell_type": "code",
   "execution_count": 22,
   "metadata": {},
   "outputs": [
    {
     "name": "stdout",
     "output_type": "stream",
     "text": [
      "{'auto_update': True,\n",
      " 'capsules': [],\n",
      " 'cores': [{'core': '5e9e28a7f3591817f23b2663',\n",
      "            'flight': 5,\n",
      "            'gridfins': True,\n",
      "            'landing_attempt': True,\n",
      "            'landing_success': None,\n",
      "            'landing_type': 'ASDS',\n",
      "            'landpad': '5e9e3033383ecbb9e534e7cc',\n",
      "            'legs': True,\n",
      "            'reused': True}],\n",
      " 'crew': [],\n",
      " 'date_local': '2020-08-31T20:00:00-04:00',\n",
      " 'date_precision': 'month',\n",
      " 'date_unix': 1598918400,\n",
      " 'date_utc': '2020-09-01T00:00:00.000Z',\n",
      " 'details': 'This mission will launch the twelfth batch of operational '\n",
      "            'Starlink satellites, which are expected to be version 1.0, from '\n",
      "            'SLC-40, Cape Canaveral Air Force Station. It is the thirteenth '\n",
      "            'Starlink launch overall. The satellites will be delivered to low '\n",
      "            'Earth orbit and will spend a few weeks maneuvering to their '\n",
      "            'operational altitude of 550 km. The booster for this mission is '\n",
      "            'expected to land on an ASDS.',\n",
      " 'failures': [],\n",
      " 'fairings': {'recovered': None,\n",
      "              'recovery_attempt': True,\n",
      "              'reused': True,\n",
      "              'ships': ['5ea6ed2e080df4000697c907']},\n",
      " 'flight_number': 103,\n",
      " 'id': '5ef6a2090059c33cee4a828b',\n",
      " 'launchpad': '5e9e4502f509094188566f88',\n",
      " 'links': {'article': None,\n",
      "           'flickr': {'original': [], 'small': []},\n",
      "           'patch': {'large': 'https://images2.imgbox.com/d2/3b/bQaWiil0_o.png',\n",
      "                     'small': 'https://images2.imgbox.com/9a/96/nLppz9HW_o.png'},\n",
      "           'presskit': None,\n",
      "           'reddit': {'campaign': 'https://www.reddit.com/r/spacex/comments/i63bst/starlink_general_discussion_and_deployment_thread/',\n",
      "                      'launch': 'https://www.reddit.com/r/spacex/comments/iu0vtg/rspacex_starlink12_official_launch_discussion/',\n",
      "                      'media': 'https://www.reddit.com/r/spacex/comments/iudifm/rspacex_starlink12_media_thread_photographer/',\n",
      "                      'recovery': None},\n",
      "           'webcast': 'https://youtu.be/8O8Z2yPyTnc',\n",
      "           'wikipedia': 'https://en.wikipedia.org/wiki/Starlink',\n",
      "           'youtube_id': '8O8Z2yPyTnc'},\n",
      " 'name': 'Starlink-12 (v1.0)',\n",
      " 'net': False,\n",
      " 'payloads': ['5ef6a48e0059c33cee4a829f'],\n",
      " 'rocket': '5e9d0d95eda69973a809d1ec',\n",
      " 'ships': ['5ea6ed2f080df4000697c90b',\n",
      "           '5ea6ed2f080df4000697c910',\n",
      "           '5ea6ed2e080df4000697c907'],\n",
      " 'static_fire_date_unix': None,\n",
      " 'static_fire_date_utc': None,\n",
      " 'success': None,\n",
      " 'tbd': True,\n",
      " 'upcoming': True,\n",
      " 'window': 0}\n"
     ]
    }
   ],
   "source": [
    "pprint(response.json()[0])\n"
   ]
  },
  {
   "cell_type": "code",
   "execution_count": 17,
   "metadata": {},
   "outputs": [
    {
     "name": "stdout",
     "output_type": "stream",
     "text": [
      "Starlink-12 (v1.0)\n",
      "2020-08-31T20:00:00-04:00\n",
      "This mission will launch the twelfth batch of operational Starlink satellites, which are expected to be version 1.0, from SLC-40, Cape Canaveral Air Force Station. It is the thirteenth Starlink launch overall. The satellites will be delivered to low Earth orbit and will spend a few weeks maneuvering to their operational altitude of 550 km. The booster for this mission is expected to land on an ASDS.\n"
     ]
    }
   ],
   "source": [
    "data = response.json()[0]\n",
    "print(data['name'])\n",
    "print(data['date_local'])\n",
    "print(data['details'])"
   ]
  },
  {
   "cell_type": "code",
   "execution_count": 18,
   "metadata": {},
   "outputs": [
    {
     "data": {
      "text/plain": [
       "10"
      ]
     },
     "execution_count": 18,
     "metadata": {},
     "output_type": "execute_result"
    }
   ],
   "source": [
    "len(response.json())"
   ]
  },
  {
   "cell_type": "code",
   "execution_count": 26,
   "metadata": {},
   "outputs": [],
   "source": [
    "launches = []\n",
    "for launch in response.json():\n",
    "    launches.append({\"name\": launch['name'],\n",
    "    \"date\": launch['date_local'],\n",
    "    \"details\": launch['details'],\n",
    "    \"id\": launch['id']})"
   ]
  },
  {
   "cell_type": "code",
   "execution_count": 32,
   "metadata": {},
   "outputs": [],
   "source": [
    "id = launches[2]['id']"
   ]
  },
  {
   "cell_type": "code",
   "execution_count": 35,
   "metadata": {},
   "outputs": [],
   "source": [
    "response = s.get(url_base + f\"/launches/\" + id).json()"
   ]
  },
  {
   "cell_type": "code",
   "execution_count": 37,
   "metadata": {},
   "outputs": [],
   "source": [
    "rocket = response['rocket']"
   ]
  },
  {
   "cell_type": "code",
   "execution_count": 39,
   "metadata": {},
   "outputs": [
    {
     "data": {
      "text/plain": [
       "{'height': {'meters': 70, 'feet': 229.6},\n",
       " 'diameter': {'meters': 3.7, 'feet': 12},\n",
       " 'mass': {'kg': 549054, 'lb': 1207920},\n",
       " 'first_stage': {'thrust_sea_level': {'kN': 7607, 'lbf': 1710000},\n",
       "  'thrust_vacuum': {'kN': 8227, 'lbf': 1849500},\n",
       "  'reusable': True,\n",
       "  'engines': 9,\n",
       "  'fuel_amount_tons': 385,\n",
       "  'burn_time_sec': 162},\n",
       " 'second_stage': {'thrust': {'kN': 934, 'lbf': 210000},\n",
       "  'payloads': {'composite_fairing': {'height': {'meters': 13.1, 'feet': 43},\n",
       "    'diameter': {'meters': 5.2, 'feet': 17.1}},\n",
       "   'option_1': 'dragon'},\n",
       "  'reusable': False,\n",
       "  'engines': 1,\n",
       "  'fuel_amount_tons': 90,\n",
       "  'burn_time_sec': 397},\n",
       " 'engines': {'isp': {'sea_level': 288, 'vacuum': 312},\n",
       "  'thrust_sea_level': {'kN': 845, 'lbf': 190000},\n",
       "  'thrust_vacuum': {'kN': 914, 'lbf': 205500},\n",
       "  'number': 9,\n",
       "  'type': 'merlin',\n",
       "  'version': '1D+',\n",
       "  'layout': 'octaweb',\n",
       "  'engine_loss_max': 2,\n",
       "  'propellant_1': 'liquid oxygen',\n",
       "  'propellant_2': 'RP-1 kerosene',\n",
       "  'thrust_to_weight': 180.1},\n",
       " 'landing_legs': {'number': 4, 'material': 'carbon fiber'},\n",
       " 'payload_weights': [{'id': 'leo',\n",
       "   'name': 'Low Earth Orbit',\n",
       "   'kg': 22800,\n",
       "   'lb': 50265},\n",
       "  {'id': 'gto',\n",
       "   'name': 'Geosynchronous Transfer Orbit',\n",
       "   'kg': 8300,\n",
       "   'lb': 18300},\n",
       "  {'id': 'mars', 'name': 'Mars Orbit', 'kg': 4020, 'lb': 8860}],\n",
       " 'flickr_images': ['https://farm1.staticflickr.com/929/28787338307_3453a11a77_b.jpg',\n",
       "  'https://farm4.staticflickr.com/3955/32915197674_eee74d81bb_b.jpg',\n",
       "  'https://farm1.staticflickr.com/293/32312415025_6841e30bf1_b.jpg',\n",
       "  'https://farm1.staticflickr.com/623/23660653516_5b6cb301d1_b.jpg',\n",
       "  'https://farm6.staticflickr.com/5518/31579784413_d853331601_b.jpg',\n",
       "  'https://farm1.staticflickr.com/745/32394687645_a9c54a34ef_b.jpg'],\n",
       " 'name': 'Falcon 9',\n",
       " 'type': 'rocket',\n",
       " 'active': True,\n",
       " 'stages': 2,\n",
       " 'boosters': 0,\n",
       " 'cost_per_launch': 50000000,\n",
       " 'success_rate_pct': 97,\n",
       " 'first_flight': '2010-06-04',\n",
       " 'country': 'United States',\n",
       " 'company': 'SpaceX',\n",
       " 'wikipedia': 'https://en.wikipedia.org/wiki/Falcon_9',\n",
       " 'description': 'Falcon 9 is a two-stage rocket designed and manufactured by SpaceX for the reliable and safe transport of satellites and the Dragon spacecraft into orbit.',\n",
       " 'id': '5e9d0d95eda69973a809d1ec'}"
      ]
     },
     "execution_count": 39,
     "metadata": {},
     "output_type": "execute_result"
    }
   ],
   "source": [
    "s.get(url_base + \"/rockets/\" + rocket).json()"
   ]
  },
  {
   "cell_type": "code",
   "execution_count": 42,
   "metadata": {},
   "outputs": [
    {
     "data": {
      "text/plain": [
       "<Response [404]>"
      ]
     },
     "execution_count": 42,
     "metadata": {},
     "output_type": "execute_result"
    }
   ],
   "source": [
    "s.get(url_base + \"/payloads/\" + rocket)"
   ]
  },
  {
   "cell_type": "code",
   "execution_count": 45,
   "metadata": {},
   "outputs": [],
   "source": [
    "response = s.get(\"http://127.0.0.1:5000/all_names\").json()"
   ]
  },
  {
   "cell_type": "code",
   "execution_count": 50,
   "metadata": {},
   "outputs": [
    {
     "data": {
      "text/plain": [
       "{'_id': {'$oid': '5f63b476753a6563f012cdb1'},\n",
       " 'response': 'success',\n",
       " 'id': '69',\n",
       " 'name': 'Batman',\n",
       " 'powerstats': {'intelligence': '81',\n",
       "  'strength': '40',\n",
       "  'speed': '29',\n",
       "  'durability': '55',\n",
       "  'power': '63',\n",
       "  'combat': '90'},\n",
       " 'biography': {'full-name': 'Terry McGinnis',\n",
       "  'alter-egos': 'No alter egos found.',\n",
       "  'aliases': ['Batman II',\n",
       "   'The Tomorrow Knight',\n",
       "   'The second Dark Knight',\n",
       "   'The Dark Knight of Tomorrow',\n",
       "   'Batman Beyond'],\n",
       "  'place-of-birth': 'Gotham City, 25th Century',\n",
       "  'first-appearance': 'Batman Beyond #1',\n",
       "  'publisher': 'DC Comics',\n",
       "  'alignment': 'good'},\n",
       " 'appearance': {'gender': 'Male',\n",
       "  'race': 'Human',\n",
       "  'height': [\"5'10\", '178 cm'],\n",
       "  'weight': ['170 lb', '77 kg'],\n",
       "  'eye-color': 'Blue',\n",
       "  'hair-color': 'Black'},\n",
       " 'work': {'occupation': '-', 'base': '21st Century Gotham City'},\n",
       " 'connections': {'group-affiliation': 'Batman Family, Justice League Unlimited',\n",
       "  'relatives': 'Bruce Wayne (biological father), Warren McGinnis (father, deceased), Mary McGinnis (mother), Matt McGinnis (brother)'},\n",
       " 'image': {'url': 'https://www.superherodb.com/pictures2/portraits/10/100/10441.jpg'}}"
      ]
     },
     "execution_count": 50,
     "metadata": {},
     "output_type": "execute_result"
    }
   ],
   "source": [
    "response = s.get(\"http://127.0.0.1:5000/ID/69\").json()\n",
    "response"
   ]
  },
  {
   "cell_type": "code",
   "execution_count": 52,
   "metadata": {},
   "outputs": [
    {
     "data": {
      "text/plain": [
       "{'id': '1000',\n",
       " 'name': 'Alvaro-Man',\n",
       " 'powerstats': {'intelligence': '69',\n",
       "  'strength': '69',\n",
       "  'speed': '69',\n",
       "  'durability': '69',\n",
       "  'power': '69',\n",
       "  'combat': '420'}}"
      ]
     },
     "execution_count": 52,
     "metadata": {},
     "output_type": "execute_result"
    }
   ],
   "source": [
    "hero = {'id': '1000',\n",
    " 'name': 'Alvaro-Man',\n",
    " 'powerstats': {'intelligence': '69',\n",
    "  'strength': '69',\n",
    "  'speed': '69',\n",
    "  'durability': '69',\n",
    "  'power': '69',\n",
    "  'combat': '420'}}\n",
    "hero"
   ]
  },
  {
   "cell_type": "code",
   "execution_count": 53,
   "metadata": {},
   "outputs": [
    {
     "data": {
      "text/plain": [
       "'{\"id\": \"1000\", \"name\": \"Alvaro-Man\", \"powerstats\": {\"intelligence\": \"69\", \"strength\": \"69\", \"speed\": \"69\", \"durability\": \"69\", \"power\": \"69\", \"combat\": \"420\"}}'"
      ]
     },
     "execution_count": 53,
     "metadata": {},
     "output_type": "execute_result"
    }
   ],
   "source": [
    "data = json.dumps(hero)\n",
    "data"
   ]
  },
  {
   "cell_type": "code",
   "execution_count": 58,
   "metadata": {},
   "outputs": [
    {
     "data": {
      "text/plain": [
       "<Response [500]>"
      ]
     },
     "execution_count": 58,
     "metadata": {},
     "output_type": "execute_result"
    }
   ],
   "source": [
    "s.post(\"http://127.0.0.1:5000/new_hero/Alvaro\", data=data)"
   ]
  },
  {
   "cell_type": "code",
   "execution_count": null,
   "metadata": {},
   "outputs": [],
   "source": []
  }
 ],
 "metadata": {
  "kernelspec": {
   "display_name": "Python 3",
   "language": "python",
   "name": "python3"
  },
  "language_info": {
   "codemirror_mode": {
    "name": "ipython",
    "version": 3
   },
   "file_extension": ".py",
   "mimetype": "text/x-python",
   "name": "python",
   "nbconvert_exporter": "python",
   "pygments_lexer": "ipython3",
   "version": "3.7.3"
  }
 },
 "nbformat": 4,
 "nbformat_minor": 4
}
