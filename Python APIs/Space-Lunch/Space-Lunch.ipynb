{
 "cells": [
  {
   "cell_type": "markdown",
   "metadata": {},
   "source": [
    "<h1 align=\"center\">Space-Lunch</h1>\n",
    "A journey through coding with the Engineering Process"
   ]
  },
  {
   "cell_type": "markdown",
   "metadata": {},
   "source": [
    "![EDP](https://external-content.duckduckgo.com/iu/?u=https%3A%2F%2Fwww.sciencebuddies.org%2Fblog%2Fgraphics%2F2013-blog-scientific-method-engineering-design-charts-750px.png&f=1&nofb=1)"
   ]
  },
  {
   "cell_type": "markdown",
   "metadata": {},
   "source": [
    "# Defining our Problem"
   ]
  },
  {
   "cell_type": "markdown",
   "metadata": {},
   "source": [
    "## Abstract\n",
    "Look up places to eat near launch sites"
   ]
  },
  {
   "cell_type": "markdown",
   "metadata": {},
   "source": [
    "## Objective\n",
    "Create a Python Jupyter Notebook application that will allow a user to select upcoming SpaceX launches and then display places to eat back to the user on a map."
   ]
  },
  {
   "cell_type": "markdown",
   "metadata": {},
   "source": [
    "## Requirements\n",
    "1. Allow user to select between upcoming SpaceX launches.\n",
    "2. Display places to eat near selected launch back to user on a map."
   ]
  },
  {
   "cell_type": "markdown",
   "metadata": {},
   "source": [
    "## Project Steps:\n",
    "1. [x] Get the list of upcoming launches including date/time and location. Data source: Probably SpaceX API\n",
    "2. [x] Extract the relevant data (launchpad location, time of launch).\n",
    "3. [x] Display the information to the user.\n",
    "4. [x] Allow user to select between launches. (This gives us the launch location)\n",
    "5. _ Use launch location to get the restaurants. Data Source: Probably Google API\n",
    "6. _ Parse the restaurant data\n",
    "7. _ Display the restaurants on a map."
   ]
  },
  {
   "cell_type": "markdown",
   "metadata": {},
   "source": [
    "## Research Data:\n",
    "Most of our research will be on the data sources we intend to use, so we can link to the documentation for that here:"
   ]
  },
  {
   "cell_type": "markdown",
   "metadata": {},
   "source": [
    "1. Data source for upcoming launches: https://api.spacexdata.com/v4/launches/upcoming\n",
    "    * Launchpad value comes back as a very ugly ID number (i.e.: 5e9e4501f509094ba4566f84)\n",
    "2. Data source to convert launchpad IDs to text: \n",
    "3. Data source for places to eat nearby: https://developers.google.com/maps/documentation/places/web-service/search-nearby\n",
    "    * Required Parameter: Location - The point around which to retrieve place information. This must be specified as latitude,longitude.\n",
    "    * As this requires our location be in lat/lng format, we will need to convert our launch locations to lat/lng."
   ]
  },
  {
   "cell_type": "markdown",
   "metadata": {},
   "source": [
    "# Prototyping\n",
    "This section of the notebook is designated just for prototyping and testing out pieces of code. Much of our code is \"test as you go\", testing out each each step in the project as we program it, but this section set aside for all of our messy experimentation while we try to figure out what kind of approach we want to take to building each step."
   ]
  },
  {
   "cell_type": "code",
   "execution_count": 1,
   "metadata": {},
   "outputs": [],
   "source": [
    "# Import Dependencies\n",
    "import requests\n",
    "import pandas as pd\n",
    "import gmaps\n",
    "import matplotlib.pyplot as plt\n",
    "import datetime\n",
    "import time"
   ]
  },
  {
   "cell_type": "code",
   "execution_count": 2,
   "metadata": {
    "scrolled": true
   },
   "outputs": [
    {
     "data": {
      "text/plain": [
       "[{'fairings': {'reused': None,\n",
       "   'recovery_attempt': None,\n",
       "   'recovered': None,\n",
       "   'ships': []},\n",
       "  'links': {'patch': {'small': 'https://i.imgur.com/CaF1N0S.png',\n",
       "    'large': 'https://i.imgur.com/XdcZC8w.png'},\n",
       "   'reddit': {'campaign': 'https://www.reddit.com/r/spacex/comments/sarr7x/rspacex_csg2_campaign_thread/',\n",
       "    'launch': 'https://www.reddit.com/r/spacex/comments/sdtz77/rspacex_csg2_launch_discussion_and_updates_thread/',\n",
       "    'media': None,\n",
       "    'recovery': None},\n",
       "   'flickr': {'small': [], 'original': []},\n",
       "   'presskit': None,\n",
       "   'webcast': 'https://youtu.be/AbFoi68L-GQ',\n",
       "   'youtube_id': 'AbFoi68L-GQ',\n",
       "   'article': None,\n",
       "   'wikipedia': None},\n",
       "  'static_fire_date_utc': '2022-01-23T21:22:00.000Z',\n",
       "  'static_fire_date_unix': 1642972920,\n",
       "  'net': False,\n",
       "  'window': None,\n",
       "  'rocket': '5e9d0d95eda69973a809d1ec',\n",
       "  'success': None,\n",
       "  'failures': [],\n",
       "  'details': 'Falcon 9 launches to sun-synchronous polar orbit from Florida as part of CSG-2 Mission. The mission lifts off from SLC-40, Cape Canaveral on a southward azimuth and performs a dogleg maneuver. The booster for this mission is expected to return to LZ-1 based on FCC communications filings',\n",
       "  'crew': [],\n",
       "  'ships': [],\n",
       "  'capsules': [],\n",
       "  'payloads': ['6161d3a06db1a92bfba8535a'],\n",
       "  'launchpad': '5e9e4501f509094ba4566f84',\n",
       "  'flight_number': 147,\n",
       "  'name': 'CSG-2',\n",
       "  'date_utc': '2022-01-28T23:11:12.000Z',\n",
       "  'date_unix': 1643411472,\n",
       "  'date_local': '2022-01-28T18:11:12-05:00',\n",
       "  'date_precision': 'hour',\n",
       "  'upcoming': True,\n",
       "  'cores': [{'core': '5e9e28a6f359183c413b265d',\n",
       "    'flight': 3,\n",
       "    'gridfins': True,\n",
       "    'legs': True,\n",
       "    'reused': True,\n",
       "    'landing_attempt': True,\n",
       "    'landing_success': None,\n",
       "    'landing_type': 'RTLS',\n",
       "    'landpad': '5e9e3032383ecb267a34e7c7'}],\n",
       "  'auto_update': False,\n",
       "  'tbd': False,\n",
       "  'launch_library_id': '23229c2b-abb7-4b94-b624-981a9adc88d2',\n",
       "  'id': '6161d32d6db1a92bfba85359'},\n",
       " {'fairings': {'reused': None,\n",
       "   'recovery_attempt': None,\n",
       "   'recovered': None,\n",
       "   'ships': []},\n",
       "  'links': {'patch': {'small': 'https://imgur.com/BrW201S.png',\n",
       "    'large': 'https://imgur.com/573IfGk.png'},\n",
       "   'reddit': {'campaign': 'https://www.reddit.com/r/spacex/comments/jhu37i/starlink_general_discussion_and_deployment_thread/',\n",
       "    'launch': None,\n",
       "    'media': None,\n",
       "    'recovery': 'https://www.reddit.com/r/spacex/comments/k2ts1q/rspacex_fleet_updates_discussion_thread/'},\n",
       "   'flickr': {'small': [], 'original': []},\n",
       "   'presskit': None,\n",
       "   'webcast': None,\n",
       "   'youtube_id': None,\n",
       "   'article': None,\n",
       "   'wikipedia': 'https://en.wikipedia.org/wiki/Starlink'},\n",
       "  'static_fire_date_utc': None,\n",
       "  'static_fire_date_unix': None,\n",
       "  'net': False,\n",
       "  'window': None,\n",
       "  'rocket': '5e9d0d95eda69973a809d1ec',\n",
       "  'success': True,\n",
       "  'failures': [],\n",
       "  'details': None,\n",
       "  'crew': [],\n",
       "  'ships': [],\n",
       "  'capsules': [],\n",
       "  'payloads': ['61e05520be8d8b66799018d5'],\n",
       "  'launchpad': '5e9e4502f509094188566f88',\n",
       "  'flight_number': 148,\n",
       "  'name': 'Starlink 4-7 (v1.5)',\n",
       "  'date_utc': '2022-01-30T19:39:00.000Z',\n",
       "  'date_unix': 1643571540,\n",
       "  'date_local': '2022-01-30T14:39:00-05:00',\n",
       "  'date_precision': 'hour',\n",
       "  'upcoming': True,\n",
       "  'cores': [{'core': None,\n",
       "    'flight': None,\n",
       "    'gridfins': True,\n",
       "    'legs': True,\n",
       "    'reused': True,\n",
       "    'landing_attempt': True,\n",
       "    'landing_success': None,\n",
       "    'landing_type': None,\n",
       "    'landpad': None}],\n",
       "  'auto_update': True,\n",
       "  'tbd': False,\n",
       "  'launch_library_id': None,\n",
       "  'id': '61e048ffbe8d8b66799018d1'},\n",
       " {'fairings': {'reused': None,\n",
       "   'recovery_attempt': None,\n",
       "   'recovered': None,\n",
       "   'ships': []},\n",
       "  'links': {'patch': {'small': None, 'large': None},\n",
       "   'reddit': {'campaign': None,\n",
       "    'launch': None,\n",
       "    'media': None,\n",
       "    'recovery': None},\n",
       "   'flickr': {'small': [], 'original': []},\n",
       "   'presskit': None,\n",
       "   'webcast': None,\n",
       "   'youtube_id': None,\n",
       "   'article': None,\n",
       "   'wikipedia': None},\n",
       "  'static_fire_date_utc': None,\n",
       "  'static_fire_date_unix': None,\n",
       "  'net': False,\n",
       "  'window': None,\n",
       "  'rocket': '5e9d0d95eda69973a809d1ec',\n",
       "  'success': None,\n",
       "  'failures': [],\n",
       "  'details': None,\n",
       "  'crew': [],\n",
       "  'ships': [],\n",
       "  'capsules': [],\n",
       "  'payloads': ['6175aaacefa4314085aa9c56'],\n",
       "  'launchpad': '5e9e4502f509092b78566f87',\n",
       "  'flight_number': 150,\n",
       "  'name': 'NROL-87',\n",
       "  'date_utc': '2022-02-02T16:37:00.000Z',\n",
       "  'date_unix': 1643819820,\n",
       "  'date_local': '2022-02-02T08:37:00-08:00',\n",
       "  'date_precision': 'hour',\n",
       "  'upcoming': True,\n",
       "  'cores': [{'core': None,\n",
       "    'flight': None,\n",
       "    'gridfins': None,\n",
       "    'legs': None,\n",
       "    'reused': None,\n",
       "    'landing_attempt': None,\n",
       "    'landing_success': None,\n",
       "    'landing_type': None,\n",
       "    'landpad': None}],\n",
       "  'auto_update': True,\n",
       "  'tbd': False,\n",
       "  'launch_library_id': None,\n",
       "  'id': '607a34e35a906a44023e085e'},\n",
       " {'fairings': {'reused': None,\n",
       "   'recovery_attempt': None,\n",
       "   'recovered': None,\n",
       "   'ships': []},\n",
       "  'links': {'patch': {'small': None, 'large': None},\n",
       "   'reddit': {'campaign': None,\n",
       "    'launch': None,\n",
       "    'media': None,\n",
       "    'recovery': None},\n",
       "   'flickr': {'small': [], 'original': []},\n",
       "   'presskit': None,\n",
       "   'webcast': None,\n",
       "   'youtube_id': None,\n",
       "   'article': None,\n",
       "   'wikipedia': None},\n",
       "  'static_fire_date_utc': None,\n",
       "  'static_fire_date_unix': None,\n",
       "  'net': False,\n",
       "  'window': None,\n",
       "  'rocket': '5e9d0d95eda69973a809d1ec',\n",
       "  'success': None,\n",
       "  'failures': [],\n",
       "  'details': None,\n",
       "  'crew': [],\n",
       "  'ships': [],\n",
       "  'capsules': [],\n",
       "  'payloads': ['61eef9b89eb1064137a1bd72'],\n",
       "  'launchpad': '5e9e4502f509094188566f88',\n",
       "  'flight_number': 154,\n",
       "  'name': 'IM-1 Nova-C',\n",
       "  'date_utc': '2022-02-01T00:00:00.000Z',\n",
       "  'date_unix': 1643673600,\n",
       "  'date_local': '2022-01-31T19:00:00-05:00',\n",
       "  'date_precision': 'month',\n",
       "  'upcoming': True,\n",
       "  'cores': [{'core': None,\n",
       "    'flight': None,\n",
       "    'gridfins': None,\n",
       "    'legs': None,\n",
       "    'reused': None,\n",
       "    'landing_attempt': None,\n",
       "    'landing_success': None,\n",
       "    'landing_type': None,\n",
       "    'landpad': None}],\n",
       "  'auto_update': True,\n",
       "  'tbd': False,\n",
       "  'launch_library_id': None,\n",
       "  'id': '61eef7489eb1064137a1bd6f'},\n",
       " {'fairings': None,\n",
       "  'links': {'patch': {'small': 'https://i.imgur.com/h4x6VFd.png',\n",
       "    'large': 'https://i.imgur.com/RR8JLzm.png'},\n",
       "   'reddit': {'campaign': None,\n",
       "    'launch': None,\n",
       "    'media': None,\n",
       "    'recovery': None},\n",
       "   'flickr': {'small': [], 'original': []},\n",
       "   'presskit': None,\n",
       "   'webcast': None,\n",
       "   'youtube_id': None,\n",
       "   'article': None,\n",
       "   'wikipedia': None},\n",
       "  'static_fire_date_utc': None,\n",
       "  'static_fire_date_unix': None,\n",
       "  'net': False,\n",
       "  'window': None,\n",
       "  'rocket': '5e9d0d95eda69973a809d1ec',\n",
       "  'success': None,\n",
       "  'failures': [],\n",
       "  'details': 'Axiom Mission 1 (or Ax-1) is a planned SpaceX Crew Dragon mission to the International Space Station (ISS), operated by SpaceX on behalf of Axiom Space. The flight will launch no earlier than 31 March 2022 and send four people to the ISS for an eight-day stay',\n",
       "  'crew': ['61eefc9c9eb1064137a1bd77',\n",
       "   '61eefcf89eb1064137a1bd79',\n",
       "   '61eefd5b9eb1064137a1bd7a',\n",
       "   '61eefdbf9eb1064137a1bd7b'],\n",
       "  'ships': [],\n",
       "  'capsules': [],\n",
       "  'payloads': ['61eefb129eb1064137a1bd74'],\n",
       "  'launchpad': '5e9e4502f509094188566f88',\n",
       "  'flight_number': 154,\n",
       "  'name': 'Ax-1',\n",
       "  'date_utc': '2022-03-31T00:00:00.000Z',\n",
       "  'date_unix': 1648684800,\n",
       "  'date_local': '2022-03-30T20:00:00-04:00',\n",
       "  'date_precision': 'day',\n",
       "  'upcoming': True,\n",
       "  'cores': [{'core': None,\n",
       "    'flight': None,\n",
       "    'gridfins': None,\n",
       "    'legs': None,\n",
       "    'reused': None,\n",
       "    'landing_attempt': None,\n",
       "    'landing_success': None,\n",
       "    'landing_type': None,\n",
       "    'landpad': None}],\n",
       "  'auto_update': True,\n",
       "  'tbd': False,\n",
       "  'launch_library_id': None,\n",
       "  'id': '61eefaa89eb1064137a1bd73'},\n",
       " {'fairings': {'reused': None,\n",
       "   'recovery_attempt': None,\n",
       "   'recovered': None,\n",
       "   'ships': []},\n",
       "  'links': {'patch': {'small': None, 'large': None},\n",
       "   'reddit': {'campaign': None,\n",
       "    'launch': None,\n",
       "    'media': None,\n",
       "    'recovery': 'https://www.reddit.com/r/spacex/comments/k2ts1q/rspacex_fleet_updates_discussion_thread/'},\n",
       "   'flickr': {'small': [], 'original': []},\n",
       "   'presskit': None,\n",
       "   'webcast': None,\n",
       "   'youtube_id': None,\n",
       "   'article': None,\n",
       "   'wikipedia': None},\n",
       "  'static_fire_date_utc': None,\n",
       "  'static_fire_date_unix': None,\n",
       "  'net': False,\n",
       "  'window': None,\n",
       "  'rocket': '5e9d0d95eda69973a809d1ec',\n",
       "  'success': None,\n",
       "  'failures': [],\n",
       "  'details': None,\n",
       "  'crew': [],\n",
       "  'ships': [],\n",
       "  'capsules': [],\n",
       "  'payloads': ['5fe3b2abb3467846b3242172'],\n",
       "  'launchpad': '5e9e4502f509092b78566f87',\n",
       "  'flight_number': 160,\n",
       "  'name': 'SARah 1',\n",
       "  'date_utc': '2022-04-01T00:00:00.000Z',\n",
       "  'date_unix': 1648771200,\n",
       "  'date_local': '2022-03-31T17:00:00-07:00',\n",
       "  'date_precision': 'month',\n",
       "  'upcoming': True,\n",
       "  'cores': [{'core': None,\n",
       "    'flight': None,\n",
       "    'gridfins': None,\n",
       "    'legs': None,\n",
       "    'reused': None,\n",
       "    'landing_attempt': None,\n",
       "    'landing_success': None,\n",
       "    'landing_type': None,\n",
       "    'landpad': None}],\n",
       "  'auto_update': True,\n",
       "  'tbd': False,\n",
       "  'launch_library_id': None,\n",
       "  'id': '5fe3af43b3467846b324215e'}]"
      ]
     },
     "execution_count": 2,
     "metadata": {},
     "output_type": "execute_result"
    }
   ],
   "source": [
    "resp = requests.get(\"https://api.spacexdata.com/v4/launches/upcoming\").json()\n",
    "resp"
   ]
  },
  {
   "cell_type": "code",
   "execution_count": 3,
   "metadata": {},
   "outputs": [
    {
     "data": {
      "text/plain": [
       "'2022-01-28T18:11:12-05:00'"
      ]
     },
     "execution_count": 3,
     "metadata": {},
     "output_type": "execute_result"
    }
   ],
   "source": [
    "date = resp[0]['date_local']\n",
    "date"
   ]
  },
  {
   "cell_type": "code",
   "execution_count": 4,
   "metadata": {},
   "outputs": [
    {
     "data": {
      "text/plain": [
       "'5e9e4501f509094ba4566f84'"
      ]
     },
     "execution_count": 4,
     "metadata": {},
     "output_type": "execute_result"
    }
   ],
   "source": [
    "pad = resp[0]['launchpad']\n",
    "pad"
   ]
  },
  {
   "cell_type": "code",
   "execution_count": 5,
   "metadata": {
    "scrolled": true
   },
   "outputs": [
    {
     "data": {
      "text/plain": [
       "{'images': {'large': ['https://i.imgur.com/9oEMXwa.png']},\n",
       " 'name': 'CCSFS SLC 40',\n",
       " 'full_name': 'Cape Canaveral Space Force Station Space Launch Complex 40',\n",
       " 'locality': 'Cape Canaveral',\n",
       " 'region': 'Florida',\n",
       " 'latitude': 28.5618571,\n",
       " 'longitude': -80.577366,\n",
       " 'launch_attempts': 79,\n",
       " 'launch_successes': 77,\n",
       " 'rockets': ['5e9d0d95eda69973a809d1ec'],\n",
       " 'timezone': 'America/New_York',\n",
       " 'launches': ['5eb87cddffd86e000604b32f',\n",
       "  '5eb87cdeffd86e000604b330',\n",
       "  '5eb87cdfffd86e000604b331',\n",
       "  '5eb87ce0ffd86e000604b332',\n",
       "  '5eb87ce1ffd86e000604b333',\n",
       "  '5eb87ce2ffd86e000604b335',\n",
       "  '5eb87ce3ffd86e000604b336',\n",
       "  '5eb87ce4ffd86e000604b337',\n",
       "  '5eb87ce4ffd86e000604b338',\n",
       "  '5eb87ce5ffd86e000604b339',\n",
       "  '5eb87ce6ffd86e000604b33a',\n",
       "  '5eb87ce7ffd86e000604b33b',\n",
       "  '5eb87ce8ffd86e000604b33c',\n",
       "  '5eb87ceaffd86e000604b33d',\n",
       "  '5eb87ceaffd86e000604b33e',\n",
       "  '5eb87cecffd86e000604b33f',\n",
       "  '5eb87cedffd86e000604b340',\n",
       "  '5eb87ceeffd86e000604b341',\n",
       "  '5eb87cefffd86e000604b342',\n",
       "  '5eb87cf2ffd86e000604b344',\n",
       "  '5eb87cf3ffd86e000604b345',\n",
       "  '5eb87cf5ffd86e000604b346',\n",
       "  '5eb87cf6ffd86e000604b347',\n",
       "  '5eb87cf8ffd86e000604b348',\n",
       "  '5eb87cf9ffd86e000604b349',\n",
       "  '5eb87cfaffd86e000604b34a',\n",
       "  '5eb87cfbffd86e000604b34b',\n",
       "  '5eb87d0effd86e000604b35c',\n",
       "  '5eb87d10ffd86e000604b35e',\n",
       "  '5eb87d11ffd86e000604b35f',\n",
       "  '5eb87d15ffd86e000604b362',\n",
       "  '5eb87d16ffd86e000604b364',\n",
       "  '5eb87d18ffd86e000604b365',\n",
       "  '5eb87d1bffd86e000604b368',\n",
       "  '5eb87d1cffd86e000604b369',\n",
       "  '5eb87d1effd86e000604b36a',\n",
       "  '5eb87d20ffd86e000604b36c',\n",
       "  '5eb87d22ffd86e000604b36d',\n",
       "  '5eb87d26ffd86e000604b371',\n",
       "  '5eb87d27ffd86e000604b372',\n",
       "  '5eb87d2affd86e000604b374',\n",
       "  '5eb87d2effd86e000604b377',\n",
       "  '5eb87d30ffd86e000604b378',\n",
       "  '5eb87d36ffd86e000604b37b',\n",
       "  '5eb87d37ffd86e000604b37c',\n",
       "  '5eb87d39ffd86e000604b37d',\n",
       "  '5eb87d39ffd86e000604b37e',\n",
       "  '5eb87d3bffd86e000604b37f',\n",
       "  '5eb87d3cffd86e000604b380',\n",
       "  '5eb87d3fffd86e000604b382',\n",
       "  '5eb87d41ffd86e000604b383',\n",
       "  '5eb87d42ffd86e000604b384',\n",
       "  '5eb87d45ffd86e000604b387',\n",
       "  '5eb87d46ffd86e000604b389',\n",
       "  '5eb87d4affd86e000604b38b',\n",
       "  '5eb87d50ffd86e000604b394',\n",
       "  '5ed981d91f30554030d45c2a',\n",
       "  '5eb87d47ffd86e000604b38a',\n",
       "  '5ef6a2e70059c33cee4a8293',\n",
       "  '5eb87d4cffd86e000604b38d',\n",
       "  '5fb95b3f3a88ae63c954603c',\n",
       "  '5eb87d4bffd86e000604b38c',\n",
       "  '5eb87d4fffd86e000604b393',\n",
       "  '5fd386aa7faea57d297c86c1',\n",
       "  '5ff6554f9257f579ee3a6c5f',\n",
       "  '600f9a5e8f798e2a4d5f979c',\n",
       "  '600f9a718f798e2a4d5f979d',\n",
       "  '60428aafc041c16716f73cd7',\n",
       "  '60428ac4c041c16716f73cd8',\n",
       "  '605b4b6aaa5433645e37d03f',\n",
       "  '6079bd1c9a06446e8c61bf76',\n",
       "  '6079bd399a06446e8c61bf77',\n",
       "  '5fe3af6db3467846b3242160',\n",
       "  '5eb87d4effd86e000604b390',\n",
       "  '600f9b6d8f798e2a4d5f979f',\n",
       "  '618faad2563d69573ed8ca9d',\n",
       "  '6161c94c6db1a92bfba85349',\n",
       "  '5fe3afc1b3467846b3242164',\n",
       "  '61bf3e31cd5ab50b0d936345'],\n",
       " 'status': 'active',\n",
       " 'details': \"SpaceX's primary Falcon 9 pad, where all east coast Falcon 9s launched prior to the AMOS-6 anomaly. Previously used alongside SLC-41 to launch Titan rockets for the US Air Force, the pad was heavily damaged by the AMOS-6 anomaly in September 2016. It returned to flight with CRS-13 on December 15, 2017, boasting an upgraded throwback-style Transporter-Erector modeled after that at LC-39A.\",\n",
       " 'id': '5e9e4501f509094ba4566f84'}"
      ]
     },
     "execution_count": 5,
     "metadata": {},
     "output_type": "execute_result"
    }
   ],
   "source": [
    "# That launchpad ID is pretty gross, let's convert it to something we can use!\n",
    "resp = requests.get(\"https://api.spacexdata.com/v4/launchpads/\" + pad).json()\n",
    "resp"
   ]
  },
  {
   "cell_type": "markdown",
   "metadata": {},
   "source": [
    "# Parsing SpaceX Data\n",
    "Now that we are done prototyping, let's build a block of code to output just the date and location for each upcoming SpaceX launch."
   ]
  },
  {
   "cell_type": "code",
   "execution_count": 6,
   "metadata": {},
   "outputs": [
    {
     "data": {
      "text/html": [
       "<div>\n",
       "<style scoped>\n",
       "    .dataframe tbody tr th:only-of-type {\n",
       "        vertical-align: middle;\n",
       "    }\n",
       "\n",
       "    .dataframe tbody tr th {\n",
       "        vertical-align: top;\n",
       "    }\n",
       "\n",
       "    .dataframe thead th {\n",
       "        text-align: right;\n",
       "    }\n",
       "</style>\n",
       "<table border=\"1\" class=\"dataframe\">\n",
       "  <thead>\n",
       "    <tr style=\"text-align: right;\">\n",
       "      <th></th>\n",
       "      <th>date</th>\n",
       "      <th>pad</th>\n",
       "    </tr>\n",
       "  </thead>\n",
       "  <tbody>\n",
       "    <tr>\n",
       "      <th>0</th>\n",
       "      <td>2022-01-28T18:11:12-05:00</td>\n",
       "      <td>Cape Canaveral Space Force Station Space Launc...</td>\n",
       "    </tr>\n",
       "    <tr>\n",
       "      <th>1</th>\n",
       "      <td>2022-01-30T14:39:00-05:00</td>\n",
       "      <td>Kennedy Space Center Historic Launch Complex 39A</td>\n",
       "    </tr>\n",
       "    <tr>\n",
       "      <th>2</th>\n",
       "      <td>2022-02-02T08:37:00-08:00</td>\n",
       "      <td>Vandenberg Space Force Base Space Launch Compl...</td>\n",
       "    </tr>\n",
       "    <tr>\n",
       "      <th>3</th>\n",
       "      <td>2022-01-31T19:00:00-05:00</td>\n",
       "      <td>Kennedy Space Center Historic Launch Complex 39A</td>\n",
       "    </tr>\n",
       "    <tr>\n",
       "      <th>4</th>\n",
       "      <td>2022-03-30T20:00:00-04:00</td>\n",
       "      <td>Kennedy Space Center Historic Launch Complex 39A</td>\n",
       "    </tr>\n",
       "    <tr>\n",
       "      <th>5</th>\n",
       "      <td>2022-03-31T17:00:00-07:00</td>\n",
       "      <td>Vandenberg Space Force Base Space Launch Compl...</td>\n",
       "    </tr>\n",
       "  </tbody>\n",
       "</table>\n",
       "</div>"
      ],
      "text/plain": [
       "                        date  \\\n",
       "0  2022-01-28T18:11:12-05:00   \n",
       "1  2022-01-30T14:39:00-05:00   \n",
       "2  2022-02-02T08:37:00-08:00   \n",
       "3  2022-01-31T19:00:00-05:00   \n",
       "4  2022-03-30T20:00:00-04:00   \n",
       "5  2022-03-31T17:00:00-07:00   \n",
       "\n",
       "                                                 pad  \n",
       "0  Cape Canaveral Space Force Station Space Launc...  \n",
       "1   Kennedy Space Center Historic Launch Complex 39A  \n",
       "2  Vandenberg Space Force Base Space Launch Compl...  \n",
       "3   Kennedy Space Center Historic Launch Complex 39A  \n",
       "4   Kennedy Space Center Historic Launch Complex 39A  \n",
       "5  Vandenberg Space Force Base Space Launch Compl...  "
      ]
     },
     "execution_count": 6,
     "metadata": {},
     "output_type": "execute_result"
    }
   ],
   "source": [
    "# Get list of upcoming launches from SpaceX API\n",
    "resp = requests.get(\"https://api.spacexdata.com/v4/launches/upcoming\").json()\n",
    "\n",
    "# Get date/time and location for each launch\n",
    "launches = [] # Create a list to store launch information in\n",
    "\n",
    "for launch in resp: # For each \"launch\" dictionary in the \"resp\" list of launches:\n",
    "    \n",
    "    date = launch['date_local'] # Retrieve the date for that launch\n",
    "    pad_id = launch['launchpad']# Retrieve the pad ID for that launch\n",
    "    \n",
    "    # Convert the pad ID into a pad name using an additional API call\n",
    "    resp2 = requests.get(\"https://api.spacexdata.com/v4/launchpads/\" + pad_id).json()\n",
    "    pad = resp2['full_name'] # Pull the full pad name out of the resp2 dictionary\n",
    "    \n",
    "    # Put the date and pad name for this launch in a dictionary and add that to the launches list\n",
    "    launches.append({'date': date, \"pad\": pad})\n",
    "\n",
    "# Convert the launches list of dictionaries to a DataFrame\n",
    "df = pd.DataFrame(launches)\n",
    "\n",
    "# Display the list of launches to the user\n",
    "df"
   ]
  },
  {
   "cell_type": "markdown",
   "metadata": {},
   "source": [
    "# Get User Selection"
   ]
  },
  {
   "cell_type": "code",
   "execution_count": 7,
   "metadata": {},
   "outputs": [
    {
     "name": "stdin",
     "output_type": "stream",
     "text": [
      "Select a launch to visit by the index number:  1\n"
     ]
    },
    {
     "data": {
      "text/plain": [
       "1"
      ]
     },
     "execution_count": 7,
     "metadata": {},
     "output_type": "execute_result"
    }
   ],
   "source": [
    "# Get the user selection\n",
    "selection = int(input(\"Select a launch to visit by the index number: \"))\n",
    "selection"
   ]
  },
  {
   "cell_type": "code",
   "execution_count": 8,
   "metadata": {},
   "outputs": [
    {
     "data": {
      "text/plain": [
       "'Kennedy Space Center Historic Launch Complex 39A'"
      ]
     },
     "execution_count": 8,
     "metadata": {},
     "output_type": "execute_result"
    }
   ],
   "source": [
    "# Based on user selection, get the appropriate pad location.\n",
    "location = df['pad'][selection]\n",
    "\n",
    "# Display that pad back to the user\n",
    "location"
   ]
  },
  {
   "cell_type": "markdown",
   "metadata": {},
   "source": [
    "# Pull and Parse Restaurant Data\n",
    "After we have finished retrieving the SpaceX launch Data and asking the user what launch they wish to visit, we can move on to retrieving places to eat near that launch site."
   ]
  },
  {
   "cell_type": "code",
   "execution_count": 9,
   "metadata": {},
   "outputs": [],
   "source": [
    "# Import our gkey (Do not forget to make your own config.py)\n",
    "from config import gkey"
   ]
  },
  {
   "cell_type": "code",
   "execution_count": 10,
   "metadata": {},
   "outputs": [
    {
     "data": {
      "text/plain": [
       "{'results': [{'address_components': [{'long_name': 'Florida',\n",
       "     'short_name': 'FL',\n",
       "     'types': ['administrative_area_level_1', 'political']},\n",
       "    {'long_name': 'Brevard County',\n",
       "     'short_name': 'Brevard County',\n",
       "     'types': ['administrative_area_level_2', 'political']},\n",
       "    {'long_name': 'United States',\n",
       "     'short_name': 'US',\n",
       "     'types': ['country', 'political']}],\n",
       "   'formatted_address': 'Kennedy Space Center, FL, USA',\n",
       "   'geometry': {'location': {'lat': 28.6263826, 'lng': -80.6204703},\n",
       "    'location_type': 'GEOMETRIC_CENTER',\n",
       "    'viewport': {'northeast': {'lat': 28.6277315802915,\n",
       "      'lng': -80.61912131970848},\n",
       "     'southwest': {'lat': 28.6250336197085, 'lng': -80.6218192802915}}},\n",
       "   'place_id': 'ChIJZer0yrO74IgRbTR4IzfGf1s',\n",
       "   'plus_code': {'compound_code': 'J9GH+HR Wilson, FL, USA',\n",
       "    'global_code': '76WXJ9GH+HR'},\n",
       "   'types': ['establishment', 'museum', 'point_of_interest']}],\n",
       " 'status': 'OK'}"
      ]
     },
     "execution_count": 10,
     "metadata": {},
     "output_type": "execute_result"
    }
   ],
   "source": [
    "# Google geocoding API\n",
    "# Now we can convert the pad name into lat/lng coordinates using the google geocoding API.\n",
    "resp = requests.get(f\"https://maps.googleapis.com/maps/api/geocode/json?address={location}&key={gkey}\").json()\n",
    "resp"
   ]
  },
  {
   "cell_type": "code",
   "execution_count": null,
   "metadata": {},
   "outputs": [],
   "source": []
  },
  {
   "cell_type": "code",
   "execution_count": null,
   "metadata": {},
   "outputs": [],
   "source": []
  },
  {
   "cell_type": "code",
   "execution_count": null,
   "metadata": {},
   "outputs": [],
   "source": [
    "# google maps restaurant API call\n",
    "url = \"https://maps.googleapis.com/maps/api/place/nearbysearch/json\"\n",
    "params_dict = {\n",
    "    \"location\": f'{lat}, {lng}',\n",
    "    \"rankby\": \"distance\",\n",
    "    \"type\": \"restaurant\",\n",
    "    \"key\": gkey\n",
    "}"
   ]
  },
  {
   "cell_type": "code",
   "execution_count": 17,
   "metadata": {},
   "outputs": [],
   "source": []
  },
  {
   "cell_type": "code",
   "execution_count": 17,
   "metadata": {},
   "outputs": [],
   "source": []
  },
  {
   "cell_type": "code",
   "execution_count": 17,
   "metadata": {},
   "outputs": [
    {
     "name": "stdout",
     "output_type": "stream",
     "text": [
      "https://www.google.com/maps/@28.6263826,-80.6204703,4000m/data=!3m1!1e3\n"
     ]
    }
   ],
   "source": [
    "base = \"https://www.google.com/maps/@\"\n",
    "sat = \"/data=!3m1!1e3\"\n",
    "lat = \"28.6263826\"\n",
    "lng = \"-80.6204703\"\n",
    "height = \"4000\"\n",
    "\n",
    "url = f\"{base}{lat},{lng},{height}m{sat}\"\n",
    "print(url)"
   ]
  },
  {
   "cell_type": "code",
   "execution_count": null,
   "metadata": {},
   "outputs": [],
   "source": []
  },
  {
   "cell_type": "code",
   "execution_count": null,
   "metadata": {},
   "outputs": [],
   "source": []
  }
 ],
 "metadata": {
  "kernelspec": {
   "display_name": "Python 3",
   "language": "python",
   "name": "python3"
  },
  "language_info": {
   "codemirror_mode": {
    "name": "ipython",
    "version": 3
   },
   "file_extension": ".py",
   "mimetype": "text/x-python",
   "name": "python",
   "nbconvert_exporter": "python",
   "pygments_lexer": "ipython3",
   "version": "3.7.3"
  }
 },
 "nbformat": 4,
 "nbformat_minor": 4
}
