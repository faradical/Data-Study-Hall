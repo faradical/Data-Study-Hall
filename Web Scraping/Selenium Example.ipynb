{
 "cells": [
  {
   "cell_type": "code",
   "execution_count": 37,
   "metadata": {},
   "outputs": [],
   "source": [
    "# IMPORT DEPENDENCIES\n",
    "from selenium import webdriver\n",
    "from bs4 import BeautifulSoup as BS"
   ]
  },
  {
   "cell_type": "code",
   "execution_count": 38,
   "metadata": {},
   "outputs": [],
   "source": [
    "url = \"https://cecind123.github.io/DEATHBATTLE-master/Web%20server%20files/DeathBattle.html\""
   ]
  },
  {
   "cell_type": "code",
   "execution_count": 39,
   "metadata": {},
   "outputs": [],
   "source": [
    "driver = webdriver.Firefox()\n",
    "driver.get(url)"
   ]
  },
  {
   "cell_type": "markdown",
   "metadata": {},
   "source": [
    "## Find Elements using Selenium"
   ]
  },
  {
   "cell_type": "code",
   "execution_count": 4,
   "metadata": {},
   "outputs": [
    {
     "data": {
      "text/plain": [
       "<selenium.webdriver.firefox.webelement.FirefoxWebElement (session=\"b05320fe-396c-4961-b34b-a791e0965172\", element=\"85e03e91-452d-40a6-bbef-1438db7c0d0d\")>"
      ]
     },
     "execution_count": 4,
     "metadata": {},
     "output_type": "execute_result"
    }
   ],
   "source": [
    "#Find by ID\n",
    "dropdown1 = driver.find_element_by_id(\"character1\")\n",
    "dropdown1"
   ]
  },
  {
   "cell_type": "code",
   "execution_count": 9,
   "metadata": {},
   "outputs": [
    {
     "data": {
      "text/plain": [
       "[<selenium.webdriver.firefox.webelement.FirefoxWebElement (session=\"b05320fe-396c-4961-b34b-a791e0965172\", element=\"d0b455d4-aedb-427d-838f-3bcccbc885ba\")>,\n",
       " <selenium.webdriver.firefox.webelement.FirefoxWebElement (session=\"b05320fe-396c-4961-b34b-a791e0965172\", element=\"c1088f5a-7da8-4727-9c15-3ac84c82b922\")>,\n",
       " <selenium.webdriver.firefox.webelement.FirefoxWebElement (session=\"b05320fe-396c-4961-b34b-a791e0965172\", element=\"6a55b1fc-5670-4b44-97c5-fff0f56048a4\")>,\n",
       " <selenium.webdriver.firefox.webelement.FirefoxWebElement (session=\"b05320fe-396c-4961-b34b-a791e0965172\", element=\"84fc03a7-20f7-4535-845b-7423aa9e17b0\")>,\n",
       " <selenium.webdriver.firefox.webelement.FirefoxWebElement (session=\"b05320fe-396c-4961-b34b-a791e0965172\", element=\"784bfa44-7fe4-4e36-9f66-154d6ecd7bd7\")>]"
      ]
     },
     "execution_count": 9,
     "metadata": {},
     "output_type": "execute_result"
    }
   ],
   "source": [
    "#Find by tag\n",
    "driver.find_elements_by_tag_name(\"img\")"
   ]
  },
  {
   "cell_type": "code",
   "execution_count": 10,
   "metadata": {},
   "outputs": [
    {
     "data": {
      "text/plain": [
       "<selenium.webdriver.firefox.webelement.FirefoxWebElement (session=\"b05320fe-396c-4961-b34b-a791e0965172\", element=\"970c645b-0914-40da-9b22-60770442f451\")>"
      ]
     },
     "execution_count": 10,
     "metadata": {},
     "output_type": "execute_result"
    }
   ],
   "source": [
    "#Find by class\n",
    "driver.find_element_by_class_name(\"jumbotron-fluid\")"
   ]
  },
  {
   "cell_type": "markdown",
   "metadata": {},
   "source": [
    "## Interacting with elements in Selenium\n",
    "\t.click()\n",
    "\t.send_keys()\n",
    "\t.execute_script()"
   ]
  },
  {
   "cell_type": "markdown",
   "metadata": {},
   "source": [
    "## Find Elements using BS4"
   ]
  },
  {
   "cell_type": "code",
   "execution_count": 12,
   "metadata": {},
   "outputs": [],
   "source": [
    "body = driver.find_element_by_tag_name(\"body\")\n",
    "body_html = body.get_attribute(\"innerHTML\")\n",
    "body_html\n",
    "\n",
    "soup = BS(body_html)"
   ]
  },
  {
   "cell_type": "code",
   "execution_count": 13,
   "metadata": {},
   "outputs": [
    {
     "data": {
      "text/plain": [
       "<option>Choose your fighter!</option>"
      ]
     },
     "execution_count": 13,
     "metadata": {},
     "output_type": "execute_result"
    }
   ],
   "source": [
    "soup.find(\"option\")"
   ]
  },
  {
   "cell_type": "code",
   "execution_count": null,
   "metadata": {
    "jupyter": {
     "source_hidden": true
    }
   },
   "outputs": [],
   "source": [
    "soup.find(class_=\"form-control\")"
   ]
  },
  {
   "cell_type": "code",
   "execution_count": 33,
   "metadata": {},
   "outputs": [],
   "source": [
    "Bat_ID = soup.find(\"option\", text=\"Batman\")['value']"
   ]
  },
  {
   "cell_type": "code",
   "execution_count": 19,
   "metadata": {},
   "outputs": [],
   "source": [
    "soup.find(attrs= {\"id\": \"character1\"})"
   ]
  },
  {
   "cell_type": "code",
   "execution_count": null,
   "metadata": {},
   "outputs": [],
   "source": [
    "soup.find(class_=\"form-control\")"
   ]
  },
  {
   "cell_type": "markdown",
   "metadata": {},
   "source": [
    "## Combining BS4 and Selenium to find elements"
   ]
  },
  {
   "cell_type": "code",
   "execution_count": 27,
   "metadata": {},
   "outputs": [],
   "source": [
    "for opt in driver.find_elements_by_tag_name(\"option\"):\n",
    "    if \"Batman\" in BS(opt.get_attribute('innerHTML')).get_text():\n",
    "        batman = opt\n",
    "        break\n",
    "batman"
   ]
  },
  {
   "cell_type": "code",
   "execution_count": 36,
   "metadata": {},
   "outputs": [
    {
     "name": "stdout",
     "output_type": "stream",
     "text": [
      "continue the script\n"
     ]
    }
   ],
   "source": [
    "if batman:\n",
    "    print(\"continue the script\")\n",
    "else:\n",
    "    print(\"Log an error\")"
   ]
  },
  {
   "cell_type": "code",
   "execution_count": 28,
   "metadata": {},
   "outputs": [],
   "source": [
    "dropdown1.click()"
   ]
  },
  {
   "cell_type": "code",
   "execution_count": 29,
   "metadata": {},
   "outputs": [],
   "source": [
    "batman.click()"
   ]
  },
  {
   "cell_type": "markdown",
   "metadata": {},
   "source": [
    "## Hijacking JavaScript"
   ]
  },
  {
   "cell_type": "code",
   "execution_count": 30,
   "metadata": {},
   "outputs": [],
   "source": [
    "driver.get(url)"
   ]
  },
  {
   "cell_type": "code",
   "execution_count": 40,
   "metadata": {},
   "outputs": [],
   "source": [
    "driver.execute_script(\"console.log('whats up')\")"
   ]
  },
  {
   "cell_type": "code",
   "execution_count": 34,
   "metadata": {},
   "outputs": [],
   "source": [
    "driver.execute_script(f\"BuildHTMLNoJutsu1({Bat_ID})\")"
   ]
  },
  {
   "cell_type": "markdown",
   "metadata": {},
   "source": [
    "## Close Driver When Done!"
   ]
  },
  {
   "cell_type": "code",
   "execution_count": 41,
   "metadata": {},
   "outputs": [],
   "source": [
    "driver.quit()"
   ]
  },
  {
   "cell_type": "code",
   "execution_count": null,
   "metadata": {},
   "outputs": [],
   "source": []
  }
 ],
 "metadata": {
  "kernelspec": {
   "display_name": "Python 3",
   "language": "python",
   "name": "python3"
  },
  "language_info": {
   "codemirror_mode": {
    "name": "ipython",
    "version": 3
   },
   "file_extension": ".py",
   "mimetype": "text/x-python",
   "name": "python",
   "nbconvert_exporter": "python",
   "pygments_lexer": "ipython3",
   "version": "3.7.3"
  }
 },
 "nbformat": 4,
 "nbformat_minor": 4
}
